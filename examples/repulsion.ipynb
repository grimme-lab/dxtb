{
  "cells": [
    {
      "cell_type": "markdown",
      "id": "4259543b",
      "metadata": {},
      "source": [
        "# Example: Properties"
      ]
    },
    {
      "cell_type": "markdown",
      "id": "8a5dfdb5",
      "metadata": {},
      "source": [
        "#### Imports"
      ]
    },
    {
      "cell_type": "code",
      "execution_count": 1,
      "id": "e5d553fd",
      "metadata": {
        "trusted": true
      },
      "outputs": [],
      "source": [
        "import numpy as np\n",
        "import torch\n",
        "import time\n",
        "from pathlib import Path\n",
        "import gc\n",
        "\n",
        "import dxtb\n",
        "\n",
        "import logging\n",
        "\n",
        "logging.getLogger().setLevel(logging.ERROR)"
      ]
    },
    {
      "cell_type": "code",
      "execution_count": 2,
      "metadata": {},
      "outputs": [],
      "source": [
        "def _tensors_from_gc() -> list:\n",
        "    return [obj for obj in gc.get_objects() if isinstance(obj, torch.Tensor)]\n",
        "\n",
        "\n",
        "def _get_tensor_memory(\n",
        "    return_number_tensors: bool = False,\n",
        ") -> float | tuple[float, int]:\n",
        "    \"\"\"\n",
        "    Obtain the total memory occupied by torch.Tensor in the garbage collector.\n",
        "\n",
        "    Returns\n",
        "    -------\n",
        "    tuple[float, int]\n",
        "        Memory in MiB and number of tensors.\n",
        "    \"\"\"\n",
        "\n",
        "    # obtaining all the tensor objects from the garbage collector\n",
        "    tensor_objs = _tensors_from_gc()\n",
        "\n",
        "    # iterate each tensor objects uniquely and calculate the total storage\n",
        "    visited_data = set()\n",
        "    total_mem = 0.0\n",
        "    for tensor in tensor_objs:\n",
        "        if tensor.is_sparse:\n",
        "            continue\n",
        "\n",
        "        # check if it has been visited\n",
        "        storage = tensor.storage()\n",
        "        data_ptr = storage.data_ptr()  # type: ignore\n",
        "        if data_ptr in visited_data:\n",
        "            continue\n",
        "        visited_data.add(data_ptr)\n",
        "\n",
        "        # calculate the storage occupied\n",
        "        numel = storage.size()\n",
        "        elmt_size = storage.element_size()\n",
        "        mem = numel * elmt_size / (1024 * 1024)  # in MiB\n",
        "\n",
        "        total_mem += mem\n",
        "\n",
        "    if return_number_tensors is True:\n",
        "        return total_mem, len(tensor_objs)\n",
        "    return total_mem"
      ]
    },
    {
      "cell_type": "markdown",
      "id": "06923bc3",
      "metadata": {},
      "source": [
        "#### dxtb calculation"
      ]
    },
    {
      "cell_type": "code",
      "execution_count": 3,
      "id": "0fb4ead7",
      "metadata": {},
      "outputs": [],
      "source": [
        "f = Path(globals()['_dh'][0]) / \"molecules\" / \"nylon.xyz\"\n",
        "atoms, xyz = dxtb.io.read_structure_from_file(f)"
      ]
    },
    {
      "cell_type": "code",
      "execution_count": 4,
      "id": "f8b5df0d",
      "metadata": {},
      "outputs": [],
      "source": [
        "device = torch.device(\"cpu\")\n",
        "dd: dxtb._types.DD = {\"device\": device, \"dtype\": torch.double}\n",
        "\n",
        "# numbers = torch.tensor(atoms, device=device)\n",
        "# positions = torch.tensor(xyz, **dd)\n",
        "GFN1_XTB = dxtb.GFN1_XTB\n",
        "\n",
        "n = 5000\n",
        "numbers = torch.randint(1, 86, (n,), device=device)\n",
        "positions = torch.rand((n, 3), **dd) * 10\n",
        "\n",
        "ihelp = dxtb.IndexHelper.from_numbers(\n",
        "    numbers, dxtb.param.get_elem_angular(GFN1_XTB.element)\n",
        ")"
      ]
    },
    {
      "cell_type": "markdown",
      "metadata": {},
      "source": [
        "### Autograd utils"
      ]
    },
    {
      "cell_type": "code",
      "execution_count": 5,
      "metadata": {},
      "outputs": [],
      "source": [
        "repeats = 10\n",
        "\n",
        "times = {}\n",
        "\n",
        "\n",
        "def nth_derivative(f, wrt, n=1):\n",
        "    if n == 0:\n",
        "        return\n",
        "\n",
        "    create_graph = False if n == 1 else True\n",
        "\n",
        "    for _ in range(n):\n",
        "        (grads,) = torch.autograd.grad(f, wrt, create_graph=create_graph)\n",
        "        f = grads.sum()\n",
        "\n",
        "    return grads  # type: ignore\n",
        "\n",
        "\n",
        "def print_average(times):\n",
        "    print()\n",
        "    if repeats > 1:\n",
        "        avg_time = sum(times) / len(times)\n",
        "        print(f\"Average ({repeats}): {avg_time:2.4f} sec\")\n",
        "        return avg_time\n",
        "\n",
        "\n",
        "def time_operation(operation, pos, n):\n",
        "    times = []\n",
        "    for _ in range(repeats):\n",
        "        gc.collect()\n",
        "        _pos = pos.detach().clone().requires_grad_(True)\n",
        "\n",
        "        ts = time.perf_counter()\n",
        "\n",
        "        s = operation(_pos).sum()  # Execute the operation passed as an argument\n",
        "\n",
        "        size, num = _get_tensor_memory(return_number_tensors=True)\n",
        "        ds = nth_derivative(s, _pos, n=n)\n",
        "        size0, num0 = _get_tensor_memory(return_number_tensors=True)\n",
        "\n",
        "        te = time.perf_counter()\n",
        "        times.append(te - ts)\n",
        "\n",
        "        print(f\"{size - size0:.16f} MiB of {num-num0:d} addtional tensors {size0}\")\n",
        "\n",
        "        gc.collect()\n",
        "        print(f\"{te - ts:2.4f}\", end=\" \")\n",
        "\n",
        "    avg_time = print_average(times)\n",
        "    return avg_time"
      ]
    },
    {
      "cell_type": "markdown",
      "metadata": {},
      "source": [
        "# Analytical"
      ]
    },
    {
      "cell_type": "code",
      "execution_count": 6,
      "metadata": {},
      "outputs": [],
      "source": [
        "ihelp = dxtb.IndexHelper.from_numbers(\n",
        "    numbers, dxtb.param.get_elem_angular(GFN1_XTB.element)\n",
        ")\n",
        "\n",
        "rep = dxtb.new_repulsion(numbers, GFN1_XTB)\n",
        "assert rep is not None\n",
        "cache = rep.get_cache(numbers, ihelp)\n",
        "\n",
        "t1 = {}"
      ]
    },
    {
      "cell_type": "markdown",
      "metadata": {},
      "source": [
        "### Energy"
      ]
    },
    {
      "cell_type": "code",
      "execution_count": 7,
      "metadata": {},
      "outputs": [
        {
          "name": "stderr",
          "output_type": "stream",
          "text": [
            "/opt/miniforge3/envs/dxtb/lib/python3.10/site-packages/torch/distributed/distributed_c10d.py:347: UserWarning: torch.distributed.reduce_op is deprecated, please use torch.distributed.ReduceOp instead\n",
            "  warnings.warn(\n",
            "/tmp/ipykernel_350569/1953877020.py:2: PydanticDeprecatedSince20: `pydantic.config.Extra` is deprecated, use literal values instead (e.g. `extra='allow'`). Deprecated in Pydantic V2.0 to be removed in V3.0. See Pydantic V2 Migration Guide at https://errors.pydantic.dev/2.0.3/migration/\n",
            "  return [obj for obj in gc.get_objects() if isinstance(obj, torch.Tensor)]\n",
            "/tmp/ipykernel_350569/1953877020.py:28: UserWarning: TypedStorage is deprecated. It will be removed in the future and UntypedStorage will be the only storage class. This should only matter to you if you are using storages directly.  To access UntypedStorage directly, use tensor.untyped_storage() instead of tensor.storage()\n",
            "  storage = tensor.storage()\n"
          ]
        },
        {
          "name": "stdout",
          "output_type": "stream",
          "text": [
            "0.0000000000000000 MiB of 0 addtional tensors 1384.3114376068115\n",
            "2.5455 0.0000000000000000 MiB of 0 addtional tensors 1384.3114376068115\n",
            "2.5860 0.0000000000000000 MiB of 0 addtional tensors 1384.3114376068115\n",
            "2.5911 0.0000000000000000 MiB of 0 addtional tensors 1384.3114376068115\n",
            "2.5566 0.0000000000000000 MiB of 0 addtional tensors 1384.3114376068115\n",
            "2.6137 0.0000000000000000 MiB of 0 addtional tensors 1384.3114376068115\n",
            "2.4975 0.0000000000000000 MiB of 0 addtional tensors 1384.3114376068115\n",
            "2.5766 0.0000000000000000 MiB of 0 addtional tensors 1384.3114376068115\n",
            "2.6126 0.0000000000000000 MiB of 0 addtional tensors 1384.3114376068115\n",
            "2.7038 0.0000000000000000 MiB of 0 addtional tensors 1384.3114376068115\n",
            "2.6109 \n",
            "Average (10): 2.5894 sec\n"
          ]
        }
      ],
      "source": [
        "n = 0\n",
        "t1[n] = time_operation(lambda pos: rep.get_energy(pos, cache), positions, n)"
      ]
    },
    {
      "cell_type": "markdown",
      "metadata": {},
      "source": [
        "### 1st Derivative"
      ]
    },
    {
      "cell_type": "code",
      "execution_count": 8,
      "metadata": {},
      "outputs": [
        {
          "name": "stderr",
          "output_type": "stream",
          "text": [
            "/tmp/ipykernel_350569/1953877020.py:2: PydanticDeprecatedSince20: `pydantic.config.Extra` is deprecated, use literal values instead (e.g. `extra='allow'`). Deprecated in Pydantic V2.0 to be removed in V3.0. See Pydantic V2 Migration Guide at https://errors.pydantic.dev/2.0.3/migration/\n",
            "  return [obj for obj in gc.get_objects() if isinstance(obj, torch.Tensor)]\n"
          ]
        },
        {
          "name": "stdout",
          "output_type": "stream",
          "text": [
            "1072.7691726684570312 MiB of 7 addtional tensors 311.5422649383545\n",
            "7.2230 1072.8836135864257812 MiB of 8 addtional tensors 311.5422649383545\n",
            "6.9275 1072.8836135864257812 MiB of 8 addtional tensors 311.5422649383545\n",
            "7.0349 1072.8836135864257812 MiB of 8 addtional tensors 311.5422649383545\n",
            "6.8251 1072.8836135864257812 MiB of 8 addtional tensors 311.5422649383545\n",
            "6.7349 1072.8836135864257812 MiB of 8 addtional tensors 311.5422649383545\n",
            "6.7905 1072.8836135864257812 MiB of 8 addtional tensors 311.5422649383545\n",
            "6.8388 1072.8836135864257812 MiB of 8 addtional tensors 311.5422649383545\n",
            "6.5078 1072.8836135864257812 MiB of 8 addtional tensors 311.5422649383545\n",
            "6.9021 1072.8836135864257812 MiB of 8 addtional tensors 311.5422649383545\n",
            "6.9169 \n",
            "Average (10): 6.8702 sec\n"
          ]
        }
      ],
      "source": [
        "n = 1\n",
        "t1[n] = time_operation(lambda pos: rep.get_energy(pos, cache), positions, n)"
      ]
    },
    {
      "cell_type": "markdown",
      "metadata": {},
      "source": [
        "### 2nd Derivative"
      ]
    },
    {
      "cell_type": "code",
      "execution_count": 9,
      "metadata": {},
      "outputs": [
        {
          "name": "stderr",
          "output_type": "stream",
          "text": [
            "/tmp/ipykernel_350569/1953877020.py:2: PydanticDeprecatedSince20: `pydantic.config.Extra` is deprecated, use literal values instead (e.g. `extra='allow'`). Deprecated in Pydantic V2.0 to be removed in V3.0. See Pydantic V2 Migration Guide at https://errors.pydantic.dev/2.0.3/migration/\n",
            "  return [obj for obj in gc.get_objects() if isinstance(obj, torch.Tensor)]\n"
          ]
        },
        {
          "name": "stdout",
          "output_type": "stream",
          "text": [
            "-953.7887649536132812 MiB of -8 addtional tensors 2338.100202560425\n",
            "17.8824 1072.9980545043945312 MiB of 9 addtional tensors 2338.100202560425\n",
            "18.5980 1072.9980545043945312 MiB of 9 addtional tensors 2338.100202560425\n",
            "18.2706 1072.9980545043945312 MiB of 9 addtional tensors 2338.100202560425\n",
            "17.6001 1072.9980545043945312 MiB of 9 addtional tensors 2338.100202560425\n",
            "17.3859 1072.9980545043945312 MiB of 9 addtional tensors 2338.100202560425\n",
            "17.8238 1072.9980545043945312 MiB of 9 addtional tensors 2338.100202560425\n",
            "18.8032 1072.9980545043945312 MiB of 9 addtional tensors 2338.100202560425\n",
            "18.3056 1072.9980545043945312 MiB of 9 addtional tensors 2338.100202560425\n",
            "18.9808 1072.9980545043945312 MiB of 9 addtional tensors 2338.100202560425\n",
            "18.2279 \n",
            "Average (10): 18.1878 sec\n"
          ]
        }
      ],
      "source": [
        "n = 2\n",
        "t1[n] = time_operation(lambda pos: rep.get_energy(pos, cache), positions, n)"
      ]
    },
    {
      "cell_type": "markdown",
      "metadata": {},
      "source": [
        "### 3rd Derivative"
      ]
    },
    {
      "cell_type": "code",
      "execution_count": 10,
      "metadata": {},
      "outputs": [
        {
          "name": "stderr",
          "output_type": "stream",
          "text": [
            "/tmp/ipykernel_350569/1953877020.py:2: PydanticDeprecatedSince20: `pydantic.config.Extra` is deprecated, use literal values instead (e.g. `extra='allow'`). Deprecated in Pydantic V2.0 to be removed in V3.0. See Pydantic V2 Migration Guide at https://errors.pydantic.dev/2.0.3/migration/\n",
            "  return [obj for obj in gc.get_objects() if isinstance(obj, torch.Tensor)]\n"
          ]
        },
        {
          "name": "stdout",
          "output_type": "stream",
          "text": [
            "-953.7887725830078125 MiB of -9 addtional tensors 2338.1002101898193\n",
            "42.3491 1072.9980545043945312 MiB of 9 addtional tensors 2338.1002101898193\n",
            "41.3184 1072.9980545043945312 MiB of 9 addtional tensors 2338.1002101898193\n",
            "42.7351 1072.9980545043945312 MiB of 9 addtional tensors 2338.1002101898193\n",
            "42.1697 1072.9980545043945312 MiB of 9 addtional tensors 2338.1002101898193\n",
            "42.8038 1072.9980545043945312 MiB of 9 addtional tensors 2338.1002101898193\n",
            "41.4053 1072.9980545043945312 MiB of 9 addtional tensors 2338.1002101898193\n",
            "40.5897 1072.9980545043945312 MiB of 9 addtional tensors 2338.1002101898193\n",
            "40.1696 1072.9980545043945312 MiB of 9 addtional tensors 2338.1002101898193\n",
            "41.6473 1072.9980545043945312 MiB of 9 addtional tensors 2338.1002101898193\n",
            "40.1669 \n",
            "Average (10): 41.5355 sec\n"
          ]
        }
      ],
      "source": [
        "n = 3\n",
        "t1[n] = time_operation(lambda pos: rep.get_energy(pos, cache), positions, n)"
      ]
    },
    {
      "cell_type": "markdown",
      "metadata": {},
      "source": [
        "### 4th Derivative"
      ]
    },
    {
      "cell_type": "code",
      "execution_count": 11,
      "metadata": {},
      "outputs": [],
      "source": [
        "n = 4\n",
        "# t1[n] = time_operation(lambda pos: rep.get_energy(pos, cache), positions, n)"
      ]
    },
    {
      "cell_type": "markdown",
      "metadata": {},
      "source": [
        "# Full Autograd"
      ]
    },
    {
      "cell_type": "code",
      "execution_count": 12,
      "metadata": {},
      "outputs": [],
      "source": [
        "ihelp = dxtb.IndexHelper.from_numbers(\n",
        "    numbers, dxtb.param.get_elem_angular(GFN1_XTB.element)\n",
        ")\n",
        "\n",
        "rep = dxtb.new_repulsion(numbers, GFN1_XTB)\n",
        "assert rep is not None\n",
        "cache = rep.get_cache(numbers, ihelp)\n",
        "\n",
        "def eval(pos, c):\n",
        "    e = dxtb.classical.repulsion.repulsion_energy(\n",
        "        pos, c.mask, c.arep, c.kexp, c.zeff\n",
        "    )\n",
        "    return 0.5 * torch.sum(e, dim=-1)\n",
        "\n",
        "t2 = {}"
      ]
    },
    {
      "cell_type": "markdown",
      "metadata": {},
      "source": [
        "### Energy"
      ]
    },
    {
      "cell_type": "code",
      "execution_count": 13,
      "metadata": {},
      "outputs": [
        {
          "name": "stderr",
          "output_type": "stream",
          "text": [
            "/tmp/ipykernel_350569/1953877020.py:2: PydanticDeprecatedSince20: `pydantic.config.Extra` is deprecated, use literal values instead (e.g. `extra='allow'`). Deprecated in Pydantic V2.0 to be removed in V3.0. See Pydantic V2 Migration Guide at https://errors.pydantic.dev/2.0.3/migration/\n",
            "  return [obj for obj in gc.get_objects() if isinstance(obj, torch.Tensor)]\n"
          ]
        },
        {
          "name": "stdout",
          "output_type": "stream",
          "text": [
            "0.0000000000000000 MiB of 0 addtional tensors 1193.5765743255615\n",
            "2.5478 0.0000000000000000 MiB of 0 addtional tensors 1193.5765743255615\n",
            "2.5625 0.0000000000000000 MiB of 0 addtional tensors 1193.5765743255615\n",
            "2.6166 0.0000000000000000 MiB of 0 addtional tensors 1193.5765743255615\n",
            "2.5198 0.0000000000000000 MiB of 0 addtional tensors 1193.5765743255615\n",
            "2.4453 0.0000000000000000 MiB of 0 addtional tensors 1193.5765743255615\n",
            "2.3755 0.0000000000000000 MiB of 0 addtional tensors 1193.5765743255615\n",
            "2.4296 0.0000000000000000 MiB of 0 addtional tensors 1193.5765743255615\n",
            "2.3837 0.0000000000000000 MiB of 0 addtional tensors 1193.5765743255615\n",
            "2.5104 0.0000000000000000 MiB of 0 addtional tensors 1193.5765743255615\n",
            "2.5258 \n",
            "Average (10): 2.4917 sec\n"
          ]
        }
      ],
      "source": [
        "n = 0\n",
        "t2[n] = time_operation(lambda pos: eval(pos, cache), positions, n)"
      ]
    },
    {
      "cell_type": "markdown",
      "metadata": {},
      "source": [
        "### 1st Derivative"
      ]
    },
    {
      "cell_type": "code",
      "execution_count": 14,
      "id": "3f164afe",
      "metadata": {},
      "outputs": [
        {
          "name": "stderr",
          "output_type": "stream",
          "text": [
            "/tmp/ipykernel_350569/1953877020.py:2: PydanticDeprecatedSince20: `pydantic.config.Extra` is deprecated, use literal values instead (e.g. `extra='allow'`). Deprecated in Pydantic V2.0 to be removed in V3.0. See Pydantic V2 Migration Guide at https://errors.pydantic.dev/2.0.3/migration/\n",
            "  return [obj for obj in gc.get_objects() if isinstance(obj, torch.Tensor)]\n"
          ]
        },
        {
          "name": "stdout",
          "output_type": "stream",
          "text": [
            "882.0343093872070312 MiB of 6 addtional tensors 311.5422649383545\n",
            "5.8562 882.1487503051757812 MiB of 7 addtional tensors 311.5422649383545\n",
            "5.6923 882.1487503051757812 MiB of 7 addtional tensors 311.5422649383545\n",
            "5.5038 882.1487503051757812 MiB of 7 addtional tensors 311.5422649383545\n",
            "5.6318 882.1487503051757812 MiB of 7 addtional tensors 311.5422649383545\n",
            "5.5217 882.1487503051757812 MiB of 7 addtional tensors 311.5422649383545\n",
            "5.4605 882.1487503051757812 MiB of 7 addtional tensors 311.5422649383545\n",
            "5.7662 882.1487503051757812 MiB of 7 addtional tensors 311.5422649383545\n",
            "5.7820 882.1487503051757812 MiB of 7 addtional tensors 311.5422649383545\n",
            "5.5502 882.1487503051757812 MiB of 7 addtional tensors 311.5422649383545\n",
            "5.5083 \n",
            "Average (10): 5.6273 sec\n"
          ]
        }
      ],
      "source": [
        "positions = positions.detach().clone().requires_grad_(True)\n",
        "n = 1\n",
        "t2[n] = time_operation(lambda pos: eval(pos, cache), positions, n)"
      ]
    },
    {
      "cell_type": "markdown",
      "metadata": {},
      "source": [
        "### 2nd Derivative"
      ]
    },
    {
      "cell_type": "code",
      "execution_count": 15,
      "metadata": {},
      "outputs": [
        {
          "name": "stderr",
          "output_type": "stream",
          "text": [
            "/tmp/ipykernel_350569/1953877020.py:2: PydanticDeprecatedSince20: `pydantic.config.Extra` is deprecated, use literal values instead (e.g. `extra='allow'`). Deprecated in Pydantic V2.0 to be removed in V3.0. See Pydantic V2 Migration Guide at https://errors.pydantic.dev/2.0.3/migration/\n",
            "  return [obj for obj in gc.get_objects() if isinstance(obj, torch.Tensor)]\n"
          ]
        },
        {
          "name": "stdout",
          "output_type": "stream",
          "text": [
            "-0.1144485473632812 MiB of -2 addtional tensors 1193.6910228729248\n",
            "13.2221 858.4213333129882812 MiB of 7 addtional tensors 1193.6910228729248\n",
            "13.7828 858.4213333129882812 MiB of 7 addtional tensors 1193.6910228729248\n",
            "13.8222 858.4213333129882812 MiB of 7 addtional tensors 1193.6910228729248\n",
            "13.5092 858.4213333129882812 MiB of 7 addtional tensors 1193.6910228729248\n",
            "13.9113 858.4213333129882812 MiB of 7 addtional tensors 1193.6910228729248\n",
            "13.5120 858.4213333129882812 MiB of 7 addtional tensors 1193.6910228729248\n",
            "13.6759 858.4213333129882812 MiB of 7 addtional tensors 1193.6910228729248\n",
            "13.2390 858.4213333129882812 MiB of 7 addtional tensors 1193.6910228729248\n",
            "13.5374 858.4213333129882812 MiB of 7 addtional tensors 1193.6910228729248\n",
            "13.4515 \n",
            "Average (10): 13.5663 sec\n"
          ]
        }
      ],
      "source": [
        "positions = positions.detach().clone().requires_grad_(True)\n",
        "n = 2\n",
        "t2[n] = time_operation(lambda pos: eval(pos, cache), positions, n)"
      ]
    },
    {
      "cell_type": "markdown",
      "metadata": {},
      "source": [
        "### 3rd Derivative"
      ]
    },
    {
      "cell_type": "code",
      "execution_count": 16,
      "metadata": {},
      "outputs": [
        {
          "name": "stderr",
          "output_type": "stream",
          "text": [
            "/tmp/ipykernel_350569/1953877020.py:2: PydanticDeprecatedSince20: `pydantic.config.Extra` is deprecated, use literal values instead (e.g. `extra='allow'`). Deprecated in Pydantic V2.0 to be removed in V3.0. See Pydantic V2 Migration Guide at https://errors.pydantic.dev/2.0.3/migration/\n",
            "  return [obj for obj in gc.get_objects() if isinstance(obj, torch.Tensor)]\n"
          ]
        },
        {
          "name": "stdout",
          "output_type": "stream",
          "text": [
            "-0.1144561767578125 MiB of -3 addtional tensors 1193.6910305023193\n",
            "37.7197 858.4213333129882812 MiB of 7 addtional tensors 1193.6910305023193\n",
            "39.3926 858.4213333129882812 MiB of 7 addtional tensors 1193.6910305023193\n",
            "38.9420 858.4213333129882812 MiB of 7 addtional tensors 1193.6910305023193\n",
            "38.7380 858.4213333129882812 MiB of 7 addtional tensors 1193.6910305023193\n",
            "38.6520 858.4213333129882812 MiB of 7 addtional tensors 1193.6910305023193\n",
            "38.8614 858.4213333129882812 MiB of 7 addtional tensors 1193.6910305023193\n",
            "36.9119 858.4213333129882812 MiB of 7 addtional tensors 1193.6910305023193\n",
            "37.2543 858.4213333129882812 MiB of 7 addtional tensors 1193.6910305023193\n",
            "38.4290 858.4213333129882812 MiB of 7 addtional tensors 1193.6910305023193\n",
            "37.9721 \n",
            "Average (10): 38.2873 sec\n"
          ]
        }
      ],
      "source": [
        "positions = positions.detach().clone().requires_grad_(True)\n",
        "n = 3\n",
        "t2[n] = time_operation(lambda pos: eval(pos, cache), positions, n)"
      ]
    },
    {
      "cell_type": "markdown",
      "metadata": {},
      "source": [
        "### 4th Derivative"
      ]
    },
    {
      "cell_type": "code",
      "execution_count": 17,
      "metadata": {},
      "outputs": [],
      "source": [
        "# positions = positions.detach().clone().requires_grad_(True)\n",
        "# n = 4\n",
        "# t2[n] = time_operation(lambda pos: eval(pos, cache), positions, n)"
      ]
    },
    {
      "cell_type": "markdown",
      "metadata": {},
      "source": [
        "# Analyze"
      ]
    },
    {
      "cell_type": "code",
      "execution_count": 18,
      "metadata": {},
      "outputs": [],
      "source": [
        "import matplotlib.pyplot as plt"
      ]
    },
    {
      "cell_type": "code",
      "execution_count": 19,
      "metadata": {},
      "outputs": [
        {
          "data": {
            "image/png": "[encoded data removed]",
            "text/plain": [
              "<Figure size 640x480 with 1 Axes>"
            ]
          },
          "metadata": {},
          "output_type": "display_data"
        }
      ],
      "source": [
        "n_values = list(t1.keys())\n",
        "t1_timings = [t1[n] for n in n_values]\n",
        "t2_timings = [t2[n] for n in n_values]\n",
        "\n",
        "# Setting up the x-axis positions for the bars\n",
        "bar_width = 0.35\n",
        "index = np.arange(len(n_values))\n",
        "\n",
        "# Plotting the bars\n",
        "fig, ax = plt.subplots()\n",
        "bar1 = ax.bar(index, t1_timings, bar_width, label='Analytical 1st')\n",
        "bar2 = ax.bar(index + bar_width, t2_timings, bar_width, label='Pure AD')\n",
        "\n",
        "# Adding labels and title\n",
        "ax.set_xlabel('Order of Derivative')\n",
        "ax.set_ylabel('Timing')\n",
        "ax.set_title('Comparison of Timings')\n",
        "ax.set_xticks(index + bar_width / 2)\n",
        "ax.set_xticklabels(n_values)\n",
        "ax.legend()\n",
        "\n",
        "# Show the plot\n",
        "plt.show()\n"
      ]
    }
  ],
  "metadata": {
    "kernelspec": {
      "display_name": "Python 3 (ipykernel)",
      "language": "python",
      "name": "python3"
    },
    "language_info": {
      "codemirror_mode": {
        "name": "ipython",
        "version": 3
      },
      "file_extension": ".py",
      "mimetype": "text/x-python",
      "name": "python",
      "nbconvert_exporter": "python",
      "pygments_lexer": "ipython3",
      "version": "3.10.6"
    }
  },
  "nbformat": 4,
  "nbformat_minor": 5
}
