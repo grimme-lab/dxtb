{
  "cells": [
    {
      "cell_type": "markdown",
      "id": "4259543b",
      "metadata": {},
      "source": [
        "# Example: Properties"
      ]
    },
    {
      "cell_type": "markdown",
      "id": "8a5dfdb5",
      "metadata": {},
      "source": [
        "#### Imports"
      ]
    },
    {
      "cell_type": "code",
      "execution_count": 1,
      "id": "e5d553fd",
      "metadata": {
        "trusted": true
      },
      "outputs": [],
      "source": [
        "import numpy as np\n",
        "import torch\n",
        "import time\n",
        "from pathlib import Path\n",
        "import gc\n",
        "\n",
        "import dxtb\n",
        "\n",
        "import logging\n",
        "\n",
        "logging.getLogger().setLevel(logging.ERROR)"
      ]
    },
    {
      "cell_type": "code",
      "execution_count": 2,
      "metadata": {},
      "outputs": [],
      "source": [
        "def _tensors_from_gc() -> list:\n",
        "    return [obj for obj in gc.get_objects() if isinstance(obj, torch.Tensor)]\n",
        "\n",
        "\n",
        "def _get_tensor_memory(\n",
        "    return_number_tensors: bool = False,\n",
        ") -> float | tuple[float, int]:\n",
        "    \"\"\"\n",
        "    Obtain the total memory occupied by torch.Tensor in the garbage collector.\n",
        "\n",
        "    Returns\n",
        "    -------\n",
        "    tuple[float, int]\n",
        "        Memory in MiB and number of tensors.\n",
        "    \"\"\"\n",
        "\n",
        "    # obtaining all the tensor objects from the garbage collector\n",
        "    tensor_objs = _tensors_from_gc()\n",
        "\n",
        "    # iterate each tensor objects uniquely and calculate the total storage\n",
        "    visited_data = set()\n",
        "    total_mem = 0.0\n",
        "    for tensor in tensor_objs:\n",
        "        if tensor.is_sparse:\n",
        "            continue\n",
        "\n",
        "        # check if it has been visited\n",
        "        storage = tensor.storage()\n",
        "        data_ptr = storage.data_ptr()  # type: ignore\n",
        "        if data_ptr in visited_data:\n",
        "            continue\n",
        "        visited_data.add(data_ptr)\n",
        "\n",
        "        # calculate the storage occupied\n",
        "        numel = storage.size()\n",
        "        elmt_size = storage.element_size()\n",
        "        mem = numel * elmt_size / (1024 * 1024)  # in MiB\n",
        "\n",
        "        total_mem += mem\n",
        "\n",
        "    if return_number_tensors is True:\n",
        "        return total_mem, len(tensor_objs)\n",
        "    return total_mem"
      ]
    },
    {
      "cell_type": "markdown",
      "id": "06923bc3",
      "metadata": {},
      "source": [
        "#### dxtb calculation"
      ]
    },
    {
      "cell_type": "code",
      "execution_count": 3,
      "id": "0fb4ead7",
      "metadata": {},
      "outputs": [],
      "source": [
        "f = Path(globals()['_dh'][0]) / \"molecules\" / \"nylon.xyz\"\n",
        "atoms, xyz = dxtb.io.read_structure_from_file(f)"
      ]
    },
    {
      "cell_type": "code",
      "execution_count": 4,
      "id": "f8b5df0d",
      "metadata": {},
      "outputs": [],
      "source": [
        "device = torch.device(\"cpu\")\n",
        "dd: dxtb._types.DD = {\"device\": device, \"dtype\": torch.double}\n",
        "\n",
        "numbers = torch.tensor(atoms, device=device)\n",
        "positions = torch.tensor(xyz, **dd)\n",
        "GFN1_XTB = dxtb.GFN1_XTB\n",
        "\n",
        "ihelp = dxtb.IndexHelper.from_numbers(\n",
        "    numbers, dxtb.param.get_elem_angular(GFN1_XTB.element)\n",
        ")"
      ]
    },
    {
      "cell_type": "markdown",
      "metadata": {},
      "source": [
        "### Autograd utils"
      ]
    },
    {
      "cell_type": "code",
      "execution_count": 5,
      "metadata": {},
      "outputs": [],
      "source": [
        "repeats = 10\n",
        "\n",
        "times = {}\n",
        "\n",
        "\n",
        "def nth_derivative(f, wrt, n=1):\n",
        "    if n == 0:\n",
        "        return\n",
        "\n",
        "    create_graph = False if n == 1 else True\n",
        "\n",
        "    for _ in range(n):\n",
        "        (grads,) = torch.autograd.grad(f, wrt, create_graph=create_graph)\n",
        "        f = grads.sum()\n",
        "\n",
        "    return grads  # type: ignore\n",
        "\n",
        "\n",
        "def print_average(times):\n",
        "    print()\n",
        "    if repeats > 1:\n",
        "        avg_time = sum(times) / len(times)\n",
        "        print(f\"Average ({repeats}): {avg_time:2.4f} sec\")\n",
        "        return avg_time\n",
        "\n",
        "\n",
        "def time_operation(operation, pos, n):\n",
        "    times = []\n",
        "    for _ in range(repeats):\n",
        "        gc.collect()\n",
        "        _pos = pos.detach().clone().requires_grad_(True)\n",
        "\n",
        "        ts = time.perf_counter()\n",
        "\n",
        "        s = operation(_pos).sum()  # Execute the operation passed as an argument\n",
        "\n",
        "        size, num = _get_tensor_memory(return_number_tensors=True)\n",
        "        ds = nth_derivative(s, _pos, n=n)\n",
        "        size0, num0 = _get_tensor_memory(return_number_tensors=True)\n",
        "\n",
        "        te = time.perf_counter()\n",
        "        times.append(te - ts)\n",
        "\n",
        "        print(f\"{size - size0:.16f} MiB of {num-num0:d} addtional tensors\")\n",
        "\n",
        "        gc.collect()\n",
        "        print(f\"{te - ts:2.4f}\", end=\" \")\n",
        "\n",
        "    avg_time = print_average(times)\n",
        "    return avg_time"
      ]
    },
    {
      "cell_type": "markdown",
      "metadata": {},
      "source": [
        "# Analytical"
      ]
    },
    {
      "cell_type": "code",
      "execution_count": 6,
      "metadata": {},
      "outputs": [],
      "source": [
        "ihelp = dxtb.IndexHelper.from_numbers(\n",
        "    numbers, dxtb.param.get_elem_angular(GFN1_XTB.element)\n",
        ")\n",
        "\n",
        "rep = dxtb.new_repulsion(numbers, GFN1_XTB)\n",
        "assert rep is not None\n",
        "cache = rep.get_cache(numbers, ihelp)\n",
        "\n",
        "t1 = {}"
      ]
    },
    {
      "cell_type": "markdown",
      "metadata": {},
      "source": [
        "### Energy"
      ]
    },
    {
      "cell_type": "code",
      "execution_count": 7,
      "metadata": {},
      "outputs": [
        {
          "name": "stderr",
          "output_type": "stream",
          "text": [
            "/opt/miniforge3/envs/dxtb/lib/python3.10/site-packages/torch/distributed/distributed_c10d.py:283: UserWarning: torch.distributed.reduce_op is deprecated, please use torch.distributed.ReduceOp instead\n",
            "  warnings.warn(\n",
            "/tmp/ipykernel_2465530/1953877020.py:2: PydanticDeprecatedSince20: `pydantic.config.Extra` is deprecated, use literal values instead (e.g. `extra='allow'`). Deprecated in Pydantic V2.0 to be removed in V3.0. See Pydantic V2 Migration Guide at https://errors.pydantic.dev/2.0.3/migration/\n",
            "  return [obj for obj in gc.get_objects() if isinstance(obj, torch.Tensor)]\n",
            "/tmp/ipykernel_2465530/1953877020.py:28: UserWarning: TypedStorage is deprecated. It will be removed in the future and UntypedStorage will be the only storage class. This should only matter to you if you are using storages directly.  To access UntypedStorage directly, use tensor.untyped_storage() instead of tensor.storage()\n",
            "  storage = tensor.storage()\n",
            "/tmp/ipykernel_2465530/1953877020.py:29: UserWarning: TypedStorage is deprecated. It will be removed in the future and UntypedStorage will be the only storage class. This should only matter to you if you are using storages directly.  To access UntypedStorage directly, use tensor.untyped_storage() instead of tensor.storage()\n",
            "  data_ptr = storage.data_ptr()  # type: ignore\n",
            "/tmp/ipykernel_2465530/1953877020.py:35: UserWarning: TypedStorage is deprecated. It will be removed in the future and UntypedStorage will be the only storage class. This should only matter to you if you are using storages directly.  To access UntypedStorage directly, use tensor.untyped_storage() instead of tensor.storage()\n",
            "  numel = storage.size()\n",
            "/tmp/ipykernel_2465530/1953877020.py:36: UserWarning: TypedStorage is deprecated. It will be removed in the future and UntypedStorage will be the only storage class. This should only matter to you if you are using storages directly.  To access UntypedStorage directly, use tensor.untyped_storage() instead of tensor.storage()\n",
            "  elmt_size = storage.element_size()\n"
          ]
        },
        {
          "name": "stdout",
          "output_type": "stream",
          "text": [
            "0.0000000000000000 MiB of 0 addtional tensors\n",
            "0.4793 0.0000000000000000 MiB of 0 addtional tensors\n",
            "0.4485 0.0000000000000000 MiB of 0 addtional tensors\n",
            "0.4279 0.0000000000000000 MiB of 0 addtional tensors\n",
            "0.4087 0.0000000000000000 MiB of 0 addtional tensors\n",
            "0.4391 0.0000000000000000 MiB of 0 addtional tensors\n",
            "0.4093 0.0000000000000000 MiB of 0 addtional tensors\n",
            "0.4021 0.0000000000000000 MiB of 0 addtional tensors\n",
            "0.4158 0.0000000000000000 MiB of 0 addtional tensors\n",
            "0.4371 0.0000000000000000 MiB of 0 addtional tensors\n",
            "0.3956 \n",
            "Average (10): 0.4263 sec\n"
          ]
        }
      ],
      "source": [
        "n = 0\n",
        "t1[n] = time_operation(lambda pos: rep.get_energy(pos, cache), positions, n)"
      ]
    },
    {
      "cell_type": "markdown",
      "metadata": {},
      "source": [
        "### 1st Derivative"
      ]
    },
    {
      "cell_type": "code",
      "execution_count": 8,
      "metadata": {},
      "outputs": [
        {
          "name": "stderr",
          "output_type": "stream",
          "text": [
            "/tmp/ipykernel_2465530/1953877020.py:2: PydanticDeprecatedSince20: `pydantic.config.Extra` is deprecated, use literal values instead (e.g. `extra='allow'`). Deprecated in Pydantic V2.0 to be removed in V3.0. See Pydantic V2 Migration Guide at https://errors.pydantic.dev/2.0.3/migration/\n",
            "  return [obj for obj in gc.get_objects() if isinstance(obj, torch.Tensor)]\n",
            "/tmp/ipykernel_2465530/1953877020.py:28: UserWarning: TypedStorage is deprecated. It will be removed in the future and UntypedStorage will be the only storage class. This should only matter to you if you are using storages directly.  To access UntypedStorage directly, use tensor.untyped_storage() instead of tensor.storage()\n",
            "  storage = tensor.storage()\n",
            "/tmp/ipykernel_2465530/1953877020.py:29: UserWarning: TypedStorage is deprecated. It will be removed in the future and UntypedStorage will be the only storage class. This should only matter to you if you are using storages directly.  To access UntypedStorage directly, use tensor.untyped_storage() instead of tensor.storage()\n",
            "  data_ptr = storage.data_ptr()  # type: ignore\n",
            "/tmp/ipykernel_2465530/1953877020.py:35: UserWarning: TypedStorage is deprecated. It will be removed in the future and UntypedStorage will be the only storage class. This should only matter to you if you are using storages directly.  To access UntypedStorage directly, use tensor.untyped_storage() instead of tensor.storage()\n",
            "  numel = storage.size()\n",
            "/tmp/ipykernel_2465530/1953877020.py:36: UserWarning: TypedStorage is deprecated. It will be removed in the future and UntypedStorage will be the only storage class. This should only matter to you if you are using storages directly.  To access UntypedStorage directly, use tensor.untyped_storage() instead of tensor.storage()\n",
            "  elmt_size = storage.element_size()\n"
          ]
        },
        {
          "name": "stdout",
          "output_type": "stream",
          "text": [
            "184.6383590698242188 MiB of 7 addtional tensors\n",
            "0.7818 184.6838607788085938 MiB of 8 addtional tensors\n",
            "0.7454 184.6838607788085938 MiB of 8 addtional tensors\n",
            "0.7726 184.6838607788085938 MiB of 8 addtional tensors\n",
            "0.7743 184.6838607788085938 MiB of 8 addtional tensors\n",
            "0.7759 184.6838607788085938 MiB of 8 addtional tensors\n",
            "0.7424 184.6838607788085938 MiB of 8 addtional tensors\n",
            "0.7387 184.6838607788085938 MiB of 8 addtional tensors\n",
            "0.8171 184.6838607788085938 MiB of 8 addtional tensors\n",
            "0.8149 184.6838607788085938 MiB of 8 addtional tensors\n",
            "0.8428 \n",
            "Average (10): 0.7806 sec\n"
          ]
        }
      ],
      "source": [
        "n = 1\n",
        "t1[n] = time_operation(lambda pos: rep.get_energy(pos, cache), positions, n)"
      ]
    },
    {
      "cell_type": "markdown",
      "metadata": {},
      "source": [
        "### 2nd Derivative"
      ]
    },
    {
      "cell_type": "code",
      "execution_count": 9,
      "metadata": {},
      "outputs": [
        {
          "name": "stderr",
          "output_type": "stream",
          "text": [
            "/tmp/ipykernel_2465530/1953877020.py:2: PydanticDeprecatedSince20: `pydantic.config.Extra` is deprecated, use literal values instead (e.g. `extra='allow'`). Deprecated in Pydantic V2.0 to be removed in V3.0. See Pydantic V2 Migration Guide at https://errors.pydantic.dev/2.0.3/migration/\n",
            "  return [obj for obj in gc.get_objects() if isinstance(obj, torch.Tensor)]\n",
            "/tmp/ipykernel_2465530/1953877020.py:28: UserWarning: TypedStorage is deprecated. It will be removed in the future and UntypedStorage will be the only storage class. This should only matter to you if you are using storages directly.  To access UntypedStorage directly, use tensor.untyped_storage() instead of tensor.storage()\n",
            "  storage = tensor.storage()\n",
            "/tmp/ipykernel_2465530/1953877020.py:29: UserWarning: TypedStorage is deprecated. It will be removed in the future and UntypedStorage will be the only storage class. This should only matter to you if you are using storages directly.  To access UntypedStorage directly, use tensor.untyped_storage() instead of tensor.storage()\n",
            "  data_ptr = storage.data_ptr()  # type: ignore\n",
            "/tmp/ipykernel_2465530/1953877020.py:35: UserWarning: TypedStorage is deprecated. It will be removed in the future and UntypedStorage will be the only storage class. This should only matter to you if you are using storages directly.  To access UntypedStorage directly, use tensor.untyped_storage() instead of tensor.storage()\n",
            "  numel = storage.size()\n",
            "/tmp/ipykernel_2465530/1953877020.py:36: UserWarning: TypedStorage is deprecated. It will be removed in the future and UntypedStorage will be the only storage class. This should only matter to you if you are using storages directly.  To access UntypedStorage directly, use tensor.untyped_storage() instead of tensor.storage()\n",
            "  elmt_size = storage.element_size()\n"
          ]
        },
        {
          "name": "stdout",
          "output_type": "stream",
          "text": [
            "-150.8078384399414062 MiB of -8 addtional tensors\n",
            "2.5622 184.7293624877929688 MiB of 9 addtional tensors\n",
            "2.9171 184.7293624877929688 MiB of 9 addtional tensors\n",
            "1.9115 184.7293624877929688 MiB of 9 addtional tensors\n",
            "1.8588 184.7293624877929688 MiB of 9 addtional tensors\n",
            "1.8503 184.7293624877929688 MiB of 9 addtional tensors\n",
            "1.8566 184.7293624877929688 MiB of 9 addtional tensors\n",
            "1.7930 184.7293624877929688 MiB of 9 addtional tensors\n",
            "1.8299 184.7293624877929688 MiB of 9 addtional tensors\n",
            "1.8423 184.7293624877929688 MiB of 9 addtional tensors\n",
            "1.8242 \n",
            "Average (10): 2.0246 sec\n"
          ]
        }
      ],
      "source": [
        "n = 2\n",
        "t1[n] = time_operation(lambda pos: rep.get_energy(pos, cache), positions, n)"
      ]
    },
    {
      "cell_type": "markdown",
      "metadata": {},
      "source": [
        "### 3rd Derivative"
      ]
    },
    {
      "cell_type": "code",
      "execution_count": 10,
      "metadata": {},
      "outputs": [
        {
          "name": "stderr",
          "output_type": "stream",
          "text": [
            "/tmp/ipykernel_2465530/1953877020.py:2: PydanticDeprecatedSince20: `pydantic.config.Extra` is deprecated, use literal values instead (e.g. `extra='allow'`). Deprecated in Pydantic V2.0 to be removed in V3.0. See Pydantic V2 Migration Guide at https://errors.pydantic.dev/2.0.3/migration/\n",
            "  return [obj for obj in gc.get_objects() if isinstance(obj, torch.Tensor)]\n",
            "/tmp/ipykernel_2465530/1953877020.py:28: UserWarning: TypedStorage is deprecated. It will be removed in the future and UntypedStorage will be the only storage class. This should only matter to you if you are using storages directly.  To access UntypedStorage directly, use tensor.untyped_storage() instead of tensor.storage()\n",
            "  storage = tensor.storage()\n",
            "/tmp/ipykernel_2465530/1953877020.py:29: UserWarning: TypedStorage is deprecated. It will be removed in the future and UntypedStorage will be the only storage class. This should only matter to you if you are using storages directly.  To access UntypedStorage directly, use tensor.untyped_storage() instead of tensor.storage()\n",
            "  data_ptr = storage.data_ptr()  # type: ignore\n",
            "/tmp/ipykernel_2465530/1953877020.py:35: UserWarning: TypedStorage is deprecated. It will be removed in the future and UntypedStorage will be the only storage class. This should only matter to you if you are using storages directly.  To access UntypedStorage directly, use tensor.untyped_storage() instead of tensor.storage()\n",
            "  numel = storage.size()\n",
            "/tmp/ipykernel_2465530/1953877020.py:36: UserWarning: TypedStorage is deprecated. It will be removed in the future and UntypedStorage will be the only storage class. This should only matter to you if you are using storages directly.  To access UntypedStorage directly, use tensor.untyped_storage() instead of tensor.storage()\n",
            "  elmt_size = storage.element_size()\n"
          ]
        },
        {
          "name": "stdout",
          "output_type": "stream",
          "text": [
            "-150.8078460693359375 MiB of -9 addtional tensors\n",
            "4.7783 184.7293624877929688 MiB of 9 addtional tensors\n",
            "6.2945 184.7293624877929688 MiB of 9 addtional tensors\n",
            "4.1791 184.7293624877929688 MiB of 9 addtional tensors\n",
            "4.0122 184.7293624877929688 MiB of 9 addtional tensors\n",
            "4.1828 184.7293624877929688 MiB of 9 addtional tensors\n",
            "4.0778 184.7293624877929688 MiB of 9 addtional tensors\n",
            "4.1385 184.7293624877929688 MiB of 9 addtional tensors\n",
            "3.9970 184.7293624877929688 MiB of 9 addtional tensors\n",
            "4.0171 184.7293624877929688 MiB of 9 addtional tensors\n",
            "4.0776 \n",
            "Average (10): 4.3755 sec\n"
          ]
        }
      ],
      "source": [
        "n = 3\n",
        "t1[n] = time_operation(lambda pos: rep.get_energy(pos, cache), positions, n)"
      ]
    },
    {
      "cell_type": "markdown",
      "metadata": {},
      "source": [
        "### 4th Derivative"
      ]
    },
    {
      "cell_type": "code",
      "execution_count": 11,
      "metadata": {},
      "outputs": [],
      "source": [
        "n = 4\n",
        "# t1[n] = time_operation(lambda pos: rep.get_energy(pos, cache), positions, n)"
      ]
    },
    {
      "cell_type": "markdown",
      "metadata": {},
      "source": [
        "# Full Autograd"
      ]
    },
    {
      "cell_type": "code",
      "execution_count": 12,
      "metadata": {},
      "outputs": [],
      "source": [
        "ihelp = dxtb.IndexHelper.from_numbers(\n",
        "    numbers, dxtb.param.get_elem_angular(GFN1_XTB.element)\n",
        ")\n",
        "\n",
        "rep = dxtb.new_repulsion(numbers, GFN1_XTB)\n",
        "assert rep is not None\n",
        "cache = rep.get_cache(numbers, ihelp)\n",
        "\n",
        "def eval(pos, c):\n",
        "    e = dxtb.classical.repulsion.repulsion_energy(\n",
        "        pos, c.mask, c.arep, c.kexp, c.zeff\n",
        "    )\n",
        "    return 0.5 * torch.sum(e, dim=-1)\n",
        "\n",
        "t2 = {}"
      ]
    },
    {
      "cell_type": "markdown",
      "metadata": {},
      "source": [
        "### Energy"
      ]
    },
    {
      "cell_type": "code",
      "execution_count": 13,
      "metadata": {},
      "outputs": [
        {
          "name": "stderr",
          "output_type": "stream",
          "text": [
            "/tmp/ipykernel_2465530/1953877020.py:2: PydanticDeprecatedSince20: `pydantic.config.Extra` is deprecated, use literal values instead (e.g. `extra='allow'`). Deprecated in Pydantic V2.0 to be removed in V3.0. See Pydantic V2 Migration Guide at https://errors.pydantic.dev/2.0.3/migration/\n",
            "  return [obj for obj in gc.get_objects() if isinstance(obj, torch.Tensor)]\n",
            "/tmp/ipykernel_2465530/1953877020.py:28: UserWarning: TypedStorage is deprecated. It will be removed in the future and UntypedStorage will be the only storage class. This should only matter to you if you are using storages directly.  To access UntypedStorage directly, use tensor.untyped_storage() instead of tensor.storage()\n",
            "  storage = tensor.storage()\n",
            "/tmp/ipykernel_2465530/1953877020.py:29: UserWarning: TypedStorage is deprecated. It will be removed in the future and UntypedStorage will be the only storage class. This should only matter to you if you are using storages directly.  To access UntypedStorage directly, use tensor.untyped_storage() instead of tensor.storage()\n",
            "  data_ptr = storage.data_ptr()  # type: ignore\n",
            "/tmp/ipykernel_2465530/1953877020.py:35: UserWarning: TypedStorage is deprecated. It will be removed in the future and UntypedStorage will be the only storage class. This should only matter to you if you are using storages directly.  To access UntypedStorage directly, use tensor.untyped_storage() instead of tensor.storage()\n",
            "  numel = storage.size()\n",
            "/tmp/ipykernel_2465530/1953877020.py:36: UserWarning: TypedStorage is deprecated. It will be removed in the future and UntypedStorage will be the only storage class. This should only matter to you if you are using storages directly.  To access UntypedStorage directly, use tensor.untyped_storage() instead of tensor.storage()\n",
            "  elmt_size = storage.element_size()\n"
          ]
        },
        {
          "name": "stdout",
          "output_type": "stream",
          "text": [
            "0.0000000000000000 MiB of 0 addtional tensors\n",
            "0.3938 0.0000000000000000 MiB of 0 addtional tensors\n",
            "0.3760 0.0000000000000000 MiB of 0 addtional tensors\n",
            "0.3982 0.0000000000000000 MiB of 0 addtional tensors\n",
            "0.3736 0.0000000000000000 MiB of 0 addtional tensors\n",
            "0.3828 0.0000000000000000 MiB of 0 addtional tensors\n",
            "0.3771 0.0000000000000000 MiB of 0 addtional tensors\n",
            "0.3715 0.0000000000000000 MiB of 0 addtional tensors\n",
            "0.3789 0.0000000000000000 MiB of 0 addtional tensors\n",
            "0.3927 0.0000000000000000 MiB of 0 addtional tensors\n",
            "0.3746 \n",
            "Average (10): 0.3819 sec\n"
          ]
        }
      ],
      "source": [
        "n = 0\n",
        "t2[n] = time_operation(lambda pos: eval(pos, cache), positions, n)"
      ]
    },
    {
      "cell_type": "markdown",
      "metadata": {},
      "source": [
        "### 1st Derivative"
      ]
    },
    {
      "cell_type": "code",
      "execution_count": 14,
      "id": "3f164afe",
      "metadata": {},
      "outputs": [
        {
          "name": "stderr",
          "output_type": "stream",
          "text": [
            "/tmp/ipykernel_2465530/1953877020.py:2: PydanticDeprecatedSince20: `pydantic.config.Extra` is deprecated, use literal values instead (e.g. `extra='allow'`). Deprecated in Pydantic V2.0 to be removed in V3.0. See Pydantic V2 Migration Guide at https://errors.pydantic.dev/2.0.3/migration/\n",
            "  return [obj for obj in gc.get_objects() if isinstance(obj, torch.Tensor)]\n",
            "/tmp/ipykernel_2465530/1953877020.py:28: UserWarning: TypedStorage is deprecated. It will be removed in the future and UntypedStorage will be the only storage class. This should only matter to you if you are using storages directly.  To access UntypedStorage directly, use tensor.untyped_storage() instead of tensor.storage()\n",
            "  storage = tensor.storage()\n",
            "/tmp/ipykernel_2465530/1953877020.py:29: UserWarning: TypedStorage is deprecated. It will be removed in the future and UntypedStorage will be the only storage class. This should only matter to you if you are using storages directly.  To access UntypedStorage directly, use tensor.untyped_storage() instead of tensor.storage()\n",
            "  data_ptr = storage.data_ptr()  # type: ignore\n",
            "/tmp/ipykernel_2465530/1953877020.py:35: UserWarning: TypedStorage is deprecated. It will be removed in the future and UntypedStorage will be the only storage class. This should only matter to you if you are using storages directly.  To access UntypedStorage directly, use tensor.untyped_storage() instead of tensor.storage()\n",
            "  numel = storage.size()\n",
            "/tmp/ipykernel_2465530/1953877020.py:36: UserWarning: TypedStorage is deprecated. It will be removed in the future and UntypedStorage will be the only storage class. This should only matter to you if you are using storages directly.  To access UntypedStorage directly, use tensor.untyped_storage() instead of tensor.storage()\n",
            "  elmt_size = storage.element_size()\n"
          ]
        },
        {
          "name": "stdout",
          "output_type": "stream",
          "text": [
            "154.4858932495117188 MiB of 6 addtional tensors\n",
            "0.6404 154.5313949584960938 MiB of 7 addtional tensors\n",
            "0.6601 154.5313949584960938 MiB of 7 addtional tensors\n",
            "0.6470 154.5313949584960938 MiB of 7 addtional tensors\n",
            "0.6662 154.5313949584960938 MiB of 7 addtional tensors\n",
            "0.6444 154.5313949584960938 MiB of 7 addtional tensors\n",
            "0.6404 154.5313949584960938 MiB of 7 addtional tensors\n",
            "0.6563 154.5313949584960938 MiB of 7 addtional tensors\n",
            "0.6584 154.5313949584960938 MiB of 7 addtional tensors\n",
            "0.6862 154.5313949584960938 MiB of 7 addtional tensors\n",
            "0.6531 \n",
            "Average (10): 0.6553 sec\n"
          ]
        }
      ],
      "source": [
        "positions = positions.detach().clone().requires_grad_(True)\n",
        "n = 1\n",
        "t2[n] = time_operation(lambda pos: eval(pos, cache), positions, n)"
      ]
    },
    {
      "cell_type": "markdown",
      "metadata": {},
      "source": [
        "### 2nd Derivative"
      ]
    },
    {
      "cell_type": "code",
      "execution_count": 15,
      "metadata": {},
      "outputs": [
        {
          "name": "stderr",
          "output_type": "stream",
          "text": [
            "/tmp/ipykernel_2465530/1953877020.py:2: PydanticDeprecatedSince20: `pydantic.config.Extra` is deprecated, use literal values instead (e.g. `extra='allow'`). Deprecated in Pydantic V2.0 to be removed in V3.0. See Pydantic V2 Migration Guide at https://errors.pydantic.dev/2.0.3/migration/\n",
            "  return [obj for obj in gc.get_objects() if isinstance(obj, torch.Tensor)]\n",
            "/tmp/ipykernel_2465530/1953877020.py:28: UserWarning: TypedStorage is deprecated. It will be removed in the future and UntypedStorage will be the only storage class. This should only matter to you if you are using storages directly.  To access UntypedStorage directly, use tensor.untyped_storage() instead of tensor.storage()\n",
            "  storage = tensor.storage()\n",
            "/tmp/ipykernel_2465530/1953877020.py:29: UserWarning: TypedStorage is deprecated. It will be removed in the future and UntypedStorage will be the only storage class. This should only matter to you if you are using storages directly.  To access UntypedStorage directly, use tensor.untyped_storage() instead of tensor.storage()\n",
            "  data_ptr = storage.data_ptr()  # type: ignore\n",
            "/tmp/ipykernel_2465530/1953877020.py:35: UserWarning: TypedStorage is deprecated. It will be removed in the future and UntypedStorage will be the only storage class. This should only matter to you if you are using storages directly.  To access UntypedStorage directly, use tensor.untyped_storage() instead of tensor.storage()\n",
            "  numel = storage.size()\n",
            "/tmp/ipykernel_2465530/1953877020.py:36: UserWarning: TypedStorage is deprecated. It will be removed in the future and UntypedStorage will be the only storage class. This should only matter to you if you are using storages directly.  To access UntypedStorage directly, use tensor.untyped_storage() instead of tensor.storage()\n",
            "  elmt_size = storage.element_size()\n"
          ]
        },
        {
          "name": "stdout",
          "output_type": "stream",
          "text": [
            "-0.0455093383789062 MiB of -2 addtional tensors\n",
            "1.9160 150.8078384399414062 MiB of 7 addtional tensors\n",
            "2.0536 150.8078384399414062 MiB of 7 addtional tensors\n",
            "1.3947 150.8078384399414062 MiB of 7 addtional tensors\n",
            "1.3967 150.8078384399414062 MiB of 7 addtional tensors\n",
            "1.3852 "
          ]
        },
        {
          "ename": "KeyboardInterrupt",
          "evalue": "",
          "output_type": "error",
          "traceback": [
            "\u001b[0;31m---------------------------------------------------------------------------\u001b[0m",
            "\u001b[0;31mKeyboardInterrupt\u001b[0m                         Traceback (most recent call last)",
            "\u001b[1;32m/home/friede/Dokumente/xtbML/examples/repulsion.ipynb Cell 29\u001b[0m line \u001b[0;36m3\n\u001b[1;32m      <a href='vscode-notebook-cell:/home/friede/Dokumente/xtbML/examples/repulsion.ipynb#Y106sZmlsZQ%3D%3D?line=0'>1</a>\u001b[0m positions \u001b[39m=\u001b[39m positions\u001b[39m.\u001b[39mdetach()\u001b[39m.\u001b[39mclone()\u001b[39m.\u001b[39mrequires_grad_(\u001b[39mTrue\u001b[39;00m)\n\u001b[1;32m      <a href='vscode-notebook-cell:/home/friede/Dokumente/xtbML/examples/repulsion.ipynb#Y106sZmlsZQ%3D%3D?line=1'>2</a>\u001b[0m n \u001b[39m=\u001b[39m \u001b[39m2\u001b[39m\n\u001b[0;32m----> <a href='vscode-notebook-cell:/home/friede/Dokumente/xtbML/examples/repulsion.ipynb#Y106sZmlsZQ%3D%3D?line=2'>3</a>\u001b[0m t2[n] \u001b[39m=\u001b[39m time_operation(\u001b[39mlambda\u001b[39;49;00m pos: \u001b[39meval\u001b[39;49m(pos, cache), positions, n)\n",
            "\u001b[1;32m/home/friede/Dokumente/xtbML/examples/repulsion.ipynb Cell 29\u001b[0m line \u001b[0;36m3\n\u001b[1;32m     <a href='vscode-notebook-cell:/home/friede/Dokumente/xtbML/examples/repulsion.ipynb#Y106sZmlsZQ%3D%3D?line=34'>35</a>\u001b[0m s \u001b[39m=\u001b[39m operation(_pos)\u001b[39m.\u001b[39msum()  \u001b[39m# Execute the operation passed as an argument\u001b[39;00m\n\u001b[1;32m     <a href='vscode-notebook-cell:/home/friede/Dokumente/xtbML/examples/repulsion.ipynb#Y106sZmlsZQ%3D%3D?line=36'>37</a>\u001b[0m size, num \u001b[39m=\u001b[39m _get_tensor_memory(return_number_tensors\u001b[39m=\u001b[39m\u001b[39mTrue\u001b[39;00m)\n\u001b[0;32m---> <a href='vscode-notebook-cell:/home/friede/Dokumente/xtbML/examples/repulsion.ipynb#Y106sZmlsZQ%3D%3D?line=37'>38</a>\u001b[0m ds \u001b[39m=\u001b[39m nth_derivative(s, _pos, n\u001b[39m=\u001b[39;49mn)\n\u001b[1;32m     <a href='vscode-notebook-cell:/home/friede/Dokumente/xtbML/examples/repulsion.ipynb#Y106sZmlsZQ%3D%3D?line=38'>39</a>\u001b[0m size0, num0 \u001b[39m=\u001b[39m _get_tensor_memory(return_number_tensors\u001b[39m=\u001b[39m\u001b[39mTrue\u001b[39;00m)\n\u001b[1;32m     <a href='vscode-notebook-cell:/home/friede/Dokumente/xtbML/examples/repulsion.ipynb#Y106sZmlsZQ%3D%3D?line=40'>41</a>\u001b[0m te \u001b[39m=\u001b[39m time\u001b[39m.\u001b[39mperf_counter()\n",
            "\u001b[1;32m/home/friede/Dokumente/xtbML/examples/repulsion.ipynb Cell 29\u001b[0m line \u001b[0;36m1\n\u001b[1;32m     <a href='vscode-notebook-cell:/home/friede/Dokumente/xtbML/examples/repulsion.ipynb#Y106sZmlsZQ%3D%3D?line=9'>10</a>\u001b[0m create_graph \u001b[39m=\u001b[39m \u001b[39mFalse\u001b[39;00m \u001b[39mif\u001b[39;00m n \u001b[39m==\u001b[39m \u001b[39m1\u001b[39m \u001b[39melse\u001b[39;00m \u001b[39mTrue\u001b[39;00m\n\u001b[1;32m     <a href='vscode-notebook-cell:/home/friede/Dokumente/xtbML/examples/repulsion.ipynb#Y106sZmlsZQ%3D%3D?line=11'>12</a>\u001b[0m \u001b[39mfor\u001b[39;00m _ \u001b[39min\u001b[39;00m \u001b[39mrange\u001b[39m(n):\n\u001b[0;32m---> <a href='vscode-notebook-cell:/home/friede/Dokumente/xtbML/examples/repulsion.ipynb#Y106sZmlsZQ%3D%3D?line=12'>13</a>\u001b[0m     (grads,) \u001b[39m=\u001b[39m torch\u001b[39m.\u001b[39;49mautograd\u001b[39m.\u001b[39;49mgrad(f, wrt, create_graph\u001b[39m=\u001b[39;49mcreate_graph)\n\u001b[1;32m     <a href='vscode-notebook-cell:/home/friede/Dokumente/xtbML/examples/repulsion.ipynb#Y106sZmlsZQ%3D%3D?line=13'>14</a>\u001b[0m     f \u001b[39m=\u001b[39m grads\u001b[39m.\u001b[39msum()\n\u001b[1;32m     <a href='vscode-notebook-cell:/home/friede/Dokumente/xtbML/examples/repulsion.ipynb#Y106sZmlsZQ%3D%3D?line=15'>16</a>\u001b[0m \u001b[39mreturn\u001b[39;00m grads\n",
            "File \u001b[0;32m/opt/miniforge3/envs/dxtb/lib/python3.10/site-packages/torch/autograd/__init__.py:303\u001b[0m, in \u001b[0;36mgrad\u001b[0;34m(outputs, inputs, grad_outputs, retain_graph, create_graph, only_inputs, allow_unused, is_grads_batched)\u001b[0m\n\u001b[1;32m    301\u001b[0m     \u001b[39mreturn\u001b[39;00m _vmap_internals\u001b[39m.\u001b[39m_vmap(vjp, \u001b[39m0\u001b[39m, \u001b[39m0\u001b[39m, allow_none_pass_through\u001b[39m=\u001b[39m\u001b[39mTrue\u001b[39;00m)(grad_outputs_)\n\u001b[1;32m    302\u001b[0m \u001b[39melse\u001b[39;00m:\n\u001b[0;32m--> 303\u001b[0m     \u001b[39mreturn\u001b[39;00m Variable\u001b[39m.\u001b[39;49m_execution_engine\u001b[39m.\u001b[39;49mrun_backward(  \u001b[39m# Calls into the C++ engine to run the backward pass\u001b[39;49;00m\n\u001b[1;32m    304\u001b[0m         t_outputs, grad_outputs_, retain_graph, create_graph, t_inputs,\n\u001b[1;32m    305\u001b[0m         allow_unused, accumulate_grad\u001b[39m=\u001b[39;49m\u001b[39mFalse\u001b[39;49;00m)\n",
            "\u001b[0;31mKeyboardInterrupt\u001b[0m: "
          ]
        }
      ],
      "source": [
        "positions = positions.detach().clone().requires_grad_(True)\n",
        "n = 2\n",
        "t2[n] = time_operation(lambda pos: eval(pos, cache), positions, n)"
      ]
    },
    {
      "cell_type": "markdown",
      "metadata": {},
      "source": [
        "### 3rd Derivative"
      ]
    },
    {
      "cell_type": "code",
      "execution_count": null,
      "metadata": {},
      "outputs": [
        {
          "name": "stdout",
          "output_type": "stream",
          "text": [
            "4.9108 4.9586 4.9966 4.7850 4.8195 4.7886 4.8089 5.0528 4.9312 5.2450 \n",
            "Average (10): 4.9297 sec\n"
          ]
        }
      ],
      "source": [
        "positions = positions.detach().clone().requires_grad_(True)\n",
        "n = 3\n",
        "t2[n] = time_operation(lambda pos: eval(pos, cache), positions, n)"
      ]
    },
    {
      "cell_type": "markdown",
      "metadata": {},
      "source": [
        "### 4th Derivative"
      ]
    },
    {
      "cell_type": "code",
      "execution_count": null,
      "metadata": {},
      "outputs": [
        {
          "name": "stdout",
          "output_type": "stream",
          "text": [
            "16.7632 16.6075 16.3988 16.4597 16.5698 16.5828 16.5111 16.3754 17.6630 17.4967 \n",
            "Average (10): 16.7428 sec\n"
          ]
        }
      ],
      "source": [
        "positions = positions.detach().clone().requires_grad_(True)\n",
        "n = 4\n",
        "t2[n] = time_operation(lambda pos: eval(pos, cache), positions, n)"
      ]
    },
    {
      "cell_type": "markdown",
      "metadata": {},
      "source": [
        "# Analyze"
      ]
    },
    {
      "cell_type": "code",
      "execution_count": null,
      "metadata": {},
      "outputs": [],
      "source": [
        "import matplotlib.pyplot as plt"
      ]
    },
    {
      "cell_type": "code",
      "execution_count": null,
      "metadata": {},
      "outputs": [
        {
          "data": {
            "image/png": "[encoded data removed]",
            "text/plain": [
              "<Figure size 640x480 with 1 Axes>"
            ]
          },
          "metadata": {},
          "output_type": "display_data"
        }
      ],
      "source": [
        "n_values = list(t1.keys())\n",
        "t1_timings = [t1[n] for n in n_values]\n",
        "t2_timings = [t2[n] for n in n_values]\n",
        "\n",
        "# Setting up the x-axis positions for the bars\n",
        "bar_width = 0.35\n",
        "index = np.arange(len(n_values))\n",
        "\n",
        "# Plotting the bars\n",
        "fig, ax = plt.subplots()\n",
        "bar1 = ax.bar(index, t1_timings, bar_width, label='Analytical 1st')\n",
        "bar2 = ax.bar(index + bar_width, t2_timings, bar_width, label='Pure AD')\n",
        "\n",
        "# Adding labels and title\n",
        "ax.set_xlabel('Order of Derivative')\n",
        "ax.set_ylabel('Timing')\n",
        "ax.set_title('Comparison of Timings')\n",
        "ax.set_xticks(index + bar_width / 2)\n",
        "ax.set_xticklabels(n_values)\n",
        "ax.legend()\n",
        "\n",
        "# Show the plot\n",
        "plt.show()\n"
      ]
    }
  ],
  "metadata": {
    "kernelspec": {
      "display_name": "Python 3 (ipykernel)",
      "language": "python",
      "name": "python3"
    },
    "language_info": {
      "codemirror_mode": {
        "name": "ipython",
        "version": 3
      },
      "file_extension": ".py",
      "mimetype": "text/x-python",
      "name": "python",
      "nbconvert_exporter": "python",
      "pygments_lexer": "ipython3",
      "version": "3.10.6"
    }
  },
  "nbformat": 4,
  "nbformat_minor": 5
}
