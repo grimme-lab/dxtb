{
  "cells": [
    {
      "cell_type": "markdown",
      "id": "4259543b",
      "metadata": {},
      "source": [
        "# Example: Properties"
      ]
    },
    {
      "cell_type": "markdown",
      "id": "8a5dfdb5",
      "metadata": {},
      "source": [
        "#### Imports"
      ]
    },
    {
      "cell_type": "code",
      "execution_count": 30,
      "id": "e5d553fd",
      "metadata": {
        "trusted": true
      },
      "outputs": [],
      "source": [
        "import numpy as np\n",
        "import torch\n",
        "import time\n",
        "from pathlib import Path\n",
        "\n",
        "import dxtb"
      ]
    },
    {
      "cell_type": "markdown",
      "id": "259f4883",
      "metadata": {},
      "source": [
        "#### Functions"
      ]
    },
    {
      "cell_type": "code",
      "execution_count": null,
      "id": "bce068c5",
      "metadata": {},
      "outputs": [],
      "source": []
    },
    {
      "cell_type": "markdown",
      "id": "06923bc3",
      "metadata": {},
      "source": [
        "#### dxtb calculation"
      ]
    },
    {
      "cell_type": "code",
      "execution_count": 31,
      "id": "0fb4ead7",
      "metadata": {},
      "outputs": [],
      "source": [
        "f = Path(globals()['_dh'][0]) / \"molecules\" / \"taxol.coord\"\n",
        "atoms, xyz = dxtb.io.read_coord(f)"
      ]
    },
    {
      "cell_type": "code",
      "execution_count": 32,
      "id": "f8b5df0d",
      "metadata": {},
      "outputs": [],
      "source": [
        "device = torch.device(\"cpu\")\n",
        "dd: dxtb.typing.DD = {\"device\": device, \"dtype\": torch.double}\n",
        "\n",
        "numbers = torch.tensor(atoms, device=device)\n",
        "positions = torch.tensor(xyz, **dd)\n",
        "charge = torch.tensor(0.0, **dd)\n",
        "par = dxtb.GFN1_XTB"
      ]
    },
    {
      "cell_type": "code",
      "execution_count": 33,
      "metadata": {},
      "outputs": [],
      "source": [
        "import logging\n",
        "\n",
        "logging.getLogger().setLevel(logging.ERROR)"
      ]
    },
    {
      "cell_type": "markdown",
      "metadata": {},
      "source": [
        "### Autograd utils"
      ]
    },
    {
      "cell_type": "code",
      "execution_count": 34,
      "metadata": {},
      "outputs": [],
      "source": [
        "repeats = 10\n",
        "\n",
        "def nth_derivative(f, wrt, n=1):\n",
        "    if n == 0:\n",
        "        return\n",
        "    \n",
        "    create_graph = False if n == 1 else True\n",
        "    \n",
        "    for _ in range(n):\n",
        "        grads, = torch.autograd.grad(f, wrt, create_graph=create_graph)\n",
        "        f = grads.sum()\n",
        "\n",
        "    return grads # type: ignore\n",
        "\n",
        "def print_average(times):\n",
        "    print()\n",
        "    if repeats > 1:\n",
        "        avg_time = sum(times) / len(times)\n",
        "        print(f\"Average ({repeats}): {avg_time:2.4f} sec\")\n",
        "\n",
        "def time_operation(operation, n):\n",
        "    times = []\n",
        "    for _ in range(repeats):\n",
        "        ts = time.perf_counter()\n",
        "        s = operation().sum()  # Execute the operation passed as an argument\n",
        "        ds = nth_derivative(s, positions, n=n)\n",
        "        te = time.perf_counter()\n",
        "        times.append(te - ts)\n",
        "        print(f\"{te - ts:2.4f}\", end=\" \")\n",
        "    \n",
        "    print_average(times)\n",
        "    \n",
        "def eval(c, num, pos, chrg):\n",
        "    result = c.singlepoint(num, pos, chrg)\n",
        "    return result.total.sum()"
      ]
    },
    {
      "cell_type": "markdown",
      "metadata": {},
      "source": [
        "# Libcint"
      ]
    },
    {
      "cell_type": "code",
      "execution_count": 35,
      "metadata": {},
      "outputs": [],
      "source": [
        "opts = {\"int_driver\": \"libcint\", \"verbosity\": 0}\n",
        "calc_lc = dxtb.Calculator(numbers, par, opts=opts)"
      ]
    },
    {
      "cell_type": "markdown",
      "metadata": {},
      "source": [
        "### Energy"
      ]
    },
    {
      "cell_type": "code",
      "execution_count": 36,
      "metadata": {},
      "outputs": [
        {
          "name": "stdout",
          "output_type": "stream",
          "text": [
            "1.4031 "
          ]
        },
        {
          "ename": "KeyboardInterrupt",
          "evalue": "",
          "output_type": "error",
          "traceback": [
            "\u001b[0;31m---------------------------------------------------------------------------\u001b[0m",
            "\u001b[0;31mKeyboardInterrupt\u001b[0m                         Traceback (most recent call last)",
            "\u001b[1;32m/home/friede/Dokumente/xtbML/examples/singlepoint.ipynb Cell 15\u001b[0m line \u001b[0;36m2\n\u001b[1;32m      <a href='vscode-notebook-cell:/home/friede/Dokumente/xtbML/examples/singlepoint.ipynb#Y103sZmlsZQ%3D%3D?line=0'>1</a>\u001b[0m positions \u001b[39m=\u001b[39m positions\u001b[39m.\u001b[39mdetach()\u001b[39m.\u001b[39mclone()\u001b[39m.\u001b[39mrequires_grad_(\u001b[39mTrue\u001b[39;00m)\n\u001b[0;32m----> <a href='vscode-notebook-cell:/home/friede/Dokumente/xtbML/examples/singlepoint.ipynb#Y103sZmlsZQ%3D%3D?line=1'>2</a>\u001b[0m time_operation(\u001b[39mlambda\u001b[39;49;00m: \u001b[39meval\u001b[39;49m(calc_lc, numbers, positions, charge), \u001b[39m0\u001b[39;49m)\n",
            "\u001b[1;32m/home/friede/Dokumente/xtbML/examples/singlepoint.ipynb Cell 15\u001b[0m line \u001b[0;36m2\n\u001b[1;32m     <a href='vscode-notebook-cell:/home/friede/Dokumente/xtbML/examples/singlepoint.ipynb#Y103sZmlsZQ%3D%3D?line=22'>23</a>\u001b[0m \u001b[39mfor\u001b[39;00m _ \u001b[39min\u001b[39;00m \u001b[39mrange\u001b[39m(repeats):\n\u001b[1;32m     <a href='vscode-notebook-cell:/home/friede/Dokumente/xtbML/examples/singlepoint.ipynb#Y103sZmlsZQ%3D%3D?line=23'>24</a>\u001b[0m     ts \u001b[39m=\u001b[39m time\u001b[39m.\u001b[39mperf_counter()\n\u001b[0;32m---> <a href='vscode-notebook-cell:/home/friede/Dokumente/xtbML/examples/singlepoint.ipynb#Y103sZmlsZQ%3D%3D?line=24'>25</a>\u001b[0m     s \u001b[39m=\u001b[39m operation()\u001b[39m.\u001b[39msum()  \u001b[39m# Execute the operation passed as an argument\u001b[39;00m\n\u001b[1;32m     <a href='vscode-notebook-cell:/home/friede/Dokumente/xtbML/examples/singlepoint.ipynb#Y103sZmlsZQ%3D%3D?line=25'>26</a>\u001b[0m     ds \u001b[39m=\u001b[39m nth_derivative(s, positions, n\u001b[39m=\u001b[39mn)\n\u001b[1;32m     <a href='vscode-notebook-cell:/home/friede/Dokumente/xtbML/examples/singlepoint.ipynb#Y103sZmlsZQ%3D%3D?line=26'>27</a>\u001b[0m     te \u001b[39m=\u001b[39m time\u001b[39m.\u001b[39mperf_counter()\n",
            "\u001b[1;32m/home/friede/Dokumente/xtbML/examples/singlepoint.ipynb Cell 15\u001b[0m line \u001b[0;36m2\n\u001b[1;32m      <a href='vscode-notebook-cell:/home/friede/Dokumente/xtbML/examples/singlepoint.ipynb#Y103sZmlsZQ%3D%3D?line=0'>1</a>\u001b[0m positions \u001b[39m=\u001b[39m positions\u001b[39m.\u001b[39mdetach()\u001b[39m.\u001b[39mclone()\u001b[39m.\u001b[39mrequires_grad_(\u001b[39mTrue\u001b[39;00m)\n\u001b[0;32m----> <a href='vscode-notebook-cell:/home/friede/Dokumente/xtbML/examples/singlepoint.ipynb#Y103sZmlsZQ%3D%3D?line=1'>2</a>\u001b[0m time_operation(\u001b[39mlambda\u001b[39;00m: \u001b[39meval\u001b[39;49m(calc_lc, numbers, positions, charge), \u001b[39m0\u001b[39m)\n",
            "\u001b[1;32m/home/friede/Dokumente/xtbML/examples/singlepoint.ipynb Cell 15\u001b[0m line \u001b[0;36m3\n\u001b[1;32m     <a href='vscode-notebook-cell:/home/friede/Dokumente/xtbML/examples/singlepoint.ipynb#Y103sZmlsZQ%3D%3D?line=32'>33</a>\u001b[0m \u001b[39mdef\u001b[39;00m \u001b[39meval\u001b[39m(c, num, pos, chrg):\n\u001b[0;32m---> <a href='vscode-notebook-cell:/home/friede/Dokumente/xtbML/examples/singlepoint.ipynb#Y103sZmlsZQ%3D%3D?line=33'>34</a>\u001b[0m     result \u001b[39m=\u001b[39m c\u001b[39m.\u001b[39;49msinglepoint(num, pos, chrg)\n\u001b[1;32m     <a href='vscode-notebook-cell:/home/friede/Dokumente/xtbML/examples/singlepoint.ipynb#Y103sZmlsZQ%3D%3D?line=34'>35</a>\u001b[0m     \u001b[39mreturn\u001b[39;00m result\u001b[39m.\u001b[39mtotal\u001b[39m.\u001b[39msum()\n",
            "File \u001b[0;32m~/Dokumente/xtbML/src/dxtb/xtb/calculator.py:478\u001b[0m, in \u001b[0;36mCalculator.singlepoint\u001b[0;34m(self, numbers, positions, chrg, grad)\u001b[0m\n\u001b[1;32m    473\u001b[0m \u001b[39m# get caches of all interactions\u001b[39;00m\n\u001b[1;32m    474\u001b[0m icaches \u001b[39m=\u001b[39m \u001b[39mself\u001b[39m\u001b[39m.\u001b[39minteractions\u001b[39m.\u001b[39mget_cache(\n\u001b[1;32m    475\u001b[0m     numbers\u001b[39m=\u001b[39mnumbers, positions\u001b[39m=\u001b[39mpositions, ihelp\u001b[39m=\u001b[39m\u001b[39mself\u001b[39m\u001b[39m.\u001b[39mihelp\n\u001b[1;32m    476\u001b[0m )\n\u001b[0;32m--> 478\u001b[0m scf_results \u001b[39m=\u001b[39m scf\u001b[39m.\u001b[39;49msolve(\n\u001b[1;32m    479\u001b[0m     numbers,\n\u001b[1;32m    480\u001b[0m     positions,\n\u001b[1;32m    481\u001b[0m     chrg,\n\u001b[1;32m    482\u001b[0m     \u001b[39mself\u001b[39;49m\u001b[39m.\u001b[39;49minteractions,\n\u001b[1;32m    483\u001b[0m     icaches,\n\u001b[1;32m    484\u001b[0m     \u001b[39mself\u001b[39;49m\u001b[39m.\u001b[39;49mihelp,\n\u001b[1;32m    485\u001b[0m     \u001b[39mself\u001b[39;49m\u001b[39m.\u001b[39;49mopts[\u001b[39m\"\u001b[39;49m\u001b[39mguess\u001b[39;49m\u001b[39m\"\u001b[39;49m],\n\u001b[1;32m    486\u001b[0m     \u001b[39mself\u001b[39;49m\u001b[39m.\u001b[39;49mintegrals\u001b[39m.\u001b[39;49mmatrices,\n\u001b[1;32m    487\u001b[0m     occupation,\n\u001b[1;32m    488\u001b[0m     n0,\n\u001b[1;32m    489\u001b[0m     fwd_options\u001b[39m=\u001b[39;49m\u001b[39mself\u001b[39;49m\u001b[39m.\u001b[39;49mopts[\u001b[39m\"\u001b[39;49m\u001b[39mfwd_options\u001b[39;49m\u001b[39m\"\u001b[39;49m],\n\u001b[1;32m    490\u001b[0m     scf_options\u001b[39m=\u001b[39;49m\u001b[39mself\u001b[39;49m\u001b[39m.\u001b[39;49mopts[\u001b[39m\"\u001b[39;49m\u001b[39mscf_options\u001b[39;49m\u001b[39m\"\u001b[39;49m],\n\u001b[1;32m    491\u001b[0m )\n\u001b[1;32m    492\u001b[0m \u001b[39mself\u001b[39m\u001b[39m.\u001b[39mtimer\u001b[39m.\u001b[39mstop(\u001b[39m\"\u001b[39m\u001b[39mSCF\u001b[39m\u001b[39m\"\u001b[39m)\n\u001b[1;32m    494\u001b[0m result\u001b[39m.\u001b[39mcharges \u001b[39m=\u001b[39m scf_results[\u001b[39m\"\u001b[39m\u001b[39mcharges\u001b[39m\u001b[39m\"\u001b[39m]\n",
            "File \u001b[0;32m~/Dokumente/xtbML/src/dxtb/scf/iterator.py:512\u001b[0m, in \u001b[0;36msolve\u001b[0;34m(numbers, positions, chrg, interactions, cache, ihelp, guess, integrals, *args, **kwargs)\u001b[0m\n\u001b[1;32m    509\u001b[0m     \u001b[39mraise\u001b[39;00m \u001b[39mValueError\u001b[39;00m(\u001b[39mf\u001b[39m\u001b[39m\"\u001b[39m\u001b[39mUnknown SCF mode \u001b[39m\u001b[39m'\u001b[39m\u001b[39m{\u001b[39;00mscf_mode\u001b[39m}\u001b[39;00m\u001b[39m'\u001b[39m\u001b[39m.\u001b[39m\u001b[39m\"\u001b[39m)\n\u001b[1;32m    511\u001b[0m charges \u001b[39m=\u001b[39m get_guess(numbers, positions, chrg, ihelp, guess)\n\u001b[0;32m--> 512\u001b[0m \u001b[39mreturn\u001b[39;00m scf(\n\u001b[1;32m    513\u001b[0m     interactions,\n\u001b[1;32m    514\u001b[0m     \u001b[39m*\u001b[39;49margs,\n\u001b[1;32m    515\u001b[0m     numbers\u001b[39m=\u001b[39;49mnumbers,\n\u001b[1;32m    516\u001b[0m     ihelp\u001b[39m=\u001b[39;49mihelp,\n\u001b[1;32m    517\u001b[0m     cache\u001b[39m=\u001b[39;49mcache,\n\u001b[1;32m    518\u001b[0m     integrals\u001b[39m=\u001b[39;49mintegrals,\n\u001b[1;32m    519\u001b[0m     \u001b[39m*\u001b[39;49m\u001b[39m*\u001b[39;49mkwargs,\n\u001b[1;32m    520\u001b[0m )(charges)\n",
            "File \u001b[0;32m~/Dokumente/xtbML/src/dxtb/scf/base.py:377\u001b[0m, in \u001b[0;36mBaseSCF.__call__\u001b[0;34m(self, charges)\u001b[0m\n\u001b[1;32m    374\u001b[0m     \u001b[39mprint\u001b[39m(\u001b[39m77\u001b[39m \u001b[39m*\u001b[39m \u001b[39m\"\u001b[39m\u001b[39m-\u001b[39m\u001b[39m\"\u001b[39m)\n\u001b[1;32m    376\u001b[0m \u001b[39m# main SCF function (mixing)\u001b[39;00m\n\u001b[0;32m--> 377\u001b[0m charges \u001b[39m=\u001b[39m \u001b[39mself\u001b[39;49m\u001b[39m.\u001b[39;49mscf(guess)\n\u001b[1;32m    379\u001b[0m \u001b[39mif\u001b[39;00m \u001b[39mself\u001b[39m\u001b[39m.\u001b[39mscf_options[\u001b[39m\"\u001b[39m\u001b[39mverbosity\u001b[39m\u001b[39m\"\u001b[39m] \u001b[39m>\u001b[39m \u001b[39m0\u001b[39m:\n\u001b[1;32m    380\u001b[0m     \u001b[39mprint\u001b[39m(\u001b[39m77\u001b[39m \u001b[39m*\u001b[39m \u001b[39m\"\u001b[39m\u001b[39m-\u001b[39m\u001b[39m\"\u001b[39m)\n",
            "File \u001b[0;32m~/Dokumente/xtbML/src/dxtb/scf/iterator.py:50\u001b[0m, in \u001b[0;36mSelfConsistentField.scf\u001b[0;34m(self, guess)\u001b[0m\n\u001b[1;32m     47\u001b[0m \u001b[39mdef\u001b[39;00m \u001b[39mscf\u001b[39m(\u001b[39mself\u001b[39m, guess: Tensor) \u001b[39m-\u001b[39m\u001b[39m>\u001b[39m Charges:\n\u001b[1;32m     48\u001b[0m     fcn \u001b[39m=\u001b[39m \u001b[39mself\u001b[39m\u001b[39m.\u001b[39m_fcn\n\u001b[0;32m---> 50\u001b[0m     q_converged \u001b[39m=\u001b[39m xto\u001b[39m.\u001b[39;49mequilibrium(\n\u001b[1;32m     51\u001b[0m         fcn\u001b[39m=\u001b[39;49mfcn,\n\u001b[1;32m     52\u001b[0m         y0\u001b[39m=\u001b[39;49mguess,\n\u001b[1;32m     53\u001b[0m         bck_options\u001b[39m=\u001b[39;49m{\u001b[39m*\u001b[39;49m\u001b[39m*\u001b[39;49m\u001b[39mself\u001b[39;49m\u001b[39m.\u001b[39;49mbck_options},\n\u001b[1;32m     54\u001b[0m         \u001b[39m*\u001b[39;49m\u001b[39m*\u001b[39;49m\u001b[39mself\u001b[39;49m\u001b[39m.\u001b[39;49mfwd_options,\n\u001b[1;32m     55\u001b[0m     )\n\u001b[1;32m     57\u001b[0m     \u001b[39m# To reconnect the H0 energy with the computational graph, we\u001b[39;00m\n\u001b[1;32m     58\u001b[0m     \u001b[39m# compute one extra SCF cycle with strong damping.\u001b[39;00m\n\u001b[1;32m     59\u001b[0m     \u001b[39m# Note that this is not required for SCF with full gradient tracking.\u001b[39;00m\n\u001b[1;32m     60\u001b[0m     \u001b[39m# (see https://github.com/grimme-lab/xtbML/issues/124)\u001b[39;00m\n\u001b[1;32m     61\u001b[0m     \u001b[39mif\u001b[39;00m \u001b[39mself\u001b[39m\u001b[39m.\u001b[39mscp_mode \u001b[39min\u001b[39;00m (\u001b[39m\"\u001b[39m\u001b[39mcharge\u001b[39m\u001b[39m\"\u001b[39m, \u001b[39m\"\u001b[39m\u001b[39mcharges\u001b[39m\u001b[39m\"\u001b[39m):\n",
            "File \u001b[0;32m~/Dokumente/xtbML/src/dxtb/exlibs/xitorch/optimize/rootfinder.py:192\u001b[0m, in \u001b[0;36mequilibrium\u001b[0;34m(fcn, y0, params, bck_options, method, **fwd_options)\u001b[0m\n\u001b[1;32m    189\u001b[0m     \u001b[39mreturn\u001b[39;00m y \u001b[39m-\u001b[39m pfunc(y, \u001b[39m*\u001b[39mparams)\n\u001b[1;32m    191\u001b[0m fwd_options[\u001b[39m\"\u001b[39m\u001b[39mmethod\u001b[39m\u001b[39m\"\u001b[39m] \u001b[39m=\u001b[39m _get_rootfinder_default_method(method)\n\u001b[0;32m--> 192\u001b[0m \u001b[39mreturn\u001b[39;00m _RootFinder\u001b[39m.\u001b[39;49mapply(\n\u001b[1;32m    193\u001b[0m     new_fcn,\n\u001b[1;32m    194\u001b[0m     y0,\n\u001b[1;32m    195\u001b[0m     new_fcn,\n\u001b[1;32m    196\u001b[0m     \u001b[39mFalse\u001b[39;49;00m,\n\u001b[1;32m    197\u001b[0m     fwd_options,\n\u001b[1;32m    198\u001b[0m     bck_options,\n\u001b[1;32m    199\u001b[0m     \u001b[39mlen\u001b[39;49m(params),\n\u001b[1;32m    200\u001b[0m     \u001b[39m*\u001b[39;49mparams,\n\u001b[1;32m    201\u001b[0m     \u001b[39m*\u001b[39;49mpfunc\u001b[39m.\u001b[39;49mobjparams()\n\u001b[1;32m    202\u001b[0m )\n",
            "File \u001b[0;32m/opt/miniforge3/envs/dxtb/lib/python3.10/site-packages/torch/autograd/function.py:506\u001b[0m, in \u001b[0;36mFunction.apply\u001b[0;34m(cls, *args, **kwargs)\u001b[0m\n\u001b[1;32m    503\u001b[0m \u001b[39mif\u001b[39;00m \u001b[39mnot\u001b[39;00m torch\u001b[39m.\u001b[39m_C\u001b[39m.\u001b[39m_are_functorch_transforms_active():\n\u001b[1;32m    504\u001b[0m     \u001b[39m# See NOTE: [functorch vjp and autograd interaction]\u001b[39;00m\n\u001b[1;32m    505\u001b[0m     args \u001b[39m=\u001b[39m _functorch\u001b[39m.\u001b[39mutils\u001b[39m.\u001b[39munwrap_dead_wrappers(args)\n\u001b[0;32m--> 506\u001b[0m     \u001b[39mreturn\u001b[39;00m \u001b[39msuper\u001b[39;49m()\u001b[39m.\u001b[39;49mapply(\u001b[39m*\u001b[39;49margs, \u001b[39m*\u001b[39;49m\u001b[39m*\u001b[39;49mkwargs)  \u001b[39m# type: ignore[misc]\u001b[39;00m\n\u001b[1;32m    508\u001b[0m \u001b[39mif\u001b[39;00m \u001b[39mcls\u001b[39m\u001b[39m.\u001b[39msetup_context \u001b[39m==\u001b[39m _SingleLevelFunction\u001b[39m.\u001b[39msetup_context:\n\u001b[1;32m    509\u001b[0m     \u001b[39mraise\u001b[39;00m \u001b[39mRuntimeError\u001b[39;00m(\n\u001b[1;32m    510\u001b[0m         \u001b[39m'\u001b[39m\u001b[39mIn order to use an autograd.Function with functorch transforms \u001b[39m\u001b[39m'\u001b[39m\n\u001b[1;32m    511\u001b[0m         \u001b[39m'\u001b[39m\u001b[39m(vmap, grad, jvp, jacrev, ...), it must override the setup_context \u001b[39m\u001b[39m'\u001b[39m\n\u001b[1;32m    512\u001b[0m         \u001b[39m'\u001b[39m\u001b[39mstaticmethod. For more details, please see \u001b[39m\u001b[39m'\u001b[39m\n\u001b[1;32m    513\u001b[0m         \u001b[39m'\u001b[39m\u001b[39mhttps://pytorch.org/docs/master/notes/extending.func.html\u001b[39m\u001b[39m'\u001b[39m)\n",
            "File \u001b[0;32m~/Dokumente/xtbML/src/dxtb/exlibs/xitorch/optimize/rootfinder.py:346\u001b[0m, in \u001b[0;36m_RootFinder.forward\u001b[0;34m(ctx, fcn, y0, fwd_fcn, is_opt_method, options, bck_options, nparams, *allparams)\u001b[0m\n\u001b[1;32m    344\u001b[0m     name \u001b[39m=\u001b[39m \u001b[39m\"\u001b[39m\u001b[39mrootfinder\u001b[39m\u001b[39m\"\u001b[39m \u001b[39mif\u001b[39;00m \u001b[39mnot\u001b[39;00m is_opt_method \u001b[39melse\u001b[39;00m \u001b[39m\"\u001b[39m\u001b[39mminimizer\u001b[39m\u001b[39m\"\u001b[39m\n\u001b[1;32m    345\u001b[0m     method_fcn \u001b[39m=\u001b[39m get_method(name, methods, method)\n\u001b[0;32m--> 346\u001b[0m     y \u001b[39m=\u001b[39m method_fcn(fwd_fcn, y0, params, \u001b[39m*\u001b[39;49m\u001b[39m*\u001b[39;49mconfig)\n\u001b[1;32m    348\u001b[0m ctx\u001b[39m.\u001b[39mfcn \u001b[39m=\u001b[39m fcn\n\u001b[1;32m    349\u001b[0m ctx\u001b[39m.\u001b[39mis_opt_method \u001b[39m=\u001b[39m is_opt_method\n",
            "File \u001b[0;32m~/Dokumente/xtbML/src/dxtb/exlibs/xitorch/_impls/optimize/root/rootsolver.py:219\u001b[0m, in \u001b[0;36mbroyden1\u001b[0;34m(fcn, x0, params, **kwargs)\u001b[0m\n\u001b[1;32m    203\u001b[0m \u001b[39m@functools\u001b[39m\u001b[39m.\u001b[39mwraps(\n\u001b[1;32m    204\u001b[0m     _nonlin_solver, assigned\u001b[39m=\u001b[39m(\u001b[39m\"\u001b[39m\u001b[39m__annotations__\u001b[39m\u001b[39m\"\u001b[39m,)\n\u001b[1;32m    205\u001b[0m )  \u001b[39m# takes only the signature\u001b[39;00m\n\u001b[1;32m    206\u001b[0m \u001b[39mdef\u001b[39;00m \u001b[39mbroyden1\u001b[39m(fcn, x0, params\u001b[39m=\u001b[39m(), \u001b[39m*\u001b[39m\u001b[39m*\u001b[39mkwargs):\n\u001b[1;32m    207\u001b[0m \u001b[39m    \u001b[39m\u001b[39m\"\"\"\u001b[39;00m\n\u001b[1;32m    208\u001b[0m \u001b[39m    Solve the root finder or linear equation using the first Broyden method [1]_.\u001b[39;00m\n\u001b[1;32m    209\u001b[0m \u001b[39m    It can be used to solve minimization by finding the root of the\u001b[39;00m\n\u001b[0;32m   (...)\u001b[0m\n\u001b[1;32m    217\u001b[0m \u001b[39m           https://web.archive.org/web/20161022015821/http://www.math.leidenuniv.nl/scripties/Rotten.pdf\u001b[39;00m\n\u001b[1;32m    218\u001b[0m \u001b[39m    \"\"\"\u001b[39;00m\n\u001b[0;32m--> 219\u001b[0m     \u001b[39mreturn\u001b[39;00m _nonlin_solver(fcn, x0, params, \u001b[39m\"\u001b[39;49m\u001b[39mbroyden1\u001b[39;49m\u001b[39m\"\u001b[39;49m, \u001b[39m*\u001b[39;49m\u001b[39m*\u001b[39;49mkwargs)\n",
            "File \u001b[0;32m~/Dokumente/xtbML/src/dxtb/exlibs/xitorch/_impls/optimize/root/rootsolver.py:151\u001b[0m, in \u001b[0;36m_nonlin_solver\u001b[0;34m(fcn, x0, params, method, alpha, uv0, max_rank, maxiter, f_tol, f_rtol, x_tol, x_rtol, line_search, verbose, **unused)\u001b[0m\n\u001b[1;32m    149\u001b[0m     s \u001b[39m=\u001b[39m \u001b[39m0.95\u001b[39m  \u001b[39m# modified!!\u001b[39;00m\n\u001b[1;32m    150\u001b[0m     xnew \u001b[39m=\u001b[39m x \u001b[39m+\u001b[39m s \u001b[39m*\u001b[39m dx\n\u001b[0;32m--> 151\u001b[0m     ynew \u001b[39m=\u001b[39m func(xnew)\n\u001b[1;32m    152\u001b[0m     y_norm_new \u001b[39m=\u001b[39m ynew\u001b[39m.\u001b[39mnorm()\n\u001b[1;32m    154\u001b[0m \u001b[39m# save the best results\u001b[39;00m\n",
            "File \u001b[0;32m~/Dokumente/xtbML/src/dxtb/exlibs/xitorch/_impls/optimize/root/rootsolver.py:109\u001b[0m, in \u001b[0;36m_nonlin_solver.<locals>.<lambda>\u001b[0;34m(x)\u001b[0m\n\u001b[1;32m    107\u001b[0m \u001b[39m# shorthand for the function\u001b[39;00m\n\u001b[1;32m    108\u001b[0m xshape \u001b[39m=\u001b[39m x0\u001b[39m.\u001b[39mshape\n\u001b[0;32m--> 109\u001b[0m func \u001b[39m=\u001b[39m \u001b[39mlambda\u001b[39;00m x: _ravel(fcn(_pack(x), \u001b[39m*\u001b[39;49mparams))\n\u001b[1;32m    110\u001b[0m x \u001b[39m=\u001b[39m _ravel(x0)\n\u001b[1;32m    112\u001b[0m y \u001b[39m=\u001b[39m func(x)\n",
            "File \u001b[0;32m~/Dokumente/xtbML/src/dxtb/exlibs/xitorch/_core/pure_function.py:37\u001b[0m, in \u001b[0;36mPureFunction.__call__\u001b[0;34m(self, *params)\u001b[0m\n\u001b[1;32m     36\u001b[0m \u001b[39mdef\u001b[39;00m \u001b[39m__call__\u001b[39m(\u001b[39mself\u001b[39m, \u001b[39m*\u001b[39mparams):\n\u001b[0;32m---> 37\u001b[0m     \u001b[39mreturn\u001b[39;00m \u001b[39mself\u001b[39;49m\u001b[39m.\u001b[39;49m_fcntocall(\u001b[39m*\u001b[39;49mparams)\n",
            "File \u001b[0;32m~/Dokumente/xtbML/src/dxtb/exlibs/xitorch/optimize/rootfinder.py:189\u001b[0m, in \u001b[0;36mequilibrium.<locals>.new_fcn\u001b[0;34m(y, *params)\u001b[0m\n\u001b[1;32m    187\u001b[0m \u001b[39m@make_sibling\u001b[39m(pfunc)\n\u001b[1;32m    188\u001b[0m \u001b[39mdef\u001b[39;00m \u001b[39mnew_fcn\u001b[39m(y, \u001b[39m*\u001b[39mparams):\n\u001b[0;32m--> 189\u001b[0m     \u001b[39mreturn\u001b[39;00m y \u001b[39m-\u001b[39m pfunc(y, \u001b[39m*\u001b[39;49mparams)\n",
            "File \u001b[0;32m~/Dokumente/xtbML/src/dxtb/exlibs/xitorch/_core/pure_function.py:37\u001b[0m, in \u001b[0;36mPureFunction.__call__\u001b[0;34m(self, *params)\u001b[0m\n\u001b[1;32m     36\u001b[0m \u001b[39mdef\u001b[39;00m \u001b[39m__call__\u001b[39m(\u001b[39mself\u001b[39m, \u001b[39m*\u001b[39mparams):\n\u001b[0;32m---> 37\u001b[0m     \u001b[39mreturn\u001b[39;00m \u001b[39mself\u001b[39;49m\u001b[39m.\u001b[39;49m_fcntocall(\u001b[39m*\u001b[39;49mparams)\n",
            "File \u001b[0;32m~/Dokumente/xtbML/src/dxtb/scf/base.py:624\u001b[0m, in \u001b[0;36mBaseSCF.iterate_potential\u001b[0;34m(self, potential)\u001b[0m\n\u001b[1;32m    608\u001b[0m \u001b[39m\u001b[39m\u001b[39m\"\"\"\u001b[39;00m\n\u001b[1;32m    609\u001b[0m \u001b[39mPerform single self-consistent iteration.\u001b[39;00m\n\u001b[1;32m    610\u001b[0m \n\u001b[0;32m   (...)\u001b[0m\n\u001b[1;32m    619\u001b[0m \u001b[39m    New potential vector for each orbital partial charge.\u001b[39;00m\n\u001b[1;32m    620\u001b[0m \u001b[39m\"\"\"\u001b[39;00m\n\u001b[1;32m    621\u001b[0m pot \u001b[39m=\u001b[39m Potential\u001b[39m.\u001b[39mfrom_tensor(\n\u001b[1;32m    622\u001b[0m     potential, \u001b[39mself\u001b[39m\u001b[39m.\u001b[39m_data\u001b[39m.\u001b[39mpotential, batched\u001b[39m=\u001b[39m\u001b[39mself\u001b[39m\u001b[39m.\u001b[39mbatched\n\u001b[1;32m    623\u001b[0m )\n\u001b[0;32m--> 624\u001b[0m charges \u001b[39m=\u001b[39m \u001b[39mself\u001b[39;49m\u001b[39m.\u001b[39;49mpotential_to_charges(pot)\n\u001b[1;32m    626\u001b[0m \u001b[39mif\u001b[39;00m \u001b[39mself\u001b[39m\u001b[39m.\u001b[39mscf_options[\u001b[39m\"\u001b[39m\u001b[39mverbosity\u001b[39m\u001b[39m\"\u001b[39m] \u001b[39m>\u001b[39m \u001b[39m0\u001b[39m:\n\u001b[1;32m    627\u001b[0m     \u001b[39mif\u001b[39;00m charges\u001b[39m.\u001b[39mmono\u001b[39m.\u001b[39mndim \u001b[39m<\u001b[39m \u001b[39m2\u001b[39m:  \u001b[39m# pragma: no cover\u001b[39;00m\n",
            "File \u001b[0;32m~/Dokumente/xtbML/src/dxtb/scf/base.py:732\u001b[0m, in \u001b[0;36mBaseSCF.potential_to_charges\u001b[0;34m(self, potential)\u001b[0m\n\u001b[1;32m    717\u001b[0m \u001b[39mdef\u001b[39;00m \u001b[39mpotential_to_charges\u001b[39m(\u001b[39mself\u001b[39m, potential: Potential) \u001b[39m-\u001b[39m\u001b[39m>\u001b[39m Charges:\n\u001b[1;32m    718\u001b[0m \u001b[39m    \u001b[39m\u001b[39m\"\"\"\u001b[39;00m\n\u001b[1;32m    719\u001b[0m \u001b[39m    Compute the orbital charges from the potential.\u001b[39;00m\n\u001b[1;32m    720\u001b[0m \n\u001b[0;32m   (...)\u001b[0m\n\u001b[1;32m    729\u001b[0m \u001b[39m        Orbital-resolved partial charges vector.\u001b[39;00m\n\u001b[1;32m    730\u001b[0m \u001b[39m    \"\"\"\u001b[39;00m\n\u001b[0;32m--> 732\u001b[0m     \u001b[39mself\u001b[39m\u001b[39m.\u001b[39m_data\u001b[39m.\u001b[39mdensity \u001b[39m=\u001b[39m \u001b[39mself\u001b[39;49m\u001b[39m.\u001b[39;49mpotential_to_density(potential)\n\u001b[1;32m    733\u001b[0m     \u001b[39mreturn\u001b[39;00m \u001b[39mself\u001b[39m\u001b[39m.\u001b[39mdensity_to_charges(\u001b[39mself\u001b[39m\u001b[39m.\u001b[39m_data\u001b[39m.\u001b[39mdensity)\n",
            "File \u001b[0;32m~/Dokumente/xtbML/src/dxtb/scf/base.py:751\u001b[0m, in \u001b[0;36mBaseSCF.potential_to_density\u001b[0;34m(self, potential)\u001b[0m\n\u001b[1;32m    736\u001b[0m \u001b[39m\u001b[39m\u001b[39m\"\"\"\u001b[39;00m\n\u001b[1;32m    737\u001b[0m \u001b[39mObtain the density matrix from the potential.\u001b[39;00m\n\u001b[1;32m    738\u001b[0m \n\u001b[0;32m   (...)\u001b[0m\n\u001b[1;32m    747\u001b[0m \u001b[39m    Density matrix.\u001b[39;00m\n\u001b[1;32m    748\u001b[0m \u001b[39m\"\"\"\u001b[39;00m\n\u001b[1;32m    750\u001b[0m \u001b[39mself\u001b[39m\u001b[39m.\u001b[39m_data\u001b[39m.\u001b[39mhamiltonian \u001b[39m=\u001b[39m \u001b[39mself\u001b[39m\u001b[39m.\u001b[39mpotential_to_hamiltonian(potential)\n\u001b[0;32m--> 751\u001b[0m \u001b[39mreturn\u001b[39;00m \u001b[39mself\u001b[39;49m\u001b[39m.\u001b[39;49mhamiltonian_to_density(\u001b[39mself\u001b[39;49m\u001b[39m.\u001b[39;49m_data\u001b[39m.\u001b[39;49mhamiltonian)\n",
            "File \u001b[0;32m~/Dokumente/xtbML/src/dxtb/scf/base.py:861\u001b[0m, in \u001b[0;36mBaseSCF.hamiltonian_to_density\u001b[0;34m(self, hamiltonian)\u001b[0m\n\u001b[1;32m    846\u001b[0m \u001b[39mdef\u001b[39;00m \u001b[39mhamiltonian_to_density\u001b[39m(\u001b[39mself\u001b[39m, hamiltonian: Tensor) \u001b[39m-\u001b[39m\u001b[39m>\u001b[39m Tensor:\n\u001b[1;32m    847\u001b[0m \u001b[39m    \u001b[39m\u001b[39m\"\"\"\u001b[39;00m\n\u001b[1;32m    848\u001b[0m \u001b[39m    Compute the density matrix from the Hamiltonian.\u001b[39;00m\n\u001b[1;32m    849\u001b[0m \n\u001b[0;32m   (...)\u001b[0m\n\u001b[1;32m    858\u001b[0m \u001b[39m        Density matrix.\u001b[39;00m\n\u001b[1;32m    859\u001b[0m \u001b[39m    \"\"\"\u001b[39;00m\n\u001b[0;32m--> 861\u001b[0m     \u001b[39mself\u001b[39m\u001b[39m.\u001b[39m_data\u001b[39m.\u001b[39mevals, \u001b[39mself\u001b[39m\u001b[39m.\u001b[39m_data\u001b[39m.\u001b[39mevecs \u001b[39m=\u001b[39m \u001b[39mself\u001b[39;49m\u001b[39m.\u001b[39;49mdiagonalize(hamiltonian)\n\u001b[1;32m    863\u001b[0m     \u001b[39m# round to integers to avoid numerical errors\u001b[39;00m\n\u001b[1;32m    864\u001b[0m     nel \u001b[39m=\u001b[39m \u001b[39mself\u001b[39m\u001b[39m.\u001b[39m_data\u001b[39m.\u001b[39moccupation\u001b[39m.\u001b[39msum(\u001b[39m-\u001b[39m\u001b[39m1\u001b[39m)\u001b[39m.\u001b[39mround()\n",
            "File \u001b[0;32m~/Dokumente/xtbML/src/dxtb/scf/base.py:971\u001b[0m, in \u001b[0;36mBaseXSCF.diagonalize\u001b[0;34m(self, hamiltonian)\u001b[0m\n\u001b[1;32m    968\u001b[0m h_op \u001b[39m=\u001b[39m LinearOperator\u001b[39m.\u001b[39mm(hamiltonian)\n\u001b[1;32m    969\u001b[0m o_op \u001b[39m=\u001b[39m \u001b[39mself\u001b[39m\u001b[39m.\u001b[39mget_overlap()\n\u001b[0;32m--> 971\u001b[0m \u001b[39mreturn\u001b[39;00m xtl\u001b[39m.\u001b[39;49mlsymeig(A\u001b[39m=\u001b[39;49mh_op, M\u001b[39m=\u001b[39;49mo_op, \u001b[39m*\u001b[39;49m\u001b[39m*\u001b[39;49m\u001b[39mself\u001b[39;49m\u001b[39m.\u001b[39;49meigen_options)\n",
            "File \u001b[0;32m~/Dokumente/xtbML/src/dxtb/exlibs/xitorch/linalg/symeig.py:31\u001b[0m, in \u001b[0;36mlsymeig\u001b[0;34m(A, neig, M, bck_options, method, **fwd_options)\u001b[0m\n\u001b[1;32m     23\u001b[0m \u001b[39mdef\u001b[39;00m \u001b[39mlsymeig\u001b[39m(\n\u001b[1;32m     24\u001b[0m     A: LinearOperator,\n\u001b[1;32m     25\u001b[0m     neig: Optional[\u001b[39mint\u001b[39m] \u001b[39m=\u001b[39m \u001b[39mNone\u001b[39;00m,\n\u001b[0;32m   (...)\u001b[0m\n\u001b[1;32m     29\u001b[0m     \u001b[39m*\u001b[39m\u001b[39m*\u001b[39mfwd_options,\n\u001b[1;32m     30\u001b[0m ) \u001b[39m-\u001b[39m\u001b[39m>\u001b[39m Tuple[torch\u001b[39m.\u001b[39mTensor, torch\u001b[39m.\u001b[39mTensor]:\n\u001b[0;32m---> 31\u001b[0m     \u001b[39mreturn\u001b[39;00m symeig(\n\u001b[1;32m     32\u001b[0m         A, neig, \u001b[39m\"\u001b[39;49m\u001b[39mlowest\u001b[39;49m\u001b[39m\"\u001b[39;49m, M, method\u001b[39m=\u001b[39;49mmethod, bck_options\u001b[39m=\u001b[39;49mbck_options, \u001b[39m*\u001b[39;49m\u001b[39m*\u001b[39;49mfwd_options\n\u001b[1;32m     33\u001b[0m     )\n",
            "File \u001b[0;32m~/Dokumente/xtbML/src/dxtb/exlibs/xitorch/linalg/symeig.py:163\u001b[0m, in \u001b[0;36msymeig\u001b[0;34m(A, neig, mode, M, bck_options, method, **fwd_options)\u001b[0m\n\u001b[1;32m    160\u001b[0m         M\u001b[39m.\u001b[39mcheck()\n\u001b[1;32m    162\u001b[0m \u001b[39mif\u001b[39;00m method \u001b[39m==\u001b[39m \u001b[39m\"\u001b[39m\u001b[39mexacteig\u001b[39m\u001b[39m\"\u001b[39m:\n\u001b[0;32m--> 163\u001b[0m     \u001b[39mreturn\u001b[39;00m exacteig(A, neig, mode, M)\n\u001b[1;32m    164\u001b[0m \u001b[39melse\u001b[39;00m:\n\u001b[1;32m    165\u001b[0m     fwd_options[\u001b[39m\"\u001b[39m\u001b[39mmethod\u001b[39m\u001b[39m\"\u001b[39m] \u001b[39m=\u001b[39m method\n",
            "File \u001b[0;32m~/Dokumente/xtbML/src/dxtb/exlibs/xitorch/_impls/linalg/symeig.py:40\u001b[0m, in \u001b[0;36mexacteig\u001b[0;34m(A, neig, mode, M)\u001b[0m\n\u001b[1;32m     38\u001b[0m Linv \u001b[39m=\u001b[39m torch\u001b[39m.\u001b[39minverse(L)  \u001b[39m# (*BM, q, q)\u001b[39;00m\n\u001b[1;32m     39\u001b[0m LinvT \u001b[39m=\u001b[39m Linv\u001b[39m.\u001b[39mtranspose(\u001b[39m-\u001b[39m\u001b[39m2\u001b[39m, \u001b[39m-\u001b[39m\u001b[39m1\u001b[39m)\u001b[39m.\u001b[39mconj()  \u001b[39m# (*BM, q, q)\u001b[39;00m\n\u001b[0;32m---> 40\u001b[0m A2 \u001b[39m=\u001b[39m torch\u001b[39m.\u001b[39;49mmatmul(Linv, torch\u001b[39m.\u001b[39;49mmatmul(Amatrix, LinvT))  \u001b[39m# (*BAM, q, q)\u001b[39;00m\n\u001b[1;32m     42\u001b[0m \u001b[39m# calculate the eigenvalues and eigenvectors\u001b[39;00m\n\u001b[1;32m     43\u001b[0m \u001b[39m# (the eigvecs are normalized in M-space)\u001b[39;00m\n\u001b[1;32m     44\u001b[0m \u001b[39m# evals, evecs = torch.linalg.eigh(A2, eigenvectors=True)  # (*BAM, q, q)\u001b[39;00m\n\u001b[1;32m     45\u001b[0m evals, evecs \u001b[39m=\u001b[39m degen_symeig\u001b[39m.\u001b[39mapply(A2)  \u001b[39m# (*BAM, q, q)\u001b[39;00m\n",
            "\u001b[0;31mKeyboardInterrupt\u001b[0m: "
          ]
        }
      ],
      "source": [
        "positions = positions.detach().clone().requires_grad_(True)\n",
        "time_operation(lambda: eval(calc_lc, numbers, positions, charge), 0)"
      ]
    },
    {
      "cell_type": "markdown",
      "metadata": {},
      "source": [
        "### 1st Derivative"
      ]
    },
    {
      "cell_type": "code",
      "execution_count": null,
      "metadata": {},
      "outputs": [
        {
          "name": "stdout",
          "output_type": "stream",
          "text": [
            "1.5768 1.5383 1.5267 1.5973 1.5994 1.5767 1.5134 1.5493 1.5329 1.5184 \n",
            "Average (10): 1.5529 sec\n"
          ]
        }
      ],
      "source": [
        "positions = positions.detach().clone().requires_grad_(True)\n",
        "time_operation(lambda: eval(calc_lc, numbers, positions, charge), 1)"
      ]
    },
    {
      "cell_type": "markdown",
      "metadata": {},
      "source": [
        "### 2nd Derivative"
      ]
    },
    {
      "cell_type": "code",
      "execution_count": null,
      "metadata": {},
      "outputs": [
        {
          "name": "stdout",
          "output_type": "stream",
          "text": [
            "2.0975 2.1389 2.1188 2.2312 2.1927 2.1208 2.1229 2.1432 2.1797 2.1356 \n",
            "Average (10): 2.1481 sec\n"
          ]
        }
      ],
      "source": [
        "positions = positions.detach().clone().requires_grad_(True)\n",
        "time_operation(lambda: eval(calc_lc, numbers, positions, charge), 2)"
      ]
    },
    {
      "cell_type": "markdown",
      "metadata": {},
      "source": [
        "### 3rd Derivative"
      ]
    },
    {
      "cell_type": "code",
      "execution_count": null,
      "metadata": {},
      "outputs": [
        {
          "ename": "KeyboardInterrupt",
          "evalue": "",
          "output_type": "error",
          "traceback": [
            "\u001b[0;31m---------------------------------------------------------------------------\u001b[0m\n",
            "\u001b[0;31mKeyboardInterrupt\u001b[0m                         Traceback (most recent call last)\n",
            "\u001b[1;32m/home/friede/Dokumente/xtbML/examples/singlepoint.ipynb Cell 29\u001b[0m line \u001b[0;36m2\n",
            "\u001b[1;32m      <a href='vscode-notebook-cell:/home/friede/Dokumente/xtbML/examples/singlepoint.ipynb#X54sZmlsZQ%3D%3D?line=0'>1</a>\u001b[0m positions \u001b[39m=\u001b[39m positions\u001b[39m.\u001b[39mdetach()\u001b[39m.\u001b[39mclone()\u001b[39m.\u001b[39mrequires_grad_(\u001b[39mTrue\u001b[39;00m)\n",
            "\u001b[0;32m----> <a href='vscode-notebook-cell:/home/friede/Dokumente/xtbML/examples/singlepoint.ipynb#X54sZmlsZQ%3D%3D?line=1'>2</a>\u001b[0m time_operation(\u001b[39mlambda\u001b[39;49;00m: \u001b[39meval\u001b[39;49m(calc_py, numbers, positions, charge), \u001b[39m3\u001b[39;49m)\n",
            "\n",
            "\u001b[1;32m/home/friede/Dokumente/xtbML/examples/singlepoint.ipynb Cell 29\u001b[0m line \u001b[0;36m2\n",
            "\u001b[1;32m     <a href='vscode-notebook-cell:/home/friede/Dokumente/xtbML/examples/singlepoint.ipynb#X54sZmlsZQ%3D%3D?line=23'>24</a>\u001b[0m ts \u001b[39m=\u001b[39m time\u001b[39m.\u001b[39mperf_counter()\n",
            "\u001b[1;32m     <a href='vscode-notebook-cell:/home/friede/Dokumente/xtbML/examples/singlepoint.ipynb#X54sZmlsZQ%3D%3D?line=24'>25</a>\u001b[0m s \u001b[39m=\u001b[39m operation()\u001b[39m.\u001b[39msum()  \u001b[39m# Execute the operation passed as an argument\u001b[39;00m\n",
            "\u001b[0;32m---> <a href='vscode-notebook-cell:/home/friede/Dokumente/xtbML/examples/singlepoint.ipynb#X54sZmlsZQ%3D%3D?line=25'>26</a>\u001b[0m ds \u001b[39m=\u001b[39m nth_derivative(s, positions, n\u001b[39m=\u001b[39;49mn)\n",
            "\u001b[1;32m     <a href='vscode-notebook-cell:/home/friede/Dokumente/xtbML/examples/singlepoint.ipynb#X54sZmlsZQ%3D%3D?line=26'>27</a>\u001b[0m te \u001b[39m=\u001b[39m time\u001b[39m.\u001b[39mperf_counter()\n",
            "\u001b[1;32m     <a href='vscode-notebook-cell:/home/friede/Dokumente/xtbML/examples/singlepoint.ipynb#X54sZmlsZQ%3D%3D?line=27'>28</a>\u001b[0m times\u001b[39m.\u001b[39mappend(te \u001b[39m-\u001b[39m ts)\n",
            "\n",
            "\u001b[1;32m/home/friede/Dokumente/xtbML/examples/singlepoint.ipynb Cell 29\u001b[0m line \u001b[0;36m1\n",
            "\u001b[1;32m      <a href='vscode-notebook-cell:/home/friede/Dokumente/xtbML/examples/singlepoint.ipynb#X54sZmlsZQ%3D%3D?line=6'>7</a>\u001b[0m create_graph \u001b[39m=\u001b[39m \u001b[39mFalse\u001b[39;00m \u001b[39mif\u001b[39;00m n \u001b[39m==\u001b[39m \u001b[39m1\u001b[39m \u001b[39melse\u001b[39;00m \u001b[39mTrue\u001b[39;00m\n",
            "\u001b[1;32m      <a href='vscode-notebook-cell:/home/friede/Dokumente/xtbML/examples/singlepoint.ipynb#X54sZmlsZQ%3D%3D?line=8'>9</a>\u001b[0m \u001b[39mfor\u001b[39;00m _ \u001b[39min\u001b[39;00m \u001b[39mrange\u001b[39m(n):\n",
            "\u001b[0;32m---> <a href='vscode-notebook-cell:/home/friede/Dokumente/xtbML/examples/singlepoint.ipynb#X54sZmlsZQ%3D%3D?line=9'>10</a>\u001b[0m     grads, \u001b[39m=\u001b[39m torch\u001b[39m.\u001b[39;49mautograd\u001b[39m.\u001b[39;49mgrad(f, wrt, create_graph\u001b[39m=\u001b[39;49mcreate_graph)\n",
            "\u001b[1;32m     <a href='vscode-notebook-cell:/home/friede/Dokumente/xtbML/examples/singlepoint.ipynb#X54sZmlsZQ%3D%3D?line=10'>11</a>\u001b[0m     f \u001b[39m=\u001b[39m grads\u001b[39m.\u001b[39msum()\n",
            "\u001b[1;32m     <a href='vscode-notebook-cell:/home/friede/Dokumente/xtbML/examples/singlepoint.ipynb#X54sZmlsZQ%3D%3D?line=12'>13</a>\u001b[0m \u001b[39mreturn\u001b[39;00m grads\n",
            "\n",
            "File \u001b[0;32m/opt/miniforge3/envs/dxtb/lib/python3.10/site-packages/torch/autograd/__init__.py:303\u001b[0m, in \u001b[0;36mgrad\u001b[0;34m(outputs, inputs, grad_outputs, retain_graph, create_graph, only_inputs, allow_unused, is_grads_batched)\u001b[0m\n",
            "\u001b[1;32m    301\u001b[0m     \u001b[39mreturn\u001b[39;00m _vmap_internals\u001b[39m.\u001b[39m_vmap(vjp, \u001b[39m0\u001b[39m, \u001b[39m0\u001b[39m, allow_none_pass_through\u001b[39m=\u001b[39m\u001b[39mTrue\u001b[39;00m)(grad_outputs_)\n",
            "\u001b[1;32m    302\u001b[0m \u001b[39melse\u001b[39;00m:\n",
            "\u001b[0;32m--> 303\u001b[0m     \u001b[39mreturn\u001b[39;00m Variable\u001b[39m.\u001b[39;49m_execution_engine\u001b[39m.\u001b[39;49mrun_backward(  \u001b[39m# Calls into the C++ engine to run the backward pass\u001b[39;49;00m\n",
            "\u001b[1;32m    304\u001b[0m         t_outputs, grad_outputs_, retain_graph, create_graph, t_inputs,\n",
            "\u001b[1;32m    305\u001b[0m         allow_unused, accumulate_grad\u001b[39m=\u001b[39;49m\u001b[39mFalse\u001b[39;49;00m)\n",
            "\n",
            "File \u001b[0;32m/opt/miniforge3/envs/dxtb/lib/python3.10/site-packages/torch/autograd/function.py:274\u001b[0m, in \u001b[0;36mBackwardCFunction.apply\u001b[0;34m(self, *args)\u001b[0m\n",
            "\u001b[1;32m    270\u001b[0m     \u001b[39mraise\u001b[39;00m \u001b[39mRuntimeError\u001b[39;00m(\u001b[39m\"\u001b[39m\u001b[39mImplementing both \u001b[39m\u001b[39m'\u001b[39m\u001b[39mbackward\u001b[39m\u001b[39m'\u001b[39m\u001b[39m and \u001b[39m\u001b[39m'\u001b[39m\u001b[39mvjp\u001b[39m\u001b[39m'\u001b[39m\u001b[39m for a custom \u001b[39m\u001b[39m\"\u001b[39m\n",
            "\u001b[1;32m    271\u001b[0m                        \u001b[39m\"\u001b[39m\u001b[39mFunction is not allowed. You should only implement one \u001b[39m\u001b[39m\"\u001b[39m\n",
            "\u001b[1;32m    272\u001b[0m                        \u001b[39m\"\u001b[39m\u001b[39mof them.\u001b[39m\u001b[39m\"\u001b[39m)\n",
            "\u001b[1;32m    273\u001b[0m user_fn \u001b[39m=\u001b[39m vjp_fn \u001b[39mif\u001b[39;00m vjp_fn \u001b[39mis\u001b[39;00m \u001b[39mnot\u001b[39;00m Function\u001b[39m.\u001b[39mvjp \u001b[39melse\u001b[39;00m backward_fn\n",
            "\u001b[0;32m--> 274\u001b[0m \u001b[39mreturn\u001b[39;00m user_fn(\u001b[39mself\u001b[39;49m, \u001b[39m*\u001b[39;49margs)\n",
            "\n",
            "File \u001b[0;32m~/Dokumente/xtbML/src/dxtb/exlibs/xitorch/optimize/rootfinder.py:375\u001b[0m, in \u001b[0;36m_RootFinder.backward\u001b[0;34m(ctx, grad_yout)\u001b[0m\n",
            "\u001b[1;32m    373\u001b[0m \u001b[39mwith\u001b[39;00m ctx\u001b[39m.\u001b[39mfcn\u001b[39m.\u001b[39museobjparams(objparams):\n",
            "\u001b[1;32m    374\u001b[0m     jac_dfdy \u001b[39m=\u001b[39m jac(fcn, params\u001b[39m=\u001b[39m(yout, \u001b[39m*\u001b[39mparams), idxs\u001b[39m=\u001b[39m[\u001b[39m0\u001b[39m])[\u001b[39m0\u001b[39m]\n",
            "\u001b[0;32m--> 375\u001b[0m     gyfcn \u001b[39m=\u001b[39m solve(\n",
            "\u001b[1;32m    376\u001b[0m         A\u001b[39m=\u001b[39;49mjac_dfdy\u001b[39m.\u001b[39;49mH,\n",
            "\u001b[1;32m    377\u001b[0m         B\u001b[39m=\u001b[39;49m\u001b[39m-\u001b[39;49mgrad_yout\u001b[39m.\u001b[39;49mreshape(\u001b[39m-\u001b[39;49m\u001b[39m1\u001b[39;49m, \u001b[39m1\u001b[39;49m),\n",
            "\u001b[1;32m    378\u001b[0m         bck_options\u001b[39m=\u001b[39;49mctx\u001b[39m.\u001b[39;49mbck_options,\n",
            "\u001b[1;32m    379\u001b[0m         \u001b[39m*\u001b[39;49m\u001b[39m*\u001b[39;49mctx\u001b[39m.\u001b[39;49mbck_options\n",
            "\u001b[1;32m    380\u001b[0m     )\n",
            "\u001b[1;32m    381\u001b[0m     gyfcn \u001b[39m=\u001b[39m gyfcn\u001b[39m.\u001b[39mreshape(grad_yout\u001b[39m.\u001b[39mshape)\n",
            "\u001b[1;32m    383\u001b[0m     \u001b[39m# get the grad for the params\u001b[39;00m\n",
            "\n",
            "File \u001b[0;32m~/Dokumente/xtbML/src/dxtb/exlibs/xitorch/linalg/solve.py:148\u001b[0m, in \u001b[0;36msolve\u001b[0;34m(A, B, E, M, bck_options, method, **fwd_options)\u001b[0m\n",
            "\u001b[1;32m    146\u001b[0m mparams \u001b[39m=\u001b[39m M\u001b[39m.\u001b[39mgetlinopparams() \u001b[39mif\u001b[39;00m M \u001b[39mis\u001b[39;00m \u001b[39mnot\u001b[39;00m \u001b[39mNone\u001b[39;00m \u001b[39melse\u001b[39;00m []\n",
            "\u001b[1;32m    147\u001b[0m na \u001b[39m=\u001b[39m \u001b[39mlen\u001b[39m(params)\n",
            "\u001b[0;32m--> 148\u001b[0m \u001b[39mreturn\u001b[39;00m solve_torchfcn\u001b[39m.\u001b[39;49mapply(\n",
            "\u001b[1;32m    149\u001b[0m     A, B, E, M, method, fwd_options, bck_options, na, \u001b[39m*\u001b[39;49mparams, \u001b[39m*\u001b[39;49mmparams\n",
            "\u001b[1;32m    150\u001b[0m )\n",
            "\n",
            "File \u001b[0;32m/opt/miniforge3/envs/dxtb/lib/python3.10/site-packages/torch/autograd/function.py:506\u001b[0m, in \u001b[0;36mFunction.apply\u001b[0;34m(cls, *args, **kwargs)\u001b[0m\n",
            "\u001b[1;32m    503\u001b[0m \u001b[39mif\u001b[39;00m \u001b[39mnot\u001b[39;00m torch\u001b[39m.\u001b[39m_C\u001b[39m.\u001b[39m_are_functorch_transforms_active():\n",
            "\u001b[1;32m    504\u001b[0m     \u001b[39m# See NOTE: [functorch vjp and autograd interaction]\u001b[39;00m\n",
            "\u001b[1;32m    505\u001b[0m     args \u001b[39m=\u001b[39m _functorch\u001b[39m.\u001b[39mutils\u001b[39m.\u001b[39munwrap_dead_wrappers(args)\n",
            "\u001b[0;32m--> 506\u001b[0m     \u001b[39mreturn\u001b[39;00m \u001b[39msuper\u001b[39;49m()\u001b[39m.\u001b[39;49mapply(\u001b[39m*\u001b[39;49margs, \u001b[39m*\u001b[39;49m\u001b[39m*\u001b[39;49mkwargs)  \u001b[39m# type: ignore[misc]\u001b[39;00m\n",
            "\u001b[1;32m    508\u001b[0m \u001b[39mif\u001b[39;00m \u001b[39mcls\u001b[39m\u001b[39m.\u001b[39msetup_context \u001b[39m==\u001b[39m _SingleLevelFunction\u001b[39m.\u001b[39msetup_context:\n",
            "\u001b[1;32m    509\u001b[0m     \u001b[39mraise\u001b[39;00m \u001b[39mRuntimeError\u001b[39;00m(\n",
            "\u001b[1;32m    510\u001b[0m         \u001b[39m'\u001b[39m\u001b[39mIn order to use an autograd.Function with functorch transforms \u001b[39m\u001b[39m'\u001b[39m\n",
            "\u001b[1;32m    511\u001b[0m         \u001b[39m'\u001b[39m\u001b[39m(vmap, grad, jvp, jacrev, ...), it must override the setup_context \u001b[39m\u001b[39m'\u001b[39m\n",
            "\u001b[1;32m    512\u001b[0m         \u001b[39m'\u001b[39m\u001b[39mstaticmethod. For more details, please see \u001b[39m\u001b[39m'\u001b[39m\n",
            "\u001b[1;32m    513\u001b[0m         \u001b[39m'\u001b[39m\u001b[39mhttps://pytorch.org/docs/master/notes/extending.func.html\u001b[39m\u001b[39m'\u001b[39m)\n",
            "\n",
            "File \u001b[0;32m~/Dokumente/xtbML/src/dxtb/exlibs/xitorch/linalg/solve.py:186\u001b[0m, in \u001b[0;36msolve_torchfcn.forward\u001b[0;34m(ctx, A, B, E, M, method, fwd_options, bck_options, na, *all_params)\u001b[0m\n",
            "\u001b[1;32m    177\u001b[0m         methods \u001b[39m=\u001b[39m {\n",
            "\u001b[1;32m    178\u001b[0m             \u001b[39m\"\u001b[39m\u001b[39mcustom_exactsolve\u001b[39m\u001b[39m\"\u001b[39m: custom_exactsolve,\n",
            "\u001b[1;32m    179\u001b[0m             \u001b[39m\"\u001b[39m\u001b[39mscipy_gmres\u001b[39m\u001b[39m\"\u001b[39m: wrap_gmres,\n",
            "\u001b[0;32m   (...)\u001b[0m\n",
            "\u001b[1;32m    183\u001b[0m             \u001b[39m\"\u001b[39m\u001b[39mgmres\u001b[39m\u001b[39m\"\u001b[39m: gmres,\n",
            "\u001b[1;32m    184\u001b[0m         }\n",
            "\u001b[1;32m    185\u001b[0m         method_fcn \u001b[39m=\u001b[39m get_method(\u001b[39m\"\u001b[39m\u001b[39msolve\u001b[39m\u001b[39m\"\u001b[39m, methods, method)\n",
            "\u001b[0;32m--> 186\u001b[0m         x \u001b[39m=\u001b[39m method_fcn(A, B, E, M, \u001b[39m*\u001b[39;49m\u001b[39m*\u001b[39;49mconfig)\n",
            "\u001b[1;32m    188\u001b[0m ctx\u001b[39m.\u001b[39me_is_none \u001b[39m=\u001b[39m E \u001b[39mis\u001b[39;00m \u001b[39mNone\u001b[39;00m\n",
            "\u001b[1;32m    189\u001b[0m ctx\u001b[39m.\u001b[39mA \u001b[39m=\u001b[39m A\n",
            "\n",
            "File \u001b[0;32m~/Dokumente/xtbML/src/dxtb/exlibs/xitorch/_impls/linalg/solve.py:283\u001b[0m, in \u001b[0;36mbicgstab\u001b[0;34m(A, B, E, M, posdef, precond_l, precond_r, max_niter, rtol, atol, eps, verbose, resid_calc_every, **unused)\u001b[0m\n",
            "\u001b[1;32m    280\u001b[0m x0shape \u001b[39m=\u001b[39m (ncols, \u001b[39m*\u001b[39mbatchdims, nr, \u001b[39m1\u001b[39m) \u001b[39mif\u001b[39;00m col_swapped \u001b[39melse\u001b[39;00m (\u001b[39m*\u001b[39mbatchdims, nr, ncols)\n",
            "\u001b[1;32m    281\u001b[0m xk \u001b[39m=\u001b[39m torch\u001b[39m.\u001b[39mzeros(x0shape, dtype\u001b[39m=\u001b[39mA\u001b[39m.\u001b[39mdtype, device\u001b[39m=\u001b[39mA\u001b[39m.\u001b[39mdevice)\n",
            "\u001b[0;32m--> 283\u001b[0m rk \u001b[39m=\u001b[39m B2 \u001b[39m-\u001b[39m A_fcn(xk)\n",
            "\u001b[1;32m    284\u001b[0m r0hat \u001b[39m=\u001b[39m rk\n",
            "\u001b[1;32m    285\u001b[0m rho_k \u001b[39m=\u001b[39m _dot(r0hat, rk)\n",
            "\n",
            "File \u001b[0;32m~/Dokumente/xtbML/src/dxtb/exlibs/xitorch/_impls/linalg/solve.py:624\u001b[0m, in \u001b[0;36m_setup_linear_problem.<locals>.<lambda>\u001b[0;34m(x)\u001b[0m\n",
            "\u001b[1;32m    608\u001b[0m \u001b[39mdef\u001b[39;00m \u001b[39m_setup_linear_problem\u001b[39m(\n",
            "\u001b[1;32m    609\u001b[0m     A: LinearOperator,\n",
            "\u001b[1;32m    610\u001b[0m     B: torch\u001b[39m.\u001b[39mTensor,\n",
            "\u001b[0;32m   (...)\u001b[0m\n",
            "\u001b[1;32m    621\u001b[0m ]:\n",
            "\u001b[1;32m    622\u001b[0m     \u001b[39m# get the linear operator (including the MXE part)\u001b[39;00m\n",
            "\u001b[1;32m    623\u001b[0m     \u001b[39mif\u001b[39;00m E \u001b[39mis\u001b[39;00m \u001b[39mNone\u001b[39;00m:\n",
            "\u001b[0;32m--> 624\u001b[0m         A_fcn \u001b[39m=\u001b[39m \u001b[39mlambda\u001b[39;00m x: A\u001b[39m.\u001b[39;49mmm(x)\n",
            "\u001b[1;32m    625\u001b[0m         AT_fcn \u001b[39m=\u001b[39m \u001b[39mlambda\u001b[39;00m x: A\u001b[39m.\u001b[39mrmm(x)\n",
            "\u001b[1;32m    626\u001b[0m         B_new \u001b[39m=\u001b[39m B\n",
            "\n",
            "File \u001b[0;32m~/Dokumente/xtbML/src/dxtb/exlibs/xitorch/_core/linop.py:299\u001b[0m, in \u001b[0;36mLinearOperator.mm\u001b[0;34m(self, x)\u001b[0m\n",
            "\u001b[1;32m    296\u001b[0m xnew \u001b[39m=\u001b[39m x1\u001b[39m.\u001b[39mtranspose(\u001b[39m0\u001b[39m, \u001b[39m-\u001b[39m\u001b[39m1\u001b[39m)\u001b[39m.\u001b[39msqueeze(\u001b[39m-\u001b[39m\u001b[39m1\u001b[39m)  \u001b[39m# (r,...,q)\u001b[39;00m\n",
            "\u001b[1;32m    298\u001b[0m \u001b[39m# apply batched mv and restore the initial shape\u001b[39;00m\n",
            "\u001b[0;32m--> 299\u001b[0m ynew \u001b[39m=\u001b[39m \u001b[39mself\u001b[39;49m\u001b[39m.\u001b[39;49m_mv(xnew)  \u001b[39m# (r,...,p)\u001b[39;00m\n",
            "\u001b[1;32m    300\u001b[0m y \u001b[39m=\u001b[39m ynew\u001b[39m.\u001b[39munsqueeze(\u001b[39m-\u001b[39m\u001b[39m1\u001b[39m)\u001b[39m.\u001b[39mtranspose(\u001b[39m0\u001b[39m, \u001b[39m-\u001b[39m\u001b[39m1\u001b[39m)\u001b[39m.\u001b[39msqueeze(\u001b[39m0\u001b[39m)  \u001b[39m# (...,p,r)\u001b[39;00m\n",
            "\u001b[1;32m    301\u001b[0m \u001b[39mreturn\u001b[39;00m y\n",
            "\n",
            "File \u001b[0;32m~/Dokumente/xtbML/src/dxtb/exlibs/xitorch/_core/linop.py:636\u001b[0m, in \u001b[0;36mAdjointLinearOperator._mv\u001b[0;34m(self, x)\u001b[0m\n",
            "\u001b[1;32m    634\u001b[0m \u001b[39mif\u001b[39;00m \u001b[39mnot\u001b[39;00m \u001b[39mself\u001b[39m\u001b[39m.\u001b[39mobj\u001b[39m.\u001b[39mis_rmv_implemented:\n",
            "\u001b[1;32m    635\u001b[0m     \u001b[39mraise\u001b[39;00m \u001b[39mRuntimeError\u001b[39;00m(\u001b[39m\"\u001b[39m\u001b[39mThe ._rmv of must be implemented to call .H.mv()\u001b[39m\u001b[39m\"\u001b[39m)\n",
            "\u001b[0;32m--> 636\u001b[0m \u001b[39mreturn\u001b[39;00m \u001b[39mself\u001b[39;49m\u001b[39m.\u001b[39;49mobj\u001b[39m.\u001b[39;49m_rmv(x)\n",
            "\n",
            "File \u001b[0;32m~/Dokumente/xtbML/src/dxtb/exlibs/xitorch/grad/jachess.py:228\u001b[0m, in \u001b[0;36m_Jac._rmv\u001b[0;34m(self, gout)\u001b[0m\n",
            "\u001b[1;32m    226\u001b[0m dfdy_list \u001b[39m=\u001b[39m []\n",
            "\u001b[1;32m    227\u001b[0m \u001b[39mfor\u001b[39;00m i \u001b[39min\u001b[39;00m \u001b[39mrange\u001b[39m(nbatch):\n",
            "\u001b[0;32m--> 228\u001b[0m     (one_dfdy,) \u001b[39m=\u001b[39m torch\u001b[39m.\u001b[39;49mautograd\u001b[39m.\u001b[39;49mgrad(\n",
            "\u001b[1;32m    229\u001b[0m         yout,\n",
            "\u001b[1;32m    230\u001b[0m         (yparam,),\n",
            "\u001b[1;32m    231\u001b[0m         grad_outputs\u001b[39m=\u001b[39;49mgout1[i]\u001b[39m.\u001b[39;49mreshape(\u001b[39mself\u001b[39;49m\u001b[39m.\u001b[39;49moutshape),\n",
            "\u001b[1;32m    232\u001b[0m         retain_graph\u001b[39m=\u001b[39;49m\u001b[39mTrue\u001b[39;49;00m,\n",
            "\u001b[1;32m    233\u001b[0m         create_graph\u001b[39m=\u001b[39;49mtorch\u001b[39m.\u001b[39;49mis_grad_enabled(),\n",
            "\u001b[1;32m    234\u001b[0m     )  \u001b[39m# (*nin)\u001b[39;00m\n",
            "\u001b[1;32m    235\u001b[0m     dfdy_list\u001b[39m.\u001b[39mappend(one_dfdy\u001b[39m.\u001b[39munsqueeze(\u001b[39m0\u001b[39m))\n",
            "\u001b[1;32m    236\u001b[0m dfdy \u001b[39m=\u001b[39m torch\u001b[39m.\u001b[39mcat(dfdy_list, dim\u001b[39m=\u001b[39m\u001b[39m0\u001b[39m)  \u001b[39m# (nbatch, *nin)\u001b[39;00m\n",
            "\n",
            "File \u001b[0;32m/opt/miniforge3/envs/dxtb/lib/python3.10/site-packages/torch/autograd/__init__.py:303\u001b[0m, in \u001b[0;36mgrad\u001b[0;34m(outputs, inputs, grad_outputs, retain_graph, create_graph, only_inputs, allow_unused, is_grads_batched)\u001b[0m\n",
            "\u001b[1;32m    301\u001b[0m     \u001b[39mreturn\u001b[39;00m _vmap_internals\u001b[39m.\u001b[39m_vmap(vjp, \u001b[39m0\u001b[39m, \u001b[39m0\u001b[39m, allow_none_pass_through\u001b[39m=\u001b[39m\u001b[39mTrue\u001b[39;00m)(grad_outputs_)\n",
            "\u001b[1;32m    302\u001b[0m \u001b[39melse\u001b[39;00m:\n",
            "\u001b[0;32m--> 303\u001b[0m     \u001b[39mreturn\u001b[39;00m Variable\u001b[39m.\u001b[39;49m_execution_engine\u001b[39m.\u001b[39;49mrun_backward(  \u001b[39m# Calls into the C++ engine to run the backward pass\u001b[39;49;00m\n",
            "\u001b[1;32m    304\u001b[0m         t_outputs, grad_outputs_, retain_graph, create_graph, t_inputs,\n",
            "\u001b[1;32m    305\u001b[0m         allow_unused, accumulate_grad\u001b[39m=\u001b[39;49m\u001b[39mFalse\u001b[39;49;00m)\n",
            "\n",
            "File \u001b[0;32m/opt/miniforge3/envs/dxtb/lib/python3.10/site-packages/torch/autograd/function.py:274\u001b[0m, in \u001b[0;36mBackwardCFunction.apply\u001b[0;34m(self, *args)\u001b[0m\n",
            "\u001b[1;32m    270\u001b[0m     \u001b[39mraise\u001b[39;00m \u001b[39mRuntimeError\u001b[39;00m(\u001b[39m\"\u001b[39m\u001b[39mImplementing both \u001b[39m\u001b[39m'\u001b[39m\u001b[39mbackward\u001b[39m\u001b[39m'\u001b[39m\u001b[39m and \u001b[39m\u001b[39m'\u001b[39m\u001b[39mvjp\u001b[39m\u001b[39m'\u001b[39m\u001b[39m for a custom \u001b[39m\u001b[39m\"\u001b[39m\n",
            "\u001b[1;32m    271\u001b[0m                        \u001b[39m\"\u001b[39m\u001b[39mFunction is not allowed. You should only implement one \u001b[39m\u001b[39m\"\u001b[39m\n",
            "\u001b[1;32m    272\u001b[0m                        \u001b[39m\"\u001b[39m\u001b[39mof them.\u001b[39m\u001b[39m\"\u001b[39m)\n",
            "\u001b[1;32m    273\u001b[0m user_fn \u001b[39m=\u001b[39m vjp_fn \u001b[39mif\u001b[39;00m vjp_fn \u001b[39mis\u001b[39;00m \u001b[39mnot\u001b[39;00m Function\u001b[39m.\u001b[39mvjp \u001b[39melse\u001b[39;00m backward_fn\n",
            "\u001b[0;32m--> 274\u001b[0m \u001b[39mreturn\u001b[39;00m user_fn(\u001b[39mself\u001b[39;49m, \u001b[39m*\u001b[39;49margs)\n",
            "\n",
            "File \u001b[0;32m~/Dokumente/xtbML/src/dxtb/exlibs/xitorch/_impls/linalg/symeig.py:103\u001b[0m, in \u001b[0;36mdegen_symeig.backward\u001b[0;34m(ctx, grad_eival, grad_eivec)\u001b[0m\n",
            "\u001b[1;32m    101\u001b[0m \u001b[39m# calculate the contribution from the eival\u001b[39;00m\n",
            "\u001b[1;32m    102\u001b[0m \u001b[39mif\u001b[39;00m grad_eival \u001b[39mis\u001b[39;00m \u001b[39mnot\u001b[39;00m \u001b[39mNone\u001b[39;00m:\n",
            "\u001b[0;32m--> 103\u001b[0m     result \u001b[39m+\u001b[39m\u001b[39m=\u001b[39m torch\u001b[39m.\u001b[39;49mmatmul(eivec, grad_eival\u001b[39m.\u001b[39;49munsqueeze(\u001b[39m-\u001b[39;49m\u001b[39m1\u001b[39;49m) \u001b[39m*\u001b[39;49m eivect)\n",
            "\u001b[1;32m    105\u001b[0m \u001b[39m# symmetrize to reduce numerical instability\u001b[39;00m\n",
            "\u001b[1;32m    106\u001b[0m result \u001b[39m=\u001b[39m (result \u001b[39m+\u001b[39m result\u001b[39m.\u001b[39mtranspose(\u001b[39m-\u001b[39m\u001b[39m2\u001b[39m, \u001b[39m-\u001b[39m\u001b[39m1\u001b[39m)\u001b[39m.\u001b[39mconj()) \u001b[39m*\u001b[39m \u001b[39m0.5\u001b[39m\n",
            "\n",
            "\u001b[0;31mKeyboardInterrupt\u001b[0m: "
          ]
        }
      ],
      "source": [
        "positions = positions.detach().clone().requires_grad_(True)\n",
        "time_operation(lambda: eval(calc_lc, numbers, positions, charge), 3)"
      ]
    },
    {
      "cell_type": "markdown",
      "metadata": {},
      "source": [
        "# PyTorch"
      ]
    },
    {
      "cell_type": "code",
      "execution_count": null,
      "metadata": {},
      "outputs": [],
      "source": [
        "opts = {\"int_driver\": \"pytorch\", \"verbosity\": 0}\n",
        "calc_py = dxtb.Calculator(numbers, par, opts=opts)"
      ]
    },
    {
      "cell_type": "markdown",
      "metadata": {},
      "source": [
        "### Energy"
      ]
    },
    {
      "cell_type": "code",
      "execution_count": null,
      "metadata": {},
      "outputs": [
        {
          "name": "stdout",
          "output_type": "stream",
          "text": [
            "2.1724 2.0728 2.0650 2.0600 2.1237 2.0597 2.0706 2.0717 2.0759 2.1443 \n",
            "Average (10): 2.0916 sec\n"
          ]
        }
      ],
      "source": [
        "positions = positions.detach().clone().requires_grad_(True)\n",
        "time_operation(lambda: eval(calc_py, numbers, positions, charge), 0)"
      ]
    },
    {
      "cell_type": "markdown",
      "metadata": {},
      "source": [
        "### 1st Derivative"
      ]
    },
    {
      "cell_type": "code",
      "execution_count": null,
      "id": "3f164afe",
      "metadata": {},
      "outputs": [
        {
          "name": "stdout",
          "output_type": "stream",
          "text": [
            "2.6598 2.6136 2.5689 2.5530 2.5907 2.6402 2.6323 2.6137 2.6947 2.5692 \n",
            "Average (10): 2.6136 sec\n"
          ]
        }
      ],
      "source": [
        "positions = positions.detach().clone().requires_grad_(True)\n",
        "time_operation(lambda: eval(calc_py, numbers, positions, charge), 1)"
      ]
    },
    {
      "cell_type": "markdown",
      "metadata": {},
      "source": [
        "### 2nd Derivative"
      ]
    },
    {
      "cell_type": "code",
      "execution_count": null,
      "metadata": {},
      "outputs": [
        {
          "name": "stdout",
          "output_type": "stream",
          "text": [
            "3.3231 3.4583 3.4005 3.3169 3.2235 3.2767 3.3835 3.2916 3.3325 3.3025 \n",
            "Average (10): 3.3309 sec\n"
          ]
        }
      ],
      "source": [
        "positions = positions.detach().clone().requires_grad_(True)\n",
        "time_operation(lambda: eval(calc_py, numbers, positions, charge), 2)"
      ]
    },
    {
      "cell_type": "markdown",
      "metadata": {},
      "source": [
        "### 3rd Derivative"
      ]
    },
    {
      "cell_type": "code",
      "execution_count": null,
      "metadata": {},
      "outputs": [
        {
          "ename": "KeyboardInterrupt",
          "evalue": "",
          "output_type": "error",
          "traceback": [
            "\u001b[0;31m---------------------------------------------------------------------------\u001b[0m",
            "\u001b[0;31mKeyboardInterrupt\u001b[0m                         Traceback (most recent call last)",
            "\u001b[1;32m/home/friede/Dokumente/xtbML/examples/singlepoint.ipynb Cell 29\u001b[0m line \u001b[0;36m2\n\u001b[1;32m      <a href='vscode-notebook-cell:/home/friede/Dokumente/xtbML/examples/singlepoint.ipynb#X54sZmlsZQ%3D%3D?line=0'>1</a>\u001b[0m positions \u001b[39m=\u001b[39m positions\u001b[39m.\u001b[39mdetach()\u001b[39m.\u001b[39mclone()\u001b[39m.\u001b[39mrequires_grad_(\u001b[39mTrue\u001b[39;00m)\n\u001b[0;32m----> <a href='vscode-notebook-cell:/home/friede/Dokumente/xtbML/examples/singlepoint.ipynb#X54sZmlsZQ%3D%3D?line=1'>2</a>\u001b[0m time_operation(\u001b[39mlambda\u001b[39;49;00m: \u001b[39meval\u001b[39;49m(calc_py, numbers, positions, charge), \u001b[39m3\u001b[39;49m)\n",
            "\u001b[1;32m/home/friede/Dokumente/xtbML/examples/singlepoint.ipynb Cell 29\u001b[0m line \u001b[0;36m2\n\u001b[1;32m     <a href='vscode-notebook-cell:/home/friede/Dokumente/xtbML/examples/singlepoint.ipynb#X54sZmlsZQ%3D%3D?line=23'>24</a>\u001b[0m ts \u001b[39m=\u001b[39m time\u001b[39m.\u001b[39mperf_counter()\n\u001b[1;32m     <a href='vscode-notebook-cell:/home/friede/Dokumente/xtbML/examples/singlepoint.ipynb#X54sZmlsZQ%3D%3D?line=24'>25</a>\u001b[0m s \u001b[39m=\u001b[39m operation()\u001b[39m.\u001b[39msum()  \u001b[39m# Execute the operation passed as an argument\u001b[39;00m\n\u001b[0;32m---> <a href='vscode-notebook-cell:/home/friede/Dokumente/xtbML/examples/singlepoint.ipynb#X54sZmlsZQ%3D%3D?line=25'>26</a>\u001b[0m ds \u001b[39m=\u001b[39m nth_derivative(s, positions, n\u001b[39m=\u001b[39;49mn)\n\u001b[1;32m     <a href='vscode-notebook-cell:/home/friede/Dokumente/xtbML/examples/singlepoint.ipynb#X54sZmlsZQ%3D%3D?line=26'>27</a>\u001b[0m te \u001b[39m=\u001b[39m time\u001b[39m.\u001b[39mperf_counter()\n\u001b[1;32m     <a href='vscode-notebook-cell:/home/friede/Dokumente/xtbML/examples/singlepoint.ipynb#X54sZmlsZQ%3D%3D?line=27'>28</a>\u001b[0m times\u001b[39m.\u001b[39mappend(te \u001b[39m-\u001b[39m ts)\n",
            "\u001b[1;32m/home/friede/Dokumente/xtbML/examples/singlepoint.ipynb Cell 29\u001b[0m line \u001b[0;36m1\n\u001b[1;32m      <a href='vscode-notebook-cell:/home/friede/Dokumente/xtbML/examples/singlepoint.ipynb#X54sZmlsZQ%3D%3D?line=6'>7</a>\u001b[0m create_graph \u001b[39m=\u001b[39m \u001b[39mFalse\u001b[39;00m \u001b[39mif\u001b[39;00m n \u001b[39m==\u001b[39m \u001b[39m1\u001b[39m \u001b[39melse\u001b[39;00m \u001b[39mTrue\u001b[39;00m\n\u001b[1;32m      <a href='vscode-notebook-cell:/home/friede/Dokumente/xtbML/examples/singlepoint.ipynb#X54sZmlsZQ%3D%3D?line=8'>9</a>\u001b[0m \u001b[39mfor\u001b[39;00m _ \u001b[39min\u001b[39;00m \u001b[39mrange\u001b[39m(n):\n\u001b[0;32m---> <a href='vscode-notebook-cell:/home/friede/Dokumente/xtbML/examples/singlepoint.ipynb#X54sZmlsZQ%3D%3D?line=9'>10</a>\u001b[0m     grads, \u001b[39m=\u001b[39m torch\u001b[39m.\u001b[39;49mautograd\u001b[39m.\u001b[39;49mgrad(f, wrt, create_graph\u001b[39m=\u001b[39;49mcreate_graph)\n\u001b[1;32m     <a href='vscode-notebook-cell:/home/friede/Dokumente/xtbML/examples/singlepoint.ipynb#X54sZmlsZQ%3D%3D?line=10'>11</a>\u001b[0m     f \u001b[39m=\u001b[39m grads\u001b[39m.\u001b[39msum()\n\u001b[1;32m     <a href='vscode-notebook-cell:/home/friede/Dokumente/xtbML/examples/singlepoint.ipynb#X54sZmlsZQ%3D%3D?line=12'>13</a>\u001b[0m \u001b[39mreturn\u001b[39;00m grads\n",
            "File \u001b[0;32m/opt/miniforge3/envs/dxtb/lib/python3.10/site-packages/torch/autograd/__init__.py:303\u001b[0m, in \u001b[0;36mgrad\u001b[0;34m(outputs, inputs, grad_outputs, retain_graph, create_graph, only_inputs, allow_unused, is_grads_batched)\u001b[0m\n\u001b[1;32m    301\u001b[0m     \u001b[39mreturn\u001b[39;00m _vmap_internals\u001b[39m.\u001b[39m_vmap(vjp, \u001b[39m0\u001b[39m, \u001b[39m0\u001b[39m, allow_none_pass_through\u001b[39m=\u001b[39m\u001b[39mTrue\u001b[39;00m)(grad_outputs_)\n\u001b[1;32m    302\u001b[0m \u001b[39melse\u001b[39;00m:\n\u001b[0;32m--> 303\u001b[0m     \u001b[39mreturn\u001b[39;00m Variable\u001b[39m.\u001b[39;49m_execution_engine\u001b[39m.\u001b[39;49mrun_backward(  \u001b[39m# Calls into the C++ engine to run the backward pass\u001b[39;49;00m\n\u001b[1;32m    304\u001b[0m         t_outputs, grad_outputs_, retain_graph, create_graph, t_inputs,\n\u001b[1;32m    305\u001b[0m         allow_unused, accumulate_grad\u001b[39m=\u001b[39;49m\u001b[39mFalse\u001b[39;49;00m)\n",
            "File \u001b[0;32m/opt/miniforge3/envs/dxtb/lib/python3.10/site-packages/torch/autograd/function.py:274\u001b[0m, in \u001b[0;36mBackwardCFunction.apply\u001b[0;34m(self, *args)\u001b[0m\n\u001b[1;32m    270\u001b[0m     \u001b[39mraise\u001b[39;00m \u001b[39mRuntimeError\u001b[39;00m(\u001b[39m\"\u001b[39m\u001b[39mImplementing both \u001b[39m\u001b[39m'\u001b[39m\u001b[39mbackward\u001b[39m\u001b[39m'\u001b[39m\u001b[39m and \u001b[39m\u001b[39m'\u001b[39m\u001b[39mvjp\u001b[39m\u001b[39m'\u001b[39m\u001b[39m for a custom \u001b[39m\u001b[39m\"\u001b[39m\n\u001b[1;32m    271\u001b[0m                        \u001b[39m\"\u001b[39m\u001b[39mFunction is not allowed. You should only implement one \u001b[39m\u001b[39m\"\u001b[39m\n\u001b[1;32m    272\u001b[0m                        \u001b[39m\"\u001b[39m\u001b[39mof them.\u001b[39m\u001b[39m\"\u001b[39m)\n\u001b[1;32m    273\u001b[0m user_fn \u001b[39m=\u001b[39m vjp_fn \u001b[39mif\u001b[39;00m vjp_fn \u001b[39mis\u001b[39;00m \u001b[39mnot\u001b[39;00m Function\u001b[39m.\u001b[39mvjp \u001b[39melse\u001b[39;00m backward_fn\n\u001b[0;32m--> 274\u001b[0m \u001b[39mreturn\u001b[39;00m user_fn(\u001b[39mself\u001b[39;49m, \u001b[39m*\u001b[39;49margs)\n",
            "File \u001b[0;32m~/Dokumente/xtbML/src/dxtb/exlibs/xitorch/optimize/rootfinder.py:375\u001b[0m, in \u001b[0;36m_RootFinder.backward\u001b[0;34m(ctx, grad_yout)\u001b[0m\n\u001b[1;32m    373\u001b[0m \u001b[39mwith\u001b[39;00m ctx\u001b[39m.\u001b[39mfcn\u001b[39m.\u001b[39museobjparams(objparams):\n\u001b[1;32m    374\u001b[0m     jac_dfdy \u001b[39m=\u001b[39m jac(fcn, params\u001b[39m=\u001b[39m(yout, \u001b[39m*\u001b[39mparams), idxs\u001b[39m=\u001b[39m[\u001b[39m0\u001b[39m])[\u001b[39m0\u001b[39m]\n\u001b[0;32m--> 375\u001b[0m     gyfcn \u001b[39m=\u001b[39m solve(\n\u001b[1;32m    376\u001b[0m         A\u001b[39m=\u001b[39;49mjac_dfdy\u001b[39m.\u001b[39;49mH,\n\u001b[1;32m    377\u001b[0m         B\u001b[39m=\u001b[39;49m\u001b[39m-\u001b[39;49mgrad_yout\u001b[39m.\u001b[39;49mreshape(\u001b[39m-\u001b[39;49m\u001b[39m1\u001b[39;49m, \u001b[39m1\u001b[39;49m),\n\u001b[1;32m    378\u001b[0m         bck_options\u001b[39m=\u001b[39;49mctx\u001b[39m.\u001b[39;49mbck_options,\n\u001b[1;32m    379\u001b[0m         \u001b[39m*\u001b[39;49m\u001b[39m*\u001b[39;49mctx\u001b[39m.\u001b[39;49mbck_options\n\u001b[1;32m    380\u001b[0m     )\n\u001b[1;32m    381\u001b[0m     gyfcn \u001b[39m=\u001b[39m gyfcn\u001b[39m.\u001b[39mreshape(grad_yout\u001b[39m.\u001b[39mshape)\n\u001b[1;32m    383\u001b[0m     \u001b[39m# get the grad for the params\u001b[39;00m\n",
            "File \u001b[0;32m~/Dokumente/xtbML/src/dxtb/exlibs/xitorch/linalg/solve.py:148\u001b[0m, in \u001b[0;36msolve\u001b[0;34m(A, B, E, M, bck_options, method, **fwd_options)\u001b[0m\n\u001b[1;32m    146\u001b[0m mparams \u001b[39m=\u001b[39m M\u001b[39m.\u001b[39mgetlinopparams() \u001b[39mif\u001b[39;00m M \u001b[39mis\u001b[39;00m \u001b[39mnot\u001b[39;00m \u001b[39mNone\u001b[39;00m \u001b[39melse\u001b[39;00m []\n\u001b[1;32m    147\u001b[0m na \u001b[39m=\u001b[39m \u001b[39mlen\u001b[39m(params)\n\u001b[0;32m--> 148\u001b[0m \u001b[39mreturn\u001b[39;00m solve_torchfcn\u001b[39m.\u001b[39;49mapply(\n\u001b[1;32m    149\u001b[0m     A, B, E, M, method, fwd_options, bck_options, na, \u001b[39m*\u001b[39;49mparams, \u001b[39m*\u001b[39;49mmparams\n\u001b[1;32m    150\u001b[0m )\n",
            "File \u001b[0;32m/opt/miniforge3/envs/dxtb/lib/python3.10/site-packages/torch/autograd/function.py:506\u001b[0m, in \u001b[0;36mFunction.apply\u001b[0;34m(cls, *args, **kwargs)\u001b[0m\n\u001b[1;32m    503\u001b[0m \u001b[39mif\u001b[39;00m \u001b[39mnot\u001b[39;00m torch\u001b[39m.\u001b[39m_C\u001b[39m.\u001b[39m_are_functorch_transforms_active():\n\u001b[1;32m    504\u001b[0m     \u001b[39m# See NOTE: [functorch vjp and autograd interaction]\u001b[39;00m\n\u001b[1;32m    505\u001b[0m     args \u001b[39m=\u001b[39m _functorch\u001b[39m.\u001b[39mutils\u001b[39m.\u001b[39munwrap_dead_wrappers(args)\n\u001b[0;32m--> 506\u001b[0m     \u001b[39mreturn\u001b[39;00m \u001b[39msuper\u001b[39;49m()\u001b[39m.\u001b[39;49mapply(\u001b[39m*\u001b[39;49margs, \u001b[39m*\u001b[39;49m\u001b[39m*\u001b[39;49mkwargs)  \u001b[39m# type: ignore[misc]\u001b[39;00m\n\u001b[1;32m    508\u001b[0m \u001b[39mif\u001b[39;00m \u001b[39mcls\u001b[39m\u001b[39m.\u001b[39msetup_context \u001b[39m==\u001b[39m _SingleLevelFunction\u001b[39m.\u001b[39msetup_context:\n\u001b[1;32m    509\u001b[0m     \u001b[39mraise\u001b[39;00m \u001b[39mRuntimeError\u001b[39;00m(\n\u001b[1;32m    510\u001b[0m         \u001b[39m'\u001b[39m\u001b[39mIn order to use an autograd.Function with functorch transforms \u001b[39m\u001b[39m'\u001b[39m\n\u001b[1;32m    511\u001b[0m         \u001b[39m'\u001b[39m\u001b[39m(vmap, grad, jvp, jacrev, ...), it must override the setup_context \u001b[39m\u001b[39m'\u001b[39m\n\u001b[1;32m    512\u001b[0m         \u001b[39m'\u001b[39m\u001b[39mstaticmethod. For more details, please see \u001b[39m\u001b[39m'\u001b[39m\n\u001b[1;32m    513\u001b[0m         \u001b[39m'\u001b[39m\u001b[39mhttps://pytorch.org/docs/master/notes/extending.func.html\u001b[39m\u001b[39m'\u001b[39m)\n",
            "File \u001b[0;32m~/Dokumente/xtbML/src/dxtb/exlibs/xitorch/linalg/solve.py:186\u001b[0m, in \u001b[0;36msolve_torchfcn.forward\u001b[0;34m(ctx, A, B, E, M, method, fwd_options, bck_options, na, *all_params)\u001b[0m\n\u001b[1;32m    177\u001b[0m         methods \u001b[39m=\u001b[39m {\n\u001b[1;32m    178\u001b[0m             \u001b[39m\"\u001b[39m\u001b[39mcustom_exactsolve\u001b[39m\u001b[39m\"\u001b[39m: custom_exactsolve,\n\u001b[1;32m    179\u001b[0m             \u001b[39m\"\u001b[39m\u001b[39mscipy_gmres\u001b[39m\u001b[39m\"\u001b[39m: wrap_gmres,\n\u001b[0;32m   (...)\u001b[0m\n\u001b[1;32m    183\u001b[0m             \u001b[39m\"\u001b[39m\u001b[39mgmres\u001b[39m\u001b[39m\"\u001b[39m: gmres,\n\u001b[1;32m    184\u001b[0m         }\n\u001b[1;32m    185\u001b[0m         method_fcn \u001b[39m=\u001b[39m get_method(\u001b[39m\"\u001b[39m\u001b[39msolve\u001b[39m\u001b[39m\"\u001b[39m, methods, method)\n\u001b[0;32m--> 186\u001b[0m         x \u001b[39m=\u001b[39m method_fcn(A, B, E, M, \u001b[39m*\u001b[39;49m\u001b[39m*\u001b[39;49mconfig)\n\u001b[1;32m    188\u001b[0m ctx\u001b[39m.\u001b[39me_is_none \u001b[39m=\u001b[39m E \u001b[39mis\u001b[39;00m \u001b[39mNone\u001b[39;00m\n\u001b[1;32m    189\u001b[0m ctx\u001b[39m.\u001b[39mA \u001b[39m=\u001b[39m A\n",
            "File \u001b[0;32m~/Dokumente/xtbML/src/dxtb/exlibs/xitorch/_impls/linalg/solve.py:283\u001b[0m, in \u001b[0;36mbicgstab\u001b[0;34m(A, B, E, M, posdef, precond_l, precond_r, max_niter, rtol, atol, eps, verbose, resid_calc_every, **unused)\u001b[0m\n\u001b[1;32m    280\u001b[0m x0shape \u001b[39m=\u001b[39m (ncols, \u001b[39m*\u001b[39mbatchdims, nr, \u001b[39m1\u001b[39m) \u001b[39mif\u001b[39;00m col_swapped \u001b[39melse\u001b[39;00m (\u001b[39m*\u001b[39mbatchdims, nr, ncols)\n\u001b[1;32m    281\u001b[0m xk \u001b[39m=\u001b[39m torch\u001b[39m.\u001b[39mzeros(x0shape, dtype\u001b[39m=\u001b[39mA\u001b[39m.\u001b[39mdtype, device\u001b[39m=\u001b[39mA\u001b[39m.\u001b[39mdevice)\n\u001b[0;32m--> 283\u001b[0m rk \u001b[39m=\u001b[39m B2 \u001b[39m-\u001b[39m A_fcn(xk)\n\u001b[1;32m    284\u001b[0m r0hat \u001b[39m=\u001b[39m rk\n\u001b[1;32m    285\u001b[0m rho_k \u001b[39m=\u001b[39m _dot(r0hat, rk)\n",
            "File \u001b[0;32m~/Dokumente/xtbML/src/dxtb/exlibs/xitorch/_impls/linalg/solve.py:624\u001b[0m, in \u001b[0;36m_setup_linear_problem.<locals>.<lambda>\u001b[0;34m(x)\u001b[0m\n\u001b[1;32m    608\u001b[0m \u001b[39mdef\u001b[39;00m \u001b[39m_setup_linear_problem\u001b[39m(\n\u001b[1;32m    609\u001b[0m     A: LinearOperator,\n\u001b[1;32m    610\u001b[0m     B: torch\u001b[39m.\u001b[39mTensor,\n\u001b[0;32m   (...)\u001b[0m\n\u001b[1;32m    621\u001b[0m ]:\n\u001b[1;32m    622\u001b[0m     \u001b[39m# get the linear operator (including the MXE part)\u001b[39;00m\n\u001b[1;32m    623\u001b[0m     \u001b[39mif\u001b[39;00m E \u001b[39mis\u001b[39;00m \u001b[39mNone\u001b[39;00m:\n\u001b[0;32m--> 624\u001b[0m         A_fcn \u001b[39m=\u001b[39m \u001b[39mlambda\u001b[39;00m x: A\u001b[39m.\u001b[39;49mmm(x)\n\u001b[1;32m    625\u001b[0m         AT_fcn \u001b[39m=\u001b[39m \u001b[39mlambda\u001b[39;00m x: A\u001b[39m.\u001b[39mrmm(x)\n\u001b[1;32m    626\u001b[0m         B_new \u001b[39m=\u001b[39m B\n",
            "File \u001b[0;32m~/Dokumente/xtbML/src/dxtb/exlibs/xitorch/_core/linop.py:299\u001b[0m, in \u001b[0;36mLinearOperator.mm\u001b[0;34m(self, x)\u001b[0m\n\u001b[1;32m    296\u001b[0m xnew \u001b[39m=\u001b[39m x1\u001b[39m.\u001b[39mtranspose(\u001b[39m0\u001b[39m, \u001b[39m-\u001b[39m\u001b[39m1\u001b[39m)\u001b[39m.\u001b[39msqueeze(\u001b[39m-\u001b[39m\u001b[39m1\u001b[39m)  \u001b[39m# (r,...,q)\u001b[39;00m\n\u001b[1;32m    298\u001b[0m \u001b[39m# apply batched mv and restore the initial shape\u001b[39;00m\n\u001b[0;32m--> 299\u001b[0m ynew \u001b[39m=\u001b[39m \u001b[39mself\u001b[39;49m\u001b[39m.\u001b[39;49m_mv(xnew)  \u001b[39m# (r,...,p)\u001b[39;00m\n\u001b[1;32m    300\u001b[0m y \u001b[39m=\u001b[39m ynew\u001b[39m.\u001b[39munsqueeze(\u001b[39m-\u001b[39m\u001b[39m1\u001b[39m)\u001b[39m.\u001b[39mtranspose(\u001b[39m0\u001b[39m, \u001b[39m-\u001b[39m\u001b[39m1\u001b[39m)\u001b[39m.\u001b[39msqueeze(\u001b[39m0\u001b[39m)  \u001b[39m# (...,p,r)\u001b[39;00m\n\u001b[1;32m    301\u001b[0m \u001b[39mreturn\u001b[39;00m y\n",
            "File \u001b[0;32m~/Dokumente/xtbML/src/dxtb/exlibs/xitorch/_core/linop.py:636\u001b[0m, in \u001b[0;36mAdjointLinearOperator._mv\u001b[0;34m(self, x)\u001b[0m\n\u001b[1;32m    634\u001b[0m \u001b[39mif\u001b[39;00m \u001b[39mnot\u001b[39;00m \u001b[39mself\u001b[39m\u001b[39m.\u001b[39mobj\u001b[39m.\u001b[39mis_rmv_implemented:\n\u001b[1;32m    635\u001b[0m     \u001b[39mraise\u001b[39;00m \u001b[39mRuntimeError\u001b[39;00m(\u001b[39m\"\u001b[39m\u001b[39mThe ._rmv of must be implemented to call .H.mv()\u001b[39m\u001b[39m\"\u001b[39m)\n\u001b[0;32m--> 636\u001b[0m \u001b[39mreturn\u001b[39;00m \u001b[39mself\u001b[39;49m\u001b[39m.\u001b[39;49mobj\u001b[39m.\u001b[39;49m_rmv(x)\n",
            "File \u001b[0;32m~/Dokumente/xtbML/src/dxtb/exlibs/xitorch/grad/jachess.py:228\u001b[0m, in \u001b[0;36m_Jac._rmv\u001b[0;34m(self, gout)\u001b[0m\n\u001b[1;32m    226\u001b[0m dfdy_list \u001b[39m=\u001b[39m []\n\u001b[1;32m    227\u001b[0m \u001b[39mfor\u001b[39;00m i \u001b[39min\u001b[39;00m \u001b[39mrange\u001b[39m(nbatch):\n\u001b[0;32m--> 228\u001b[0m     (one_dfdy,) \u001b[39m=\u001b[39m torch\u001b[39m.\u001b[39;49mautograd\u001b[39m.\u001b[39;49mgrad(\n\u001b[1;32m    229\u001b[0m         yout,\n\u001b[1;32m    230\u001b[0m         (yparam,),\n\u001b[1;32m    231\u001b[0m         grad_outputs\u001b[39m=\u001b[39;49mgout1[i]\u001b[39m.\u001b[39;49mreshape(\u001b[39mself\u001b[39;49m\u001b[39m.\u001b[39;49moutshape),\n\u001b[1;32m    232\u001b[0m         retain_graph\u001b[39m=\u001b[39;49m\u001b[39mTrue\u001b[39;49;00m,\n\u001b[1;32m    233\u001b[0m         create_graph\u001b[39m=\u001b[39;49mtorch\u001b[39m.\u001b[39;49mis_grad_enabled(),\n\u001b[1;32m    234\u001b[0m     )  \u001b[39m# (*nin)\u001b[39;00m\n\u001b[1;32m    235\u001b[0m     dfdy_list\u001b[39m.\u001b[39mappend(one_dfdy\u001b[39m.\u001b[39munsqueeze(\u001b[39m0\u001b[39m))\n\u001b[1;32m    236\u001b[0m dfdy \u001b[39m=\u001b[39m torch\u001b[39m.\u001b[39mcat(dfdy_list, dim\u001b[39m=\u001b[39m\u001b[39m0\u001b[39m)  \u001b[39m# (nbatch, *nin)\u001b[39;00m\n",
            "File \u001b[0;32m/opt/miniforge3/envs/dxtb/lib/python3.10/site-packages/torch/autograd/__init__.py:303\u001b[0m, in \u001b[0;36mgrad\u001b[0;34m(outputs, inputs, grad_outputs, retain_graph, create_graph, only_inputs, allow_unused, is_grads_batched)\u001b[0m\n\u001b[1;32m    301\u001b[0m     \u001b[39mreturn\u001b[39;00m _vmap_internals\u001b[39m.\u001b[39m_vmap(vjp, \u001b[39m0\u001b[39m, \u001b[39m0\u001b[39m, allow_none_pass_through\u001b[39m=\u001b[39m\u001b[39mTrue\u001b[39;00m)(grad_outputs_)\n\u001b[1;32m    302\u001b[0m \u001b[39melse\u001b[39;00m:\n\u001b[0;32m--> 303\u001b[0m     \u001b[39mreturn\u001b[39;00m Variable\u001b[39m.\u001b[39;49m_execution_engine\u001b[39m.\u001b[39;49mrun_backward(  \u001b[39m# Calls into the C++ engine to run the backward pass\u001b[39;49;00m\n\u001b[1;32m    304\u001b[0m         t_outputs, grad_outputs_, retain_graph, create_graph, t_inputs,\n\u001b[1;32m    305\u001b[0m         allow_unused, accumulate_grad\u001b[39m=\u001b[39;49m\u001b[39mFalse\u001b[39;49;00m)\n",
            "File \u001b[0;32m/opt/miniforge3/envs/dxtb/lib/python3.10/site-packages/torch/autograd/function.py:274\u001b[0m, in \u001b[0;36mBackwardCFunction.apply\u001b[0;34m(self, *args)\u001b[0m\n\u001b[1;32m    270\u001b[0m     \u001b[39mraise\u001b[39;00m \u001b[39mRuntimeError\u001b[39;00m(\u001b[39m\"\u001b[39m\u001b[39mImplementing both \u001b[39m\u001b[39m'\u001b[39m\u001b[39mbackward\u001b[39m\u001b[39m'\u001b[39m\u001b[39m and \u001b[39m\u001b[39m'\u001b[39m\u001b[39mvjp\u001b[39m\u001b[39m'\u001b[39m\u001b[39m for a custom \u001b[39m\u001b[39m\"\u001b[39m\n\u001b[1;32m    271\u001b[0m                        \u001b[39m\"\u001b[39m\u001b[39mFunction is not allowed. You should only implement one \u001b[39m\u001b[39m\"\u001b[39m\n\u001b[1;32m    272\u001b[0m                        \u001b[39m\"\u001b[39m\u001b[39mof them.\u001b[39m\u001b[39m\"\u001b[39m)\n\u001b[1;32m    273\u001b[0m user_fn \u001b[39m=\u001b[39m vjp_fn \u001b[39mif\u001b[39;00m vjp_fn \u001b[39mis\u001b[39;00m \u001b[39mnot\u001b[39;00m Function\u001b[39m.\u001b[39mvjp \u001b[39melse\u001b[39;00m backward_fn\n\u001b[0;32m--> 274\u001b[0m \u001b[39mreturn\u001b[39;00m user_fn(\u001b[39mself\u001b[39;49m, \u001b[39m*\u001b[39;49margs)\n",
            "File \u001b[0;32m~/Dokumente/xtbML/src/dxtb/exlibs/xitorch/_impls/linalg/symeig.py:103\u001b[0m, in \u001b[0;36mdegen_symeig.backward\u001b[0;34m(ctx, grad_eival, grad_eivec)\u001b[0m\n\u001b[1;32m    101\u001b[0m \u001b[39m# calculate the contribution from the eival\u001b[39;00m\n\u001b[1;32m    102\u001b[0m \u001b[39mif\u001b[39;00m grad_eival \u001b[39mis\u001b[39;00m \u001b[39mnot\u001b[39;00m \u001b[39mNone\u001b[39;00m:\n\u001b[0;32m--> 103\u001b[0m     result \u001b[39m+\u001b[39m\u001b[39m=\u001b[39m torch\u001b[39m.\u001b[39;49mmatmul(eivec, grad_eival\u001b[39m.\u001b[39;49munsqueeze(\u001b[39m-\u001b[39;49m\u001b[39m1\u001b[39;49m) \u001b[39m*\u001b[39;49m eivect)\n\u001b[1;32m    105\u001b[0m \u001b[39m# symmetrize to reduce numerical instability\u001b[39;00m\n\u001b[1;32m    106\u001b[0m result \u001b[39m=\u001b[39m (result \u001b[39m+\u001b[39m result\u001b[39m.\u001b[39mtranspose(\u001b[39m-\u001b[39m\u001b[39m2\u001b[39m, \u001b[39m-\u001b[39m\u001b[39m1\u001b[39m)\u001b[39m.\u001b[39mconj()) \u001b[39m*\u001b[39m \u001b[39m0.5\u001b[39m\n",
            "\u001b[0;31mKeyboardInterrupt\u001b[0m: "
          ]
        }
      ],
      "source": [
        "positions = positions.detach().clone().requires_grad_(True)\n",
        "time_operation(lambda: eval(calc_py, numbers, positions, charge), 3)"
      ]
    }
  ],
  "metadata": {
    "kernelspec": {
      "display_name": "Python 3 (ipykernel)",
      "language": "python",
      "name": "python3"
    },
    "language_info": {
      "codemirror_mode": {
        "name": "ipython",
        "version": 3
      },
      "file_extension": ".py",
      "mimetype": "text/x-python",
      "name": "python",
      "nbconvert_exporter": "python",
      "pygments_lexer": "ipython3",
      "version": "3.10.6"
    }
  },
  "nbformat": 4,
  "nbformat_minor": 5
}
