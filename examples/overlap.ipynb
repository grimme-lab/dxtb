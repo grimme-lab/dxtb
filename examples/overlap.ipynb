{
  "cells": [
    {
      "cell_type": "markdown",
      "id": "4259543b",
      "metadata": {},
      "source": [
        "# Example: Properties"
      ]
    },
    {
      "cell_type": "markdown",
      "id": "8a5dfdb5",
      "metadata": {},
      "source": [
        "#### Imports"
      ]
    },
    {
      "cell_type": "code",
      "execution_count": 1,
      "id": "e5d553fd",
      "metadata": {
        "trusted": true
      },
      "outputs": [],
      "source": [
        "import numpy as np\n",
        "import torch\n",
        "import time\n",
        "from pathlib import Path\n",
        "\n",
        "import dxtb"
      ]
    },
    {
      "cell_type": "markdown",
      "id": "259f4883",
      "metadata": {},
      "source": [
        "#### Functions"
      ]
    },
    {
      "cell_type": "code",
      "execution_count": null,
      "id": "bce068c5",
      "metadata": {},
      "outputs": [],
      "source": []
    },
    {
      "cell_type": "markdown",
      "id": "06923bc3",
      "metadata": {},
      "source": [
        "#### dxtb calculation"
      ]
    },
    {
      "cell_type": "code",
      "execution_count": 2,
      "id": "0fb4ead7",
      "metadata": {},
      "outputs": [],
      "source": [
        "f = Path(globals()['_dh'][0]) / \"molecules\" / \"taxol.coord\"\n",
        "atoms, xyz = dxtb.io.read_coord(f)"
      ]
    },
    {
      "cell_type": "code",
      "execution_count": 3,
      "id": "f8b5df0d",
      "metadata": {},
      "outputs": [],
      "source": [
        "device = torch.device(\"cpu\")\n",
        "dd: dxtb._types.DD = {\"device\": device, \"dtype\": torch.double}\n",
        "\n",
        "numbers = torch.tensor(atoms, device=device)\n",
        "positions = torch.tensor(xyz, **dd)\n",
        "charge = torch.tensor(0.0, **dd)\n",
        "\n",
        "mol = dxtb.mol.external.M(numbers, positions)\n",
        "\n",
        "par = dxtb.GFN1_XTB\n",
        "ihelp = dxtb.IndexHelper.from_numbers(numbers, dxtb.param.get_elem_angular(par.element))"
      ]
    },
    {
      "cell_type": "code",
      "execution_count": 4,
      "id": "9e655aa2",
      "metadata": {},
      "outputs": [],
      "source": [
        "from dxtb.integral.driver.libcint import OverlapLibcint, IntDriverLibcint\n",
        "from dxtb.integral.driver.pytorch import OverlapPytorch, IntDriverPytorch, IntDriverPytorchNoAnalytical\n",
        "from dxtb.integral.driver.pytorch.impls import overlap as overlap_fwd\n",
        "\n",
        "drv_py = IntDriverPytorch(numbers, par, ihelp, **dd)\n",
        "drv_py.setup(positions)\n",
        "\n",
        "drv_py2 = IntDriverPytorchNoAnalytical(numbers, par, ihelp, **dd)\n",
        "drv_py2.setup(positions)\n",
        "\n",
        "drv_lc = IntDriverLibcint(numbers, par, ihelp, **dd)\n",
        "drv_lc.setup(positions)\n",
        "\n",
        "ovlp_py = OverlapPytorch(**dd)\n",
        "ovlp_lc = OverlapLibcint(**dd)\n",
        "\n",
        "# create basis\n",
        "basis = dxtb.Basis(numbers, par, ihelp, **dd)\n",
        "ubas = dxtb.Basis(torch.unique(numbers), par, ihelp, **dd)"
      ]
    },
    {
      "cell_type": "code",
      "execution_count": 5,
      "id": "901fbc1e",
      "metadata": {},
      "outputs": [
        {
          "name": "stdout",
          "output_type": "stream",
          "text": [
            "1.4165 \n",
            "1.3445 \n",
            "0.0986 \n",
            "0.0937 \n"
          ]
        }
      ],
      "source": [
        "from dxtb.utils.timing import timings\n",
        "\n",
        "n=1\n",
        "\n",
        "@timings(n)\n",
        "def run_sauto():\n",
        "    \"\"\"Explicit call of forward function.\"\"\"\n",
        "    return overlap_fwd(positions, ubas, ihelp)\n",
        "\n",
        "@timings(n)\n",
        "def run_sdxtb():\n",
        "    return ovlp_py.build(drv_py)\n",
        "\n",
        "@timings(n)\n",
        "def run_slibc():\n",
        "    return ovlp_lc.build(drv_lc)\n",
        "\n",
        "@timings(n)\n",
        "def run_pyscf():\n",
        "    s = torch.tensor(mol.intor(\"int1e_ovlp\"), **dd)\n",
        "    norm = torch.pow(s.diagonal(dim1=-1, dim2=-2), -0.5)\n",
        "    return torch.einsum(\"...ij,...i,...j->...ij\", s, norm, norm)\n",
        "\n",
        "\n",
        "s1 = run_sauto()\n",
        "s2 = run_sdxtb()\n",
        "s3 = run_slibc()\n",
        "s4 = run_pyscf()\n",
        "\n",
        "assert s1.shape == s2.shape\n",
        "assert s1.shape == s3.shape\n",
        "assert s1.shape == s4.shape"
      ]
    },
    {
      "cell_type": "code",
      "execution_count": 6,
      "metadata": {},
      "outputs": [
        {
          "name": "stdout",
          "output_type": "stream",
          "text": [
            "1.3471 \n"
          ]
        }
      ],
      "source": [
        "s1 = run_sauto()\n"
      ]
    },
    {
      "cell_type": "code",
      "execution_count": 7,
      "metadata": {},
      "outputs": [
        {
          "name": "stdout",
          "output_type": "stream",
          "text": [
            "1.2679 \n"
          ]
        }
      ],
      "source": [
        "s2 = run_sdxtb()"
      ]
    },
    {
      "cell_type": "code",
      "execution_count": 8,
      "metadata": {},
      "outputs": [
        {
          "name": "stdout",
          "output_type": "stream",
          "text": [
            "1.2212 \n"
          ]
        }
      ],
      "source": [
        "s1 = run_sauto()"
      ]
    },
    {
      "cell_type": "code",
      "execution_count": null,
      "metadata": {},
      "outputs": [],
      "source": []
    },
    {
      "cell_type": "markdown",
      "metadata": {},
      "source": [
        "### get_gradient"
      ]
    },
    {
      "cell_type": "code",
      "execution_count": 9,
      "id": "ea6f46f9",
      "metadata": {},
      "outputs": [
        {
          "name": "stdout",
          "output_type": "stream",
          "text": [
            "1.4684 \n",
            "0.1235 \n",
            "0.1215 \n"
          ]
        }
      ],
      "source": [
        "@timings()\n",
        "def run_sdxtb_grad():\n",
        "    return ovlp_py.get_gradient(drv_py)\n",
        "\n",
        "@timings()\n",
        "def run_slibc_grad():\n",
        "    return ovlp_lc.get_gradient(drv_lc)\n",
        "\n",
        "@timings()\n",
        "def run_pyscf_grad():\n",
        "    # not normalized\n",
        "    ovlp = torch.tensor(mol.intor(\"int1e_ipovlp\"), **dd)\n",
        "    return torch.einsum(\"xij->ijx\", ovlp)\n",
        "\n",
        "\n",
        "s1 = run_sdxtb_grad()\n",
        "s2 = run_slibc_grad()\n",
        "s3 = run_pyscf_grad()\n",
        "\n",
        "assert s1.shape == s2.shape\n",
        "assert s1.shape == s3.shape\n"
      ]
    },
    {
      "cell_type": "markdown",
      "metadata": {},
      "source": [
        "### Autograd utils"
      ]
    },
    {
      "cell_type": "code",
      "execution_count": 10,
      "metadata": {},
      "outputs": [],
      "source": [
        "repeats = 1\n",
        "\n",
        "def nth_derivative(f, wrt, n=1):\n",
        "    create_graph = False if n == 1 else True\n",
        "    for _ in range(n):\n",
        "        grads, = torch.autograd.grad(f, wrt, create_graph=create_graph)\n",
        "        f = grads.sum()\n",
        "\n",
        "    return grads # type: ignore\n",
        "\n",
        "def print_average(times):\n",
        "    print()\n",
        "    if repeats > 1:\n",
        "        avg_time = sum(times) / len(times)\n",
        "        print(f\"Average ({repeats}): {avg_time:2.4f} sec\")\n",
        "\n",
        "def time_operation(operation, n):\n",
        "    times = []\n",
        "    for _ in range(repeats):\n",
        "        s = operation().sum()  # Execute the operation passed as an argument\n",
        "        ts = time.perf_counter()\n",
        "        ds = nth_derivative(s, positions, n=n)\n",
        "        te = time.perf_counter()\n",
        "        times.append(te - ts)\n",
        "        print(f\"{te - ts:2.4f}\", end=\" \")\n",
        "    \n",
        "    print_average(times)"
      ]
    },
    {
      "cell_type": "markdown",
      "metadata": {},
      "source": [
        "### 1st Derivative"
      ]
    },
    {
      "cell_type": "code",
      "execution_count": 11,
      "id": "3f164afe",
      "metadata": {},
      "outputs": [
        {
          "name": "stdout",
          "output_type": "stream",
          "text": [
            "2.8715 \n",
            "1.3489 \n",
            "2.9066 \n",
            "0.1481 \n"
          ]
        }
      ],
      "source": [
        "positions = positions.detach().clone().requires_grad_(True)\n",
        "drv_py.setup(positions)\n",
        "drv_py2.setup(positions)\n",
        "drv_lc.setup(positions)\n",
        "\n",
        "n = 1\n",
        "time_operation(lambda: overlap_fwd(positions, ubas, ihelp), n)\n",
        "time_operation(lambda: ovlp_py.build(drv_py), n)\n",
        "time_operation(lambda: ovlp_py.build(drv_py2), n)\n",
        "time_operation(lambda: ovlp_lc.build(drv_lc), n)\n"
      ]
    },
    {
      "cell_type": "markdown",
      "metadata": {},
      "source": [
        "### 2nd Derivative"
      ]
    },
    {
      "cell_type": "code",
      "execution_count": 12,
      "metadata": {},
      "outputs": [
        {
          "name": "stdout",
          "output_type": "stream",
          "text": [
            "3.3626 \n",
            "8.5399 \n",
            "3.1355 \n",
            "0.7127 \n"
          ]
        }
      ],
      "source": [
        "positions = positions.detach().clone().requires_grad_(True)\n",
        "drv_py.setup(positions)\n",
        "drv_py2.setup(positions)\n",
        "drv_lc.setup(positions)\n",
        "\n",
        "n = 2\n",
        "time_operation(lambda: overlap_fwd(positions, ubas, ihelp), n)\n",
        "time_operation(lambda: ovlp_py.build(drv_py), n)\n",
        "time_operation(lambda: ovlp_py.build(drv_py2), n)\n",
        "time_operation(lambda: ovlp_lc.build(drv_lc), n)"
      ]
    },
    {
      "cell_type": "markdown",
      "metadata": {},
      "source": [
        "### 3rd Derivative"
      ]
    },
    {
      "cell_type": "code",
      "execution_count": 13,
      "metadata": {},
      "outputs": [
        {
          "name": "stdout",
          "output_type": "stream",
          "text": [
            "3.7009 \n",
            "9.1296 \n",
            "3.6771 \n",
            "3.0005 \n"
          ]
        }
      ],
      "source": [
        "drv_py.setup(positions)\n",
        "drv_py2.setup(positions)\n",
        "drv_lc.setup(positions)\n",
        "\n",
        "n = 3\n",
        "time_operation(lambda: overlap_fwd(positions, ubas, ihelp), n)\n",
        "time_operation(lambda: ovlp_py.build(drv_py), n)\n",
        "time_operation(lambda: ovlp_py.build(drv_py2), n)\n",
        "time_operation(lambda: ovlp_lc.build(drv_lc), n)"
      ]
    },
    {
      "cell_type": "code",
      "execution_count": 14,
      "metadata": {},
      "outputs": [
        {
          "name": "stdout",
          "output_type": "stream",
          "text": [
            "\n",
            "energy 1st    2nd    3rd\n",
            "1.6174 2.8161 0.3579 0.5510 "
          ]
        },
        {
          "ename": "RuntimeError",
          "evalue": "element 0 of tensors does not require grad and does not have a grad_fn",
          "output_type": "error",
          "traceback": [
            "\u001b[0;31m---------------------------------------------------------------------------\u001b[0m",
            "\u001b[0;31mRuntimeError\u001b[0m                              Traceback (most recent call last)",
            "\u001b[1;32m/home/friede/Dokumente/xtbML/examples/overlap.ipynb Cell 25\u001b[0m line \u001b[0;36m5\n\u001b[1;32m     <a href='vscode-notebook-cell:/home/friede/Dokumente/xtbML/examples/overlap.ipynb#X26sZmlsZQ%3D%3D?line=55'>56</a>\u001b[0m     \u001b[39mreturn\u001b[39;00m ovlp_lc\u001b[39m.\u001b[39mbuild(drv_lc)\n\u001b[1;32m     <a href='vscode-notebook-cell:/home/friede/Dokumente/xtbML/examples/overlap.ipynb#X26sZmlsZQ%3D%3D?line=57'>58</a>\u001b[0m \u001b[39m# Call the function with different operations\u001b[39;00m\n\u001b[0;32m---> <a href='vscode-notebook-cell:/home/friede/Dokumente/xtbML/examples/overlap.ipynb#X26sZmlsZQ%3D%3D?line=58'>59</a>\u001b[0m times \u001b[39m=\u001b[39m measure_times(\u001b[39mlambda\u001b[39;49;00m pos: ovlp_fwd_func(pos), positions, repeats)\n\u001b[1;32m     <a href='vscode-notebook-cell:/home/friede/Dokumente/xtbML/examples/overlap.ipynb#X26sZmlsZQ%3D%3D?line=59'>60</a>\u001b[0m print_averages(times)\n\u001b[1;32m     <a href='vscode-notebook-cell:/home/friede/Dokumente/xtbML/examples/overlap.ipynb#X26sZmlsZQ%3D%3D?line=61'>62</a>\u001b[0m times \u001b[39m=\u001b[39m measure_times(\u001b[39mlambda\u001b[39;00m pos: ovlp_py_func(pos), positions, repeats)\n",
            "\u001b[1;32m/home/friede/Dokumente/xtbML/examples/overlap.ipynb Cell 25\u001b[0m line \u001b[0;36m3\n\u001b[1;32m     <a href='vscode-notebook-cell:/home/friede/Dokumente/xtbML/examples/overlap.ipynb#X26sZmlsZQ%3D%3D?line=30'>31</a>\u001b[0m t4 \u001b[39m=\u001b[39m time\u001b[39m.\u001b[39mperf_counter()\n\u001b[1;32m     <a href='vscode-notebook-cell:/home/friede/Dokumente/xtbML/examples/overlap.ipynb#X26sZmlsZQ%3D%3D?line=31'>32</a>\u001b[0m \u001b[39mprint\u001b[39m(\u001b[39mf\u001b[39m\u001b[39m\"\u001b[39m\u001b[39m{\u001b[39;00mt4\u001b[39m \u001b[39m\u001b[39m-\u001b[39m\u001b[39m \u001b[39mt3\u001b[39m:\u001b[39;00m\u001b[39m2.4f\u001b[39m\u001b[39m}\u001b[39;00m\u001b[39m\"\u001b[39m, end\u001b[39m=\u001b[39m\u001b[39m\"\u001b[39m\u001b[39m \u001b[39m\u001b[39m\"\u001b[39m)\n\u001b[0;32m---> <a href='vscode-notebook-cell:/home/friede/Dokumente/xtbML/examples/overlap.ipynb#X26sZmlsZQ%3D%3D?line=33'>34</a>\u001b[0m dddds, \u001b[39m=\u001b[39m torch\u001b[39m.\u001b[39;49mautograd\u001b[39m.\u001b[39;49mgrad(ddds\u001b[39m.\u001b[39;49msum(), pos)\n\u001b[1;32m     <a href='vscode-notebook-cell:/home/friede/Dokumente/xtbML/examples/overlap.ipynb#X26sZmlsZQ%3D%3D?line=34'>35</a>\u001b[0m t5 \u001b[39m=\u001b[39m time\u001b[39m.\u001b[39mperf_counter()\n\u001b[1;32m     <a href='vscode-notebook-cell:/home/friede/Dokumente/xtbML/examples/overlap.ipynb#X26sZmlsZQ%3D%3D?line=35'>36</a>\u001b[0m \u001b[39mprint\u001b[39m(\u001b[39mf\u001b[39m\u001b[39m\"\u001b[39m\u001b[39m{\u001b[39;00mt5\u001b[39m \u001b[39m\u001b[39m-\u001b[39m\u001b[39m \u001b[39mt4\u001b[39m:\u001b[39;00m\u001b[39m2.4f\u001b[39m\u001b[39m}\u001b[39;00m\u001b[39m\"\u001b[39m, end\u001b[39m=\u001b[39m\u001b[39m\"\u001b[39m\u001b[39m \u001b[39m\u001b[39m\"\u001b[39m)\n",
            "File \u001b[0;32m/opt/miniforge3/envs/dxtb/lib/python3.10/site-packages/torch/autograd/__init__.py:303\u001b[0m, in \u001b[0;36mgrad\u001b[0;34m(outputs, inputs, grad_outputs, retain_graph, create_graph, only_inputs, allow_unused, is_grads_batched)\u001b[0m\n\u001b[1;32m    301\u001b[0m     \u001b[39mreturn\u001b[39;00m _vmap_internals\u001b[39m.\u001b[39m_vmap(vjp, \u001b[39m0\u001b[39m, \u001b[39m0\u001b[39m, allow_none_pass_through\u001b[39m=\u001b[39m\u001b[39mTrue\u001b[39;00m)(grad_outputs_)\n\u001b[1;32m    302\u001b[0m \u001b[39melse\u001b[39;00m:\n\u001b[0;32m--> 303\u001b[0m     \u001b[39mreturn\u001b[39;00m Variable\u001b[39m.\u001b[39;49m_execution_engine\u001b[39m.\u001b[39;49mrun_backward(  \u001b[39m# Calls into the C++ engine to run the backward pass\u001b[39;49;00m\n\u001b[1;32m    304\u001b[0m         t_outputs, grad_outputs_, retain_graph, create_graph, t_inputs,\n\u001b[1;32m    305\u001b[0m         allow_unused, accumulate_grad\u001b[39m=\u001b[39;49m\u001b[39mFalse\u001b[39;49;00m)\n",
            "\u001b[0;31mRuntimeError\u001b[0m: element 0 of tensors does not require grad and does not have a grad_fn"
          ]
        }
      ],
      "source": [
        "repeats = 5\n",
        "\n",
        "def print_averages(times):\n",
        "    num_segments = len(times[0])\n",
        "    print(\"--------------------\")\n",
        "    for i in range(num_segments):\n",
        "        avg_time = sum(time[i] for time in times) / len(times)\n",
        "        print(f\"{avg_time:2.4f}\", end=\" \")\n",
        "    print()\n",
        "\n",
        "def measure_times(operation, positions, repeats):\n",
        "    times = []\n",
        "    print(\"\\nenergy 1st    2nd    3rd\")\n",
        "    for _ in range(repeats):\n",
        "        pos = positions.clone().detach().requires_grad_(True)\n",
        "        t0 = time.perf_counter()\n",
        "\n",
        "        s = operation(pos).sum()\n",
        "        t1 = time.perf_counter()\n",
        "        print(f\"{t1 - t0:2.4f}\", end=\" \")\n",
        "\n",
        "        (ds,) = torch.autograd.grad(s, pos, create_graph=True)\n",
        "        t2 = time.perf_counter()\n",
        "        print(f\"{t2 - t1:2.4f}\", end=\" \")\n",
        "        \n",
        "        dds, = torch.autograd.grad(ds.sum(), pos, create_graph=True)\n",
        "        t3 = time.perf_counter()\n",
        "        print(f\"{t3 - t2:2.4f}\", end=\" \")\n",
        "\n",
        "        ddds, = torch.autograd.grad(dds.sum(), pos)\n",
        "        t4 = time.perf_counter()\n",
        "        print(f\"{t4 - t3:2.4f}\", end=\" \")\n",
        "        \n",
        "        dddds, = torch.autograd.grad(ddds.sum(), pos)\n",
        "        t5 = time.perf_counter()\n",
        "        print(f\"{t5 - t4:2.4f}\", end=\" \")\n",
        "        times.append([t1 - t0, t2 - t1, t3 - t2, t4 - t3, t5 - t4])\n",
        "\n",
        "        print()\n",
        "\n",
        "    return times\n",
        "\n",
        "def ovlp_fwd_func(pos):\n",
        "    return overlap_fwd(pos, ubas, ihelp)\n",
        "\n",
        "def ovlp_py_func(pos):\n",
        "    drv_py.setup(pos)\n",
        "    return ovlp_py.build(drv_py)\n",
        "\n",
        "def ovlp_py2_func(pos):\n",
        "    drv_py2.setup(pos)\n",
        "    return ovlp_py.build(drv_py2)\n",
        "\n",
        "def ovlp_lc_func(pos):\n",
        "    drv_lc.setup(pos)\n",
        "    return ovlp_lc.build(drv_lc)\n",
        "\n",
        "# Call the function with different operations\n",
        "times = measure_times(lambda pos: ovlp_fwd_func(pos), positions, repeats)\n",
        "print_averages(times)\n",
        "\n",
        "times = measure_times(lambda pos: ovlp_py_func(pos), positions, repeats)\n",
        "print_averages(times)\n",
        "\n",
        "# Replace with other operations as needed\n",
        "times = measure_times(lambda pos: ovlp_py2_func(pos), positions, repeats)\n",
        "print_averages(times)\n",
        "\n",
        "times = measure_times(lambda pos: ovlp_lc_func(pos), positions, repeats)\n",
        "print_averages(times)"
      ]
    },
    {
      "cell_type": "code",
      "execution_count": null,
      "metadata": {},
      "outputs": [],
      "source": []
    }
  ],
  "metadata": {
    "kernelspec": {
      "display_name": "Python 3 (ipykernel)",
      "language": "python",
      "name": "python3"
    },
    "language_info": {
      "codemirror_mode": {
        "name": "ipython",
        "version": 3
      },
      "file_extension": ".py",
      "mimetype": "text/x-python",
      "name": "python",
      "nbconvert_exporter": "python",
      "pygments_lexer": "ipython3",
      "version": "3.10.6"
    }
  },
  "nbformat": 4,
  "nbformat_minor": 5
}
