{
  "cells": [
    {
      "cell_type": "markdown",
      "id": "4259543b",
      "metadata": {},
      "source": [
        "# Example: Properties"
      ]
    },
    {
      "cell_type": "markdown",
      "id": "8a5dfdb5",
      "metadata": {},
      "source": [
        "#### Imports"
      ]
    },
    {
      "cell_type": "code",
      "execution_count": 1,
      "id": "e5d553fd",
      "metadata": {
        "trusted": true
      },
      "outputs": [],
      "source": [
        "import numpy as np\n",
        "import torch\n",
        "import time\n",
        "from pathlib import Path\n",
        "\n",
        "import dxtb"
      ]
    },
    {
      "cell_type": "markdown",
      "id": "259f4883",
      "metadata": {},
      "source": [
        "#### Functions"
      ]
    },
    {
      "cell_type": "code",
      "execution_count": null,
      "id": "bce068c5",
      "metadata": {},
      "outputs": [],
      "source": []
    },
    {
      "cell_type": "markdown",
      "id": "06923bc3",
      "metadata": {},
      "source": [
        "#### dxtb calculation"
      ]
    },
    {
      "cell_type": "code",
      "execution_count": 2,
      "id": "0fb4ead7",
      "metadata": {},
      "outputs": [],
      "source": [
        "f = Path(globals()['_dh'][0]) / \"molecules\" / \"taxol.coord\"\n",
        "atoms, xyz = dxtb.io.read_coord(f)"
      ]
    },
    {
      "cell_type": "code",
      "execution_count": 3,
      "id": "f8b5df0d",
      "metadata": {},
      "outputs": [],
      "source": [
        "device = torch.device(\"cpu\")\n",
        "dd: dxtb._types.DD = {\"device\": device, \"dtype\": torch.double}\n",
        "\n",
        "numbers = torch.tensor(atoms, device=device)\n",
        "positions = torch.tensor(xyz, **dd)\n",
        "charge = torch.tensor(0.0, **dd)\n",
        "\n",
        "mol = dxtb.mol.external.M(numbers, positions)\n",
        "\n",
        "par = dxtb.GFN1_XTB\n",
        "ihelp = dxtb.IndexHelper.from_numbers(numbers, dxtb.param.get_elem_angular(par.element))"
      ]
    },
    {
      "cell_type": "code",
      "execution_count": 4,
      "id": "9e655aa2",
      "metadata": {},
      "outputs": [],
      "source": [
        "from dxtb.integral.driver.libcint import OverlapLibcint, IntDriverLibcint\n",
        "from dxtb.integral.driver.pytorch import OverlapPytorch, IntDriverPytorch, IntDriverPytorchNoAnalytical\n",
        "from dxtb.integral.driver.pytorch.impls import overlap as overlap_fwd\n",
        "\n",
        "drv_py = IntDriverPytorch(numbers, par, ihelp, **dd)\n",
        "drv_py.setup(positions)\n",
        "\n",
        "drv_py2 = IntDriverPytorchNoAnalytical(numbers, par, ihelp, **dd)\n",
        "drv_py2.setup(positions)\n",
        "\n",
        "drv_lc = IntDriverLibcint(numbers, par, ihelp, **dd)\n",
        "drv_lc.setup(positions)\n",
        "\n",
        "ovlp_py = OverlapPytorch(**dd)\n",
        "ovlp_lc = OverlapLibcint(**dd)\n",
        "\n",
        "# create basis\n",
        "basis = dxtb.Basis(numbers, par, ihelp, **dd)\n",
        "ubas = dxtb.Basis(torch.unique(numbers), par, ihelp, **dd)"
      ]
    },
    {
      "cell_type": "code",
      "execution_count": 19,
      "id": "901fbc1e",
      "metadata": {},
      "outputs": [
        {
          "name": "stdout",
          "output_type": "stream",
          "text": [
            "1.4544 \n",
            "1.4547 \n",
            "1.2007 \n",
            "1.2011 \n",
            "0.0932 \n",
            "0.0897 \n"
          ]
        }
      ],
      "source": [
        "from dxtb.utils.timing import timings\n",
        "\n",
        "n=1\n",
        "\n",
        "@timings(n)\n",
        "def run_sauto():\n",
        "    \"\"\"Explicit call of forward function.\"\"\"\n",
        "    return overlap_fwd(positions, ubas, ihelp)\n",
        "\n",
        "@timings(n)\n",
        "def run_sdxtb():\n",
        "    return ovlp_py.build(drv_py)\n",
        "\n",
        "@timings(n)\n",
        "def run_slibc():\n",
        "    return ovlp_lc.build(drv_lc)\n",
        "\n",
        "@timings(n)\n",
        "def run_pyscf():\n",
        "    s = torch.tensor(mol.intor(\"int1e_ovlp\"), **dd)\n",
        "    norm = torch.pow(s.diagonal(dim1=-1, dim2=-2), -0.5)\n",
        "    return torch.einsum(\"...ij,...i,...j->...ij\", s, norm, norm)\n",
        "\n",
        "\n",
        "s1 = run_sauto()\n",
        "s2 = run_sdxtb()\n",
        "s3 = run_slibc()\n",
        "s4 = run_pyscf()\n",
        "\n",
        "assert s1.shape == s2.shape\n",
        "assert s1.shape == s3.shape\n",
        "assert s1.shape == s4.shape"
      ]
    },
    {
      "cell_type": "code",
      "execution_count": 17,
      "metadata": {},
      "outputs": [
        {
          "name": "stdout",
          "output_type": "stream",
          "text": [
            "1.5141 \n",
            "1.5144 \n"
          ]
        }
      ],
      "source": [
        "s1 = run_sauto()\n"
      ]
    },
    {
      "cell_type": "code",
      "execution_count": 18,
      "metadata": {},
      "outputs": [
        {
          "name": "stdout",
          "output_type": "stream",
          "text": [
            "1.3339 \n",
            "1.3344 \n"
          ]
        }
      ],
      "source": [
        "s2 = run_sdxtb()"
      ]
    },
    {
      "cell_type": "code",
      "execution_count": null,
      "metadata": {},
      "outputs": [],
      "source": []
    },
    {
      "cell_type": "markdown",
      "metadata": {},
      "source": [
        "### get_gradient"
      ]
    },
    {
      "cell_type": "code",
      "execution_count": 8,
      "id": "ea6f46f9",
      "metadata": {},
      "outputs": [
        {
          "name": "stdout",
          "output_type": "stream",
          "text": [
            "1.4750 \n",
            "0.1251 \n",
            "0.1210 \n"
          ]
        }
      ],
      "source": [
        "@timings()\n",
        "def run_sdxtb_grad():\n",
        "    return ovlp_py.get_gradient(drv_py)\n",
        "\n",
        "@timings()\n",
        "def run_slibc_grad():\n",
        "    return ovlp_lc.get_gradient(drv_lc)\n",
        "\n",
        "@timings()\n",
        "def run_pyscf_grad():\n",
        "    # not normalized\n",
        "    ovlp = torch.tensor(mol.intor(\"int1e_ipovlp\"), **dd)\n",
        "    return torch.einsum(\"xij->ijx\", ovlp)\n",
        "\n",
        "\n",
        "s1 = run_sdxtb_grad()\n",
        "s2 = run_slibc_grad()\n",
        "s3 = run_pyscf_grad()\n",
        "\n",
        "assert s1.shape == s2.shape\n",
        "assert s1.shape == s3.shape\n"
      ]
    },
    {
      "cell_type": "markdown",
      "metadata": {},
      "source": [
        "### Autograd utils"
      ]
    },
    {
      "cell_type": "code",
      "execution_count": 9,
      "metadata": {},
      "outputs": [],
      "source": [
        "repeats = 1\n",
        "\n",
        "def nth_derivative(f, wrt, n=1):\n",
        "    create_graph = False if n == 1 else True\n",
        "    for _ in range(n):\n",
        "        grads, = torch.autograd.grad(f, wrt, create_graph=create_graph)\n",
        "        f = grads.sum()\n",
        "\n",
        "    return grads # type: ignore\n",
        "\n",
        "def print_average(times):\n",
        "    print()\n",
        "    if repeats > 1:\n",
        "        avg_time = sum(times) / len(times)\n",
        "        print(f\"Average ({repeats}): {avg_time:2.4f} sec\")\n",
        "\n",
        "def time_operation(operation, n):\n",
        "    times = []\n",
        "    for _ in range(repeats):\n",
        "        s = operation().sum()  # Execute the operation passed as an argument\n",
        "        ts = time.perf_counter()\n",
        "        ds = nth_derivative(s, positions, n=n)\n",
        "        te = time.perf_counter()\n",
        "        times.append(te - ts)\n",
        "        print(f\"{te - ts:2.4f}\", end=\" \")\n",
        "    \n",
        "    print_average(times)"
      ]
    },
    {
      "cell_type": "markdown",
      "metadata": {},
      "source": [
        "### 1st Derivative"
      ]
    },
    {
      "cell_type": "code",
      "execution_count": 10,
      "id": "3f164afe",
      "metadata": {},
      "outputs": [
        {
          "name": "stdout",
          "output_type": "stream",
          "text": [
            "1.4610 \n",
            "3.0820 \n",
            "1.1700 \n",
            "1.3704 \n",
            "1.3479 \n",
            "2.8907 \n",
            "0.1427 \n"
          ]
        }
      ],
      "source": [
        "positions = positions.detach().clone().requires_grad_(True)\n",
        "drv_py.setup(positions)\n",
        "drv_py2.setup(positions)\n",
        "drv_lc.setup(positions)\n",
        "\n",
        "n = 1\n",
        "time_operation(lambda: overlap_fwd(positions, ubas, ihelp), n)\n",
        "time_operation(lambda: ovlp_py.build(drv_py), n)\n",
        "time_operation(lambda: ovlp_py.build(drv_py2), n)\n",
        "time_operation(lambda: ovlp_lc.build(drv_lc), n)\n"
      ]
    },
    {
      "cell_type": "markdown",
      "metadata": {},
      "source": [
        "### 2nd Derivative"
      ]
    },
    {
      "cell_type": "code",
      "execution_count": 11,
      "metadata": {},
      "outputs": [
        {
          "name": "stdout",
          "output_type": "stream",
          "text": [
            "1.4480 \n"
          ]
        },
        {
          "ename": "KeyboardInterrupt",
          "evalue": "",
          "output_type": "error",
          "traceback": [
            "\u001b[0;31m---------------------------------------------------------------------------\u001b[0m",
            "\u001b[0;31mKeyboardInterrupt\u001b[0m                         Traceback (most recent call last)",
            "\u001b[1;32m/home/friede/Dokumente/xtbML/examples/overlap.ipynb Cell 21\u001b[0m line \u001b[0;36m7\n\u001b[1;32m      <a href='vscode-notebook-cell:/home/friede/Dokumente/xtbML/examples/overlap.ipynb#X23sZmlsZQ%3D%3D?line=3'>4</a>\u001b[0m drv_lc\u001b[39m.\u001b[39msetup(positions)\n\u001b[1;32m      <a href='vscode-notebook-cell:/home/friede/Dokumente/xtbML/examples/overlap.ipynb#X23sZmlsZQ%3D%3D?line=5'>6</a>\u001b[0m n \u001b[39m=\u001b[39m \u001b[39m2\u001b[39m\n\u001b[0;32m----> <a href='vscode-notebook-cell:/home/friede/Dokumente/xtbML/examples/overlap.ipynb#X23sZmlsZQ%3D%3D?line=6'>7</a>\u001b[0m time_operation(\u001b[39mlambda\u001b[39;49;00m: overlap_fwd(positions, ubas, ihelp), n)\n\u001b[1;32m      <a href='vscode-notebook-cell:/home/friede/Dokumente/xtbML/examples/overlap.ipynb#X23sZmlsZQ%3D%3D?line=7'>8</a>\u001b[0m time_operation(\u001b[39mlambda\u001b[39;00m: ovlp_py\u001b[39m.\u001b[39mbuild(drv_py), n)\n\u001b[1;32m      <a href='vscode-notebook-cell:/home/friede/Dokumente/xtbML/examples/overlap.ipynb#X23sZmlsZQ%3D%3D?line=8'>9</a>\u001b[0m time_operation(\u001b[39mlambda\u001b[39;00m: ovlp_py\u001b[39m.\u001b[39mbuild(drv_py2), n)\n",
            "\u001b[1;32m/home/friede/Dokumente/xtbML/examples/overlap.ipynb Cell 21\u001b[0m line \u001b[0;36m2\n\u001b[1;32m     <a href='vscode-notebook-cell:/home/friede/Dokumente/xtbML/examples/overlap.ipynb#X23sZmlsZQ%3D%3D?line=19'>20</a>\u001b[0m s \u001b[39m=\u001b[39m operation()\u001b[39m.\u001b[39msum()  \u001b[39m# Execute the operation passed as an argument\u001b[39;00m\n\u001b[1;32m     <a href='vscode-notebook-cell:/home/friede/Dokumente/xtbML/examples/overlap.ipynb#X23sZmlsZQ%3D%3D?line=20'>21</a>\u001b[0m ts \u001b[39m=\u001b[39m time\u001b[39m.\u001b[39mperf_counter()\n\u001b[0;32m---> <a href='vscode-notebook-cell:/home/friede/Dokumente/xtbML/examples/overlap.ipynb#X23sZmlsZQ%3D%3D?line=21'>22</a>\u001b[0m ds \u001b[39m=\u001b[39m nth_derivative(s, positions, n\u001b[39m=\u001b[39;49mn)\n\u001b[1;32m     <a href='vscode-notebook-cell:/home/friede/Dokumente/xtbML/examples/overlap.ipynb#X23sZmlsZQ%3D%3D?line=22'>23</a>\u001b[0m te \u001b[39m=\u001b[39m time\u001b[39m.\u001b[39mperf_counter()\n\u001b[1;32m     <a href='vscode-notebook-cell:/home/friede/Dokumente/xtbML/examples/overlap.ipynb#X23sZmlsZQ%3D%3D?line=23'>24</a>\u001b[0m times\u001b[39m.\u001b[39mappend(te \u001b[39m-\u001b[39m ts)\n",
            "\u001b[1;32m/home/friede/Dokumente/xtbML/examples/overlap.ipynb Cell 21\u001b[0m line \u001b[0;36m6\n\u001b[1;32m      <a href='vscode-notebook-cell:/home/friede/Dokumente/xtbML/examples/overlap.ipynb#X23sZmlsZQ%3D%3D?line=3'>4</a>\u001b[0m create_graph \u001b[39m=\u001b[39m \u001b[39mFalse\u001b[39;00m \u001b[39mif\u001b[39;00m n \u001b[39m==\u001b[39m \u001b[39m1\u001b[39m \u001b[39melse\u001b[39;00m \u001b[39mTrue\u001b[39;00m\n\u001b[1;32m      <a href='vscode-notebook-cell:/home/friede/Dokumente/xtbML/examples/overlap.ipynb#X23sZmlsZQ%3D%3D?line=4'>5</a>\u001b[0m \u001b[39mfor\u001b[39;00m _ \u001b[39min\u001b[39;00m \u001b[39mrange\u001b[39m(n):\n\u001b[0;32m----> <a href='vscode-notebook-cell:/home/friede/Dokumente/xtbML/examples/overlap.ipynb#X23sZmlsZQ%3D%3D?line=5'>6</a>\u001b[0m     grads, \u001b[39m=\u001b[39m torch\u001b[39m.\u001b[39;49mautograd\u001b[39m.\u001b[39;49mgrad(f, wrt, create_graph\u001b[39m=\u001b[39;49mcreate_graph)\n\u001b[1;32m      <a href='vscode-notebook-cell:/home/friede/Dokumente/xtbML/examples/overlap.ipynb#X23sZmlsZQ%3D%3D?line=6'>7</a>\u001b[0m     f \u001b[39m=\u001b[39m grads\u001b[39m.\u001b[39msum()\n\u001b[1;32m      <a href='vscode-notebook-cell:/home/friede/Dokumente/xtbML/examples/overlap.ipynb#X23sZmlsZQ%3D%3D?line=8'>9</a>\u001b[0m \u001b[39mreturn\u001b[39;00m grads\n",
            "File \u001b[0;32m/opt/miniforge3/envs/dxtb/lib/python3.10/site-packages/torch/autograd/__init__.py:303\u001b[0m, in \u001b[0;36mgrad\u001b[0;34m(outputs, inputs, grad_outputs, retain_graph, create_graph, only_inputs, allow_unused, is_grads_batched)\u001b[0m\n\u001b[1;32m    301\u001b[0m     \u001b[39mreturn\u001b[39;00m _vmap_internals\u001b[39m.\u001b[39m_vmap(vjp, \u001b[39m0\u001b[39m, \u001b[39m0\u001b[39m, allow_none_pass_through\u001b[39m=\u001b[39m\u001b[39mTrue\u001b[39;00m)(grad_outputs_)\n\u001b[1;32m    302\u001b[0m \u001b[39melse\u001b[39;00m:\n\u001b[0;32m--> 303\u001b[0m     \u001b[39mreturn\u001b[39;00m Variable\u001b[39m.\u001b[39;49m_execution_engine\u001b[39m.\u001b[39;49mrun_backward(  \u001b[39m# Calls into the C++ engine to run the backward pass\u001b[39;49;00m\n\u001b[1;32m    304\u001b[0m         t_outputs, grad_outputs_, retain_graph, create_graph, t_inputs,\n\u001b[1;32m    305\u001b[0m         allow_unused, accumulate_grad\u001b[39m=\u001b[39;49m\u001b[39mFalse\u001b[39;49;00m)\n",
            "\u001b[0;31mKeyboardInterrupt\u001b[0m: "
          ]
        }
      ],
      "source": [
        "positions = positions.detach().clone().requires_grad_(True)\n",
        "drv_py.setup(positions)\n",
        "drv_py2.setup(positions)\n",
        "drv_lc.setup(positions)\n",
        "\n",
        "n = 2\n",
        "time_operation(lambda: overlap_fwd(positions, ubas, ihelp), n)\n",
        "time_operation(lambda: ovlp_py.build(drv_py), n)\n",
        "time_operation(lambda: ovlp_py.build(drv_py2), n)\n",
        "time_operation(lambda: ovlp_lc.build(drv_lc), n)"
      ]
    },
    {
      "cell_type": "markdown",
      "metadata": {},
      "source": [
        "### 3rd Derivative"
      ]
    },
    {
      "cell_type": "code",
      "execution_count": null,
      "metadata": {},
      "outputs": [
        {
          "name": "stdout",
          "output_type": "stream",
          "text": [
            "3.3318 \n",
            "8.3623 \n",
            "3.2084 \n",
            "2.1665 \n"
          ]
        }
      ],
      "source": [
        "drv_py.setup(positions)\n",
        "drv_py2.setup(positions)\n",
        "drv_lc.setup(positions)\n",
        "\n",
        "n = 3\n",
        "time_operation(lambda: overlap_fwd(positions, ubas, ihelp), n)\n",
        "time_operation(lambda: ovlp_py.build(drv_py), n)\n",
        "time_operation(lambda: ovlp_py.build(drv_py2), n)\n",
        "time_operation(lambda: ovlp_lc.build(drv_lc), n)"
      ]
    },
    {
      "cell_type": "code",
      "execution_count": null,
      "metadata": {},
      "outputs": [
        {
          "name": "stdout",
          "output_type": "stream",
          "text": [
            "\n",
            "energy 1st    2nd    3rd\n",
            "1.4676 2.9097 0.3481 0.4833 \n",
            "1.4342 2.8086 0.3448 0.4840 \n",
            "1.4351 2.8727 0.3317 0.4756 \n",
            "1.4538 2.9662 0.3347 0.4954 \n",
            "1.4637 3.0136 0.3308 0.4945 \n",
            "--------------------\n",
            "1.4509 2.9142 0.3380 0.4866 \n",
            "\n",
            "energy 1st    2nd    3rd\n",
            "1.2172 1.7715 6.6631 0.8334 \n",
            "1.2271 1.8044 6.7539 0.7951 \n",
            "1.5190 1.7973 6.9727 0.8014 \n",
            "1.2324 1.8384 6.9864 0.7940 \n",
            "1.3267 2.3745 7.2842 0.7974 \n",
            "--------------------\n",
            "1.3045 1.9173 6.9321 0.8042 \n",
            "\n",
            "energy 1st    2nd    3rd\n",
            "1.5188 "
          ]
        },
        {
          "ename": "RuntimeError",
          "evalue": "One of the differentiated Tensors appears to not have been used in the graph. Set allow_unused=True if this is the desired behavior.",
          "output_type": "error",
          "traceback": [
            "\u001b[0;31m---------------------------------------------------------------------------\u001b[0m",
            "\u001b[0;31mRuntimeError\u001b[0m                              Traceback (most recent call last)",
            "\u001b[1;32m/home/friede/Dokumente/xtbML/examples/overlap.ipynb Cell 21\u001b[0m line \u001b[0;36m6\n\u001b[1;32m     <a href='vscode-notebook-cell:/home/friede/Dokumente/xtbML/examples/overlap.ipynb#X26sZmlsZQ%3D%3D?line=58'>59</a>\u001b[0m print_averages(times)\n\u001b[1;32m     <a href='vscode-notebook-cell:/home/friede/Dokumente/xtbML/examples/overlap.ipynb#X26sZmlsZQ%3D%3D?line=60'>61</a>\u001b[0m \u001b[39m# Replace with other operations as needed\u001b[39;00m\n\u001b[0;32m---> <a href='vscode-notebook-cell:/home/friede/Dokumente/xtbML/examples/overlap.ipynb#X26sZmlsZQ%3D%3D?line=61'>62</a>\u001b[0m times \u001b[39m=\u001b[39m measure_times(\u001b[39mlambda\u001b[39;49;00m pos: ovlp_py2_func(pos), positions, repeats)\n\u001b[1;32m     <a href='vscode-notebook-cell:/home/friede/Dokumente/xtbML/examples/overlap.ipynb#X26sZmlsZQ%3D%3D?line=62'>63</a>\u001b[0m print_averages(times)\n\u001b[1;32m     <a href='vscode-notebook-cell:/home/friede/Dokumente/xtbML/examples/overlap.ipynb#X26sZmlsZQ%3D%3D?line=64'>65</a>\u001b[0m times \u001b[39m=\u001b[39m measure_times(\u001b[39mlambda\u001b[39;00m pos: ovlp_lc_func(pos), positions, repeats)\n",
            "\u001b[1;32m/home/friede/Dokumente/xtbML/examples/overlap.ipynb Cell 21\u001b[0m line \u001b[0;36m2\n\u001b[1;32m     <a href='vscode-notebook-cell:/home/friede/Dokumente/xtbML/examples/overlap.ipynb#X26sZmlsZQ%3D%3D?line=18'>19</a>\u001b[0m t1 \u001b[39m=\u001b[39m time\u001b[39m.\u001b[39mperf_counter()\n\u001b[1;32m     <a href='vscode-notebook-cell:/home/friede/Dokumente/xtbML/examples/overlap.ipynb#X26sZmlsZQ%3D%3D?line=19'>20</a>\u001b[0m \u001b[39mprint\u001b[39m(\u001b[39mf\u001b[39m\u001b[39m\"\u001b[39m\u001b[39m{\u001b[39;00mt1\u001b[39m \u001b[39m\u001b[39m-\u001b[39m\u001b[39m \u001b[39mt0\u001b[39m:\u001b[39;00m\u001b[39m2.4f\u001b[39m\u001b[39m}\u001b[39;00m\u001b[39m\"\u001b[39m, end\u001b[39m=\u001b[39m\u001b[39m\"\u001b[39m\u001b[39m \u001b[39m\u001b[39m\"\u001b[39m)\n\u001b[0;32m---> <a href='vscode-notebook-cell:/home/friede/Dokumente/xtbML/examples/overlap.ipynb#X26sZmlsZQ%3D%3D?line=21'>22</a>\u001b[0m (ds,) \u001b[39m=\u001b[39m torch\u001b[39m.\u001b[39;49mautograd\u001b[39m.\u001b[39;49mgrad(s, pos, create_graph\u001b[39m=\u001b[39;49m\u001b[39mTrue\u001b[39;49;00m)\n\u001b[1;32m     <a href='vscode-notebook-cell:/home/friede/Dokumente/xtbML/examples/overlap.ipynb#X26sZmlsZQ%3D%3D?line=22'>23</a>\u001b[0m t2 \u001b[39m=\u001b[39m time\u001b[39m.\u001b[39mperf_counter()\n\u001b[1;32m     <a href='vscode-notebook-cell:/home/friede/Dokumente/xtbML/examples/overlap.ipynb#X26sZmlsZQ%3D%3D?line=23'>24</a>\u001b[0m \u001b[39mprint\u001b[39m(\u001b[39mf\u001b[39m\u001b[39m\"\u001b[39m\u001b[39m{\u001b[39;00mt2\u001b[39m \u001b[39m\u001b[39m-\u001b[39m\u001b[39m \u001b[39mt1\u001b[39m:\u001b[39;00m\u001b[39m2.4f\u001b[39m\u001b[39m}\u001b[39;00m\u001b[39m\"\u001b[39m, end\u001b[39m=\u001b[39m\u001b[39m\"\u001b[39m\u001b[39m \u001b[39m\u001b[39m\"\u001b[39m)\n",
            "File \u001b[0;32m/opt/miniforge3/envs/dxtb/lib/python3.10/site-packages/torch/autograd/__init__.py:303\u001b[0m, in \u001b[0;36mgrad\u001b[0;34m(outputs, inputs, grad_outputs, retain_graph, create_graph, only_inputs, allow_unused, is_grads_batched)\u001b[0m\n\u001b[1;32m    301\u001b[0m     \u001b[39mreturn\u001b[39;00m _vmap_internals\u001b[39m.\u001b[39m_vmap(vjp, \u001b[39m0\u001b[39m, \u001b[39m0\u001b[39m, allow_none_pass_through\u001b[39m=\u001b[39m\u001b[39mTrue\u001b[39;00m)(grad_outputs_)\n\u001b[1;32m    302\u001b[0m \u001b[39melse\u001b[39;00m:\n\u001b[0;32m--> 303\u001b[0m     \u001b[39mreturn\u001b[39;00m Variable\u001b[39m.\u001b[39;49m_execution_engine\u001b[39m.\u001b[39;49mrun_backward(  \u001b[39m# Calls into the C++ engine to run the backward pass\u001b[39;49;00m\n\u001b[1;32m    304\u001b[0m         t_outputs, grad_outputs_, retain_graph, create_graph, t_inputs,\n\u001b[1;32m    305\u001b[0m         allow_unused, accumulate_grad\u001b[39m=\u001b[39;49m\u001b[39mFalse\u001b[39;49;00m)\n",
            "\u001b[0;31mRuntimeError\u001b[0m: One of the differentiated Tensors appears to not have been used in the graph. Set allow_unused=True if this is the desired behavior."
          ]
        }
      ],
      "source": [
        "repeats = 5\n",
        "\n",
        "def print_averages(times):\n",
        "    num_segments = len(times[0])\n",
        "    print(\"--------------------\")\n",
        "    for i in range(num_segments):\n",
        "        avg_time = sum(time[i] for time in times) / len(times)\n",
        "        print(f\"{avg_time:2.4f}\", end=\" \")\n",
        "    print()\n",
        "\n",
        "def measure_times(operation, positions, repeats):\n",
        "    times = []\n",
        "    print(\"\\nenergy 1st    2nd    3rd\")\n",
        "    for _ in range(repeats):\n",
        "        pos = positions.clone().detach().requires_grad_(True)\n",
        "        t0 = time.perf_counter()\n",
        "\n",
        "        s = operation(pos).sum()\n",
        "        t1 = time.perf_counter()\n",
        "        print(f\"{t1 - t0:2.4f}\", end=\" \")\n",
        "\n",
        "        (ds,) = torch.autograd.grad(s, pos, create_graph=True)\n",
        "        t2 = time.perf_counter()\n",
        "        print(f\"{t2 - t1:2.4f}\", end=\" \")\n",
        "        \n",
        "        dds, = torch.autograd.grad(ds.sum(), pos, create_graph=True)\n",
        "        t3 = time.perf_counter()\n",
        "        print(f\"{t3 - t2:2.4f}\", end=\" \")\n",
        "\n",
        "        ddds, = torch.autograd.grad(dds.sum(), pos)\n",
        "        t4 = time.perf_counter()\n",
        "        print(f\"{t4 - t3:2.4f}\", end=\" \")\n",
        "        \n",
        "        dddds, = torch.autograd.grad(ddds.sum(), pos)\n",
        "        t5 = time.perf_counter()\n",
        "        print(f\"{t5 - t4:2.4f}\", end=\" \")\n",
        "        times.append([t1 - t0, t2 - t1, t3 - t2, t4 - t3, t5 - t4])\n",
        "\n",
        "        print()\n",
        "\n",
        "    return times\n",
        "\n",
        "def ovlp_fwd_func(pos):\n",
        "    return overlap_fwd(pos, ubas, ihelp)\n",
        "\n",
        "def ovlp_py_func(pos):\n",
        "    drv_py.setup(pos)\n",
        "    return ovlp_py.build(drv_py)\n",
        "\n",
        "def ovlp_py2_func(pos):\n",
        "    drv_py2.setup(pos)\n",
        "    return ovlp_py.build(drv_py2)\n",
        "\n",
        "def ovlp_lc_func(pos):\n",
        "    drv_lc.setup(pos)\n",
        "    return ovlp_lc.build(drv_lc)\n",
        "\n",
        "# Call the function with different operations\n",
        "times = measure_times(lambda pos: ovlp_fwd_func(pos), positions, repeats)\n",
        "print_averages(times)\n",
        "\n",
        "times = measure_times(lambda pos: ovlp_py_func(pos), positions, repeats)\n",
        "print_averages(times)\n",
        "\n",
        "# Replace with other operations as needed\n",
        "times = measure_times(lambda pos: ovlp_py2_func(pos), positions, repeats)\n",
        "print_averages(times)\n",
        "\n",
        "times = measure_times(lambda pos: ovlp_lc_func(pos), positions, repeats)\n",
        "print_averages(times)"
      ]
    },
    {
      "cell_type": "code",
      "execution_count": null,
      "metadata": {},
      "outputs": [],
      "source": []
    }
  ],
  "metadata": {
    "kernelspec": {
      "display_name": "Python 3 (ipykernel)",
      "language": "python",
      "name": "python3"
    },
    "language_info": {
      "codemirror_mode": {
        "name": "ipython",
        "version": 3
      },
      "file_extension": ".py",
      "mimetype": "text/x-python",
      "name": "python",
      "nbconvert_exporter": "python",
      "pygments_lexer": "ipython3",
      "version": "3.10.6"
    }
  },
  "nbformat": 4,
  "nbformat_minor": 5
}
