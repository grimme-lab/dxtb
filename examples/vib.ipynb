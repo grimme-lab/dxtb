{
  "cells": [
    {
      "cell_type": "markdown",
      "id": "4259543b",
      "metadata": {},
      "source": [
        "# Example: Properties"
      ]
    },
    {
      "cell_type": "markdown",
      "id": "be9921c8",
      "metadata": {},
      "source": [
        "Adapted from: https://kthpanor.github.io/echem/docs/tutorials/vib_ir_calc.html"
      ]
    },
    {
      "cell_type": "markdown",
      "id": "8a5dfdb5",
      "metadata": {},
      "source": [
        "#### Imports"
      ]
    },
    {
      "cell_type": "code",
      "execution_count": null,
      "id": "e5d553fd",
      "metadata": {
        "trusted": true
      },
      "outputs": [],
      "source": [
        "from pathlib import Path\n",
        "\n",
        "import numpy as np\n",
        "import torch\n",
        "import dxtb\n",
        "import py3Dmol as p3d\n",
        "from tad_mctc.io import read\n",
        "from tad_mctc.units import AU2AA\n",
        "from tad_mctc.convert import number_to_symbol, tensor_to_numpy"
      ]
    },
    {
      "cell_type": "markdown",
      "id": "259f4883",
      "metadata": {},
      "source": [
        "#### Functions"
      ]
    },
    {
      "cell_type": "code",
      "execution_count": null,
      "id": "3eff1b0d",
      "metadata": {},
      "outputs": [],
      "source": [
        "def get_normal_mode(numbers, positions, normal_mode):\n",
        "    elements = number_to_symbol(numbers)\n",
        "    numbers = tensor_to_numpy(numbers)\n",
        "    positions = tensor_to_numpy(positions * AU2AA)\n",
        "    natm = numbers.shape[-1]\n",
        "\n",
        "    vib_xyz = \"%d\\n\\n\" % natm\n",
        "    nm = normal_mode.reshape(natm, 3)\n",
        "    for i in range(natm):\n",
        "        # add coordinates:\n",
        "        vib_xyz += elements[i] + \" %15.7f %15.7f %15.7f \" % (\n",
        "            positions[i, 0],\n",
        "            positions[i, 1],\n",
        "            positions[i, 2],\n",
        "        )\n",
        "        # add displacements:\n",
        "        vib_xyz += \"%15.7f %15.7f %15.7f\\n\" % (nm[i, 0], nm[i, 1], nm[i, 2])\n",
        "    return vib_xyz"
      ]
    },
    {
      "cell_type": "markdown",
      "id": "06923bc3",
      "metadata": {},
      "source": [
        "#### dxtb calculation"
      ]
    },
    {
      "cell_type": "code",
      "execution_count": null,
      "id": "f8b5df0d",
      "metadata": {},
      "outputs": [],
      "source": [
        "device = torch.device(\"cpu\")\n",
        "dd: dxtb.typing.DD = {\"device\": device, \"dtype\": torch.double}\n",
        "\n",
        "f = Path(globals()[\"_dh\"][0]) / \"molecules\" / \"h2o.coord\"\n",
        "numbers, positions = read.read_from_path(f, **dd, ftype=\"tm\")\n",
        "charge = torch.tensor(0.0, **dd)\n",
        "\n",
        "opts = {\n",
        "    \"scf_mode\": \"full\",\n",
        "    \"mixer\": \"anderson\",\n",
        "    \"verbosity\": 6,\n",
        "    \"f_atol\": 1e-6,\n",
        "    \"x_atol\": 1e-6,\n",
        "}\n",
        "\n",
        "calc = dxtb.Calculator(numbers, dxtb.GFN1_XTB, opts=opts, **dd)"
      ]
    },
    {
      "cell_type": "code",
      "execution_count": null,
      "id": "3d19e569",
      "metadata": {},
      "outputs": [],
      "source": [
        "num_vibres = calc.vibration_numerical(positions, charge)\n",
        "num_vibres.use_common_units()"
      ]
    },
    {
      "cell_type": "code",
      "execution_count": null,
      "id": "c478b574",
      "metadata": {},
      "outputs": [],
      "source": [
        "vibres = calc.vibration(positions.clone().requires_grad_(True), charge)\n",
        "vibres.use_common_units()"
      ]
    },
    {
      "cell_type": "code",
      "execution_count": null,
      "id": "ae34a13b",
      "metadata": {},
      "outputs": [],
      "source": [
        "print(\"Shape of numbers\", numbers.shape)\n",
        "print(\"Shape of modes\", vibres.modes.shape)\n",
        "print(\"Shape of freqs\", vibres.freqs.shape)"
      ]
    },
    {
      "cell_type": "code",
      "execution_count": null,
      "id": "7b47993d",
      "metadata": {},
      "outputs": [],
      "source": [
        "modes = vibres.modes / torch.norm(vibres.modes, dim=-2, keepdim=True)\n",
        "nummodes = num_vibres.modes / torch.norm(num_vibres.modes, dim=-2, keepdim=True)\n"
      ]
    },
    {
      "cell_type": "code",
      "execution_count": null,
      "id": "8a514200",
      "metadata": {},
      "outputs": [],
      "source": [
        "vib0 = get_normal_mode(numbers, positions, modes[:, 0])\n",
        "vib1 = get_normal_mode(numbers, positions, modes[:, 1])\n",
        "vib2 = get_normal_mode(numbers, positions, modes[:, 2])\n",
        "\n",
        "num_vib0 = get_normal_mode(numbers, positions, nummodes[:, 0])\n",
        "num_vib1 = get_normal_mode(numbers, positions, nummodes[:, 1])\n",
        "num_vib2 = get_normal_mode(numbers, positions, nummodes[:, 2])"
      ]
    },
    {
      "cell_type": "markdown",
      "id": "e76f150a",
      "metadata": {},
      "source": [
        "### Modes"
      ]
    },
    {
      "cell_type": "code",
      "execution_count": null,
      "id": "9f9a0101",
      "metadata": {},
      "outputs": [],
      "source": [
        "print(f\"This is the bending mode at {vibres.freqs[0]} or {num_vibres.freqs[0]}.\")\n",
        "view1 = p3d.view(width=300, height=300)\n",
        "view1.addModel(vib0, \"xyz\", {\"vibrate\": {\"frames\": 10, \"amplitude\": 0.75}})\n",
        "view1.setViewStyle({\"style\": \"outline\", \"width\": 0.05})\n",
        "view1.setStyle({\"stick\": {}, \"sphere\": {\"scale\": 0.25}})\n",
        "view1.animate({\"loop\": \"backAndForth\"})\n",
        "view1.rotate(-90, \"x\")\n",
        "view1.zoomTo()\n",
        "\n",
        "view2 = p3d.view(width=300, height=300)\n",
        "view2.addModel(num_vib0, \"xyz\", {\"vibrate\": {\"frames\": 10, \"amplitude\": 0.75}})\n",
        "view2.setViewStyle({\"style\": \"outline\", \"width\": 0.05})\n",
        "view2.setStyle({\"stick\": {}, \"sphere\": {\"scale\": 0.25}})\n",
        "view2.animate({\"loop\": \"backAndForth\"})\n",
        "view2.rotate(-90, \"x\")\n",
        "view2.zoomTo()\n",
        "\n",
        "view1.show()\n",
        "view2.show()"
      ]
    },
    {
      "cell_type": "code",
      "execution_count": null,
      "id": "5ce0fafc",
      "metadata": {},
      "outputs": [],
      "source": [
        "print(\n",
        "    f\"This is the symmetric stretching at {vibres.freqs[1]} or {num_vibres.freqs[1]}.\"\n",
        ")\n",
        "view1 = p3d.view(width=300, height=300)\n",
        "view1.addModel(vib1, \"xyz\", {\"vibrate\": {\"frames\": 10, \"amplitude\": 0.75}})\n",
        "view1.setViewStyle({\"style\": \"outline\", \"width\": 0.05})\n",
        "view1.setStyle({\"stick\": {}, \"sphere\": {\"scale\": 0.25}})\n",
        "view1.animate({\"loop\": \"backAndForth\"})\n",
        "view1.rotate(-90, \"x\")\n",
        "view1.zoomTo()\n",
        "\n",
        "view2 = p3d.view(width=300, height=300)\n",
        "view2.addModel(num_vib1, \"xyz\", {\"vibrate\": {\"frames\": 10, \"amplitude\": 0.75}})\n",
        "view2.setViewStyle({\"style\": \"outline\", \"width\": 0.05})\n",
        "view2.setStyle({\"stick\": {}, \"sphere\": {\"scale\": 0.25}})\n",
        "view2.animate({\"loop\": \"backAndForth\"})\n",
        "view2.rotate(-90, \"x\")\n",
        "view2.zoomTo()\n",
        "\n",
        "view1.show()\n",
        "view2.show()"
      ]
    },
    {
      "cell_type": "code",
      "execution_count": null,
      "id": "b7aef802",
      "metadata": {},
      "outputs": [],
      "source": [
        "print(\n",
        "    f\"This is the asymmetric stretching mode at {vibres.freqs[2]} or {num_vibres.freqs[2]}.\"\n",
        ")\n",
        "view1 = p3d.view(width=300, height=300)\n",
        "view1.addModel(vib2, \"xyz\", {\"vibrate\": {\"frames\": 10, \"amplitude\": 0.75}})\n",
        "view1.setViewStyle({\"style\": \"outline\", \"width\": 0.05})\n",
        "view1.setStyle({\"stick\": {}, \"sphere\": {\"scale\": 0.25}})\n",
        "view1.animate({\"loop\": \"backAndForth\"})\n",
        "view1.rotate(-90, \"x\")\n",
        "view1.zoomTo()\n",
        "\n",
        "view2 = p3d.view(width=300, height=300)\n",
        "view2.addModel(num_vib2, \"xyz\", {\"vibrate\": {\"frames\": 10, \"amplitude\": 0.75}})\n",
        "view2.setViewStyle({\"style\": \"outline\", \"width\": 0.05})\n",
        "view2.setStyle({\"stick\": {}, \"sphere\": {\"scale\": 0.25}})\n",
        "view2.animate({\"loop\": \"backAndForth\"})\n",
        "view2.rotate(-90, \"x\")\n",
        "view2.zoomTo()\n",
        "\n",
        "view1.show()\n",
        "view2.show()"
      ]
    }
  ],
  "metadata": {
    "kernelspec": {
      "display_name": "Python 3 (ipykernel)",
      "language": "python",
      "name": "python3"
    },
    "language_info": {
      "codemirror_mode": {
        "name": "ipython",
        "version": 3
      },
      "file_extension": ".py",
      "mimetype": "text/x-python",
      "name": "python",
      "nbconvert_exporter": "python",
      "pygments_lexer": "ipython3",
      "version": "3.10.6"
    }
  },
  "nbformat": 4,
  "nbformat_minor": 5
}
